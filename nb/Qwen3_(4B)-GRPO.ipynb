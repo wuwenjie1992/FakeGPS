{
  "cells": [
    {
      "cell_type": "markdown",
      "metadata": {
        "id": "view-in-github",
        "colab_type": "text"
      },
      "source": [
        "<a href=\"https://colab.research.google.com/github/wuwenjie1992/FakeGPS/blob/master/nb/Qwen3_(4B)-GRPO.ipynb\" target=\"_parent\"><img src=\"https://colab.research.google.com/assets/colab-badge.svg\" alt=\"Open In Colab\"/></a>"
      ]
    },
    {
      "cell_type": "markdown",
      "metadata": {
        "id": "i9Hb6Dvoi2VM"
      },
      "source": [
        "To run this, press \"*Runtime*\" and press \"*Run all*\" on a **free** Tesla T4 Google Colab instance!\n",
        "<div class=\"align-center\">\n",
        "<a href=\"https://unsloth.ai/\"><img src=\"https://github.com/unslothai/unsloth/raw/main/images/unsloth%20new%20logo.png\" width=\"115\"></a>\n",
        "<a href=\"https://discord.gg/unsloth\"><img src=\"https://github.com/unslothai/unsloth/raw/main/images/Discord button.png\" width=\"145\"></a>\n",
        "<a href=\"https://docs.unsloth.ai/\"><img src=\"https://github.com/unslothai/unsloth/blob/main/images/documentation%20green%20button.png?raw=true\" width=\"125\"></a></a> Join Discord if you need help + ⭐ <i>Star us on <a href=\"https://github.com/unslothai/unsloth\">Github</a> </i> ⭐\n",
        "</div>\n",
        "\n",
        "To install Unsloth on your own computer, follow the installation instructions on our Github page [here](https://docs.unsloth.ai/get-started/installing-+-updating).\n",
        "\n",
        "You will learn how to do [data prep](#Data), how to [train](#Train), how to [run the model](#Inference), & [how to save it](#Save)\n"
      ]
    },
    {
      "cell_type": "markdown",
      "metadata": {
        "id": "6I4w4OUE9lvo"
      },
      "source": [
        "### News"
      ]
    },
    {
      "cell_type": "markdown",
      "metadata": {
        "id": "furZbyFy9lvq"
      },
      "source": [
        "Read our **[Qwen3 Guide](https://docs.unsloth.ai/basics/qwen3-how-to-run-and-fine-tune)** and check out our new **[Dynamic 2.0](https://docs.unsloth.ai/basics/unsloth-dynamic-2.0-ggufs)** quants which outperforms other quantization methods!\n",
        "\n",
        "Visit our docs for all our [model uploads](https://docs.unsloth.ai/get-started/all-our-models) and [notebooks](https://docs.unsloth.ai/get-started/unsloth-notebooks).\n"
      ]
    },
    {
      "cell_type": "markdown",
      "metadata": {
        "id": "nt29NJfP9lvs"
      },
      "source": [
        "### Installation"
      ]
    },
    {
      "cell_type": "code",
      "execution_count": 1,
      "metadata": {
        "id": "AgKwzU9L9lvs"
      },
      "outputs": [],
      "source": [
        "%%capture\n",
        "import os\n",
        "if \"COLAB_\" not in \"\".join(os.environ.keys()):\n",
        "    !pip install unsloth vllm\n",
        "else:\n",
        "    # [NOTE] Do the below ONLY in Colab! Use [[pip install unsloth vllm]]\n",
        "    !pip install --no-deps unsloth vllm"
      ]
    },
    {
      "cell_type": "code",
      "execution_count": 2,
      "metadata": {
        "id": "9jZhY2Dm9lvt"
      },
      "outputs": [],
      "source": [
        "#@title Colab Extra Install { display-mode: \"form\" }\n",
        "%%capture\n",
        "import os\n",
        "if \"COLAB_\" not in \"\".join(os.environ.keys()):\n",
        "    !pip install unsloth vllm\n",
        "else:\n",
        "    !pip install --no-deps unsloth vllm\n",
        "    # [NOTE] Do the below ONLY in Colab! Use [[pip install unsloth vllm]]\n",
        "    # Skip restarting message in Colab\n",
        "    import sys, re, requests; modules = list(sys.modules.keys())\n",
        "    for x in modules: sys.modules.pop(x) if \"PIL\" in x or \"google\" in x else None\n",
        "    !pip install --no-deps bitsandbytes accelerate xformers==0.0.29.post3 peft \"trl==0.15.2\" triton cut_cross_entropy unsloth_zoo\n",
        "    !pip install sentencepiece protobuf \"datasets>=3.4.1\" huggingface_hub hf_transfer\n",
        "\n",
        "    # vLLM requirements - vLLM breaks Colab due to reinstalling numpy\n",
        "    f = requests.get(\"https://raw.githubusercontent.com/vllm-project/vllm/refs/heads/main/requirements/common.txt\").content\n",
        "    with open(\"vllm_requirements.txt\", \"wb\") as file:\n",
        "        file.write(re.sub(rb\"(transformers|numpy|xformers)[^\\n]{1,}\\n\", b\"\", f))\n",
        "    !pip install -r vllm_requirements.txt"
      ]
    },
    {
      "cell_type": "markdown",
      "metadata": {
        "id": "ZkH_y8UC9lvv"
      },
      "source": [
        "### Unsloth"
      ]
    },
    {
      "cell_type": "markdown",
      "metadata": {
        "id": "jN75nmdx9lvw"
      },
      "source": [
        "Goal: To convert `Qwen3-4B-Base` into a reasoning model via GRPO by using OpenR1's Math dataset.\n",
        "\n",
        "We first pre fine-tune the model to make GRPO skip trying to match formatting - this speeds GRPO up."
      ]
    },
    {
      "cell_type": "code",
      "execution_count": 3,
      "metadata": {
        "colab": {
          "base_uri": "https://localhost:8080/",
          "height": 301
        },
        "id": "DkIvEkIIkEyB",
        "outputId": "fbc9da64-0816-4bff-e91e-f64daa3d516c"
      },
      "outputs": [
        {
          "output_type": "stream",
          "name": "stdout",
          "text": [
            "🦥 Unsloth: Will patch your computer to enable 2x faster free finetuning.\n"
          ]
        },
        {
          "output_type": "error",
          "ename": "KeyboardInterrupt",
          "evalue": "",
          "traceback": [
            "\u001b[0;31m---------------------------------------------------------------------------\u001b[0m",
            "\u001b[0;31mKeyboardInterrupt\u001b[0m                         Traceback (most recent call last)",
            "\u001b[0;32m<ipython-input-3-8d47ba451086>\u001b[0m in \u001b[0;36m<cell line: 0>\u001b[0;34m()\u001b[0m\n\u001b[0;32m----> 1\u001b[0;31m \u001b[0;32mfrom\u001b[0m \u001b[0munsloth\u001b[0m \u001b[0;32mimport\u001b[0m \u001b[0mFastLanguageModel\u001b[0m\u001b[0;34m\u001b[0m\u001b[0;34m\u001b[0m\u001b[0m\n\u001b[0m\u001b[1;32m      2\u001b[0m \u001b[0;32mimport\u001b[0m \u001b[0mtorch\u001b[0m\u001b[0;34m\u001b[0m\u001b[0;34m\u001b[0m\u001b[0m\n\u001b[1;32m      3\u001b[0m \u001b[0mmax_seq_length\u001b[0m \u001b[0;34m=\u001b[0m \u001b[0;36m2048\u001b[0m \u001b[0;31m# Can increase for longer reasoning traces\u001b[0m\u001b[0;34m\u001b[0m\u001b[0;34m\u001b[0m\u001b[0m\n\u001b[1;32m      4\u001b[0m \u001b[0mlora_rank\u001b[0m \u001b[0;34m=\u001b[0m \u001b[0;36m32\u001b[0m \u001b[0;31m# Larger rank = smarter, but slower\u001b[0m\u001b[0;34m\u001b[0m\u001b[0;34m\u001b[0m\u001b[0m\n\u001b[1;32m      5\u001b[0m \u001b[0;34m\u001b[0m\u001b[0m\n",
            "\u001b[0;32m/usr/local/lib/python3.11/dist-packages/unsloth/__init__.py\u001b[0m in \u001b[0;36m<module>\u001b[0;34m\u001b[0m\n\u001b[1;32m    245\u001b[0m \u001b[0;32mpass\u001b[0m\u001b[0;34m\u001b[0m\u001b[0;34m\u001b[0m\u001b[0m\n\u001b[1;32m    246\u001b[0m \u001b[0;34m\u001b[0m\u001b[0m\n\u001b[0;32m--> 247\u001b[0;31m \u001b[0;32mfrom\u001b[0m \u001b[0;34m.\u001b[0m\u001b[0mmodels\u001b[0m \u001b[0;32mimport\u001b[0m \u001b[0;34m*\u001b[0m\u001b[0;34m\u001b[0m\u001b[0;34m\u001b[0m\u001b[0m\n\u001b[0m\u001b[1;32m    248\u001b[0m \u001b[0;32mfrom\u001b[0m \u001b[0;34m.\u001b[0m\u001b[0mmodels\u001b[0m \u001b[0;32mimport\u001b[0m \u001b[0m__version__\u001b[0m\u001b[0;34m\u001b[0m\u001b[0;34m\u001b[0m\u001b[0m\n\u001b[1;32m    249\u001b[0m \u001b[0;32mfrom\u001b[0m \u001b[0;34m.\u001b[0m\u001b[0msave\u001b[0m \u001b[0;32mimport\u001b[0m \u001b[0;34m*\u001b[0m\u001b[0;34m\u001b[0m\u001b[0;34m\u001b[0m\u001b[0m\n",
            "\u001b[0;32m/usr/local/lib/python3.11/dist-packages/unsloth/models/__init__.py\u001b[0m in \u001b[0;36m<module>\u001b[0;34m\u001b[0m\n\u001b[1;32m     13\u001b[0m \u001b[0;31m# limitations under the License.\u001b[0m\u001b[0;34m\u001b[0m\u001b[0;34m\u001b[0m\u001b[0m\n\u001b[1;32m     14\u001b[0m \u001b[0;34m\u001b[0m\u001b[0m\n\u001b[0;32m---> 15\u001b[0;31m \u001b[0;32mfrom\u001b[0m \u001b[0;34m.\u001b[0m\u001b[0mllama\u001b[0m     \u001b[0;32mimport\u001b[0m \u001b[0mFastLlamaModel\u001b[0m\u001b[0;34m\u001b[0m\u001b[0;34m\u001b[0m\u001b[0m\n\u001b[0m\u001b[1;32m     16\u001b[0m \u001b[0;32mfrom\u001b[0m \u001b[0;34m.\u001b[0m\u001b[0mloader\u001b[0m    \u001b[0;32mimport\u001b[0m \u001b[0mFastLanguageModel\u001b[0m\u001b[0;34m,\u001b[0m \u001b[0mFastVisionModel\u001b[0m\u001b[0;34m,\u001b[0m \u001b[0mFastTextModel\u001b[0m\u001b[0;34m,\u001b[0m \u001b[0mFastModel\u001b[0m\u001b[0;34m\u001b[0m\u001b[0;34m\u001b[0m\u001b[0m\n\u001b[1;32m     17\u001b[0m \u001b[0;32mfrom\u001b[0m \u001b[0;34m.\u001b[0m\u001b[0mmistral\u001b[0m   \u001b[0;32mimport\u001b[0m \u001b[0mFastMistralModel\u001b[0m\u001b[0;34m\u001b[0m\u001b[0;34m\u001b[0m\u001b[0m\n",
            "\u001b[0;32m/usr/local/lib/python3.11/dist-packages/unsloth/models/llama.py\u001b[0m in \u001b[0;36m<module>\u001b[0;34m\u001b[0m\n\u001b[1;32m     18\u001b[0m \u001b[0;32mimport\u001b[0m \u001b[0mfunctools\u001b[0m\u001b[0;34m\u001b[0m\u001b[0;34m\u001b[0m\u001b[0m\n\u001b[1;32m     19\u001b[0m \u001b[0;32mfrom\u001b[0m \u001b[0mtyping\u001b[0m \u001b[0;32mimport\u001b[0m \u001b[0mOptional\u001b[0m\u001b[0;34m,\u001b[0m \u001b[0mTuple\u001b[0m\u001b[0;34m,\u001b[0m \u001b[0mList\u001b[0m\u001b[0;34m,\u001b[0m \u001b[0mUnion\u001b[0m\u001b[0;34m\u001b[0m\u001b[0;34m\u001b[0m\u001b[0m\n\u001b[0;32m---> 20\u001b[0;31m \u001b[0;32mfrom\u001b[0m \u001b[0;34m.\u001b[0m\u001b[0m_utils\u001b[0m \u001b[0;32mimport\u001b[0m \u001b[0;34m*\u001b[0m\u001b[0;34m\u001b[0m\u001b[0;34m\u001b[0m\u001b[0m\n\u001b[0m\u001b[1;32m     21\u001b[0m \u001b[0;32mfrom\u001b[0m \u001b[0;34m.\u001b[0m\u001b[0m_utils\u001b[0m \u001b[0;32mimport\u001b[0m \u001b[0mpatch_unsloth_smart_gradient_checkpointing\u001b[0m\u001b[0;34m\u001b[0m\u001b[0;34m\u001b[0m\u001b[0m\n\u001b[1;32m     22\u001b[0m \u001b[0;32mfrom\u001b[0m \u001b[0;34m.\u001b[0m\u001b[0m_utils\u001b[0m \u001b[0;32mimport\u001b[0m \u001b[0m__version__\u001b[0m\u001b[0;34m\u001b[0m\u001b[0;34m\u001b[0m\u001b[0m\n",
            "\u001b[0;32m/usr/local/lib/python3.11/dist-packages/unsloth/models/_utils.py\u001b[0m in \u001b[0;36m<module>\u001b[0;34m\u001b[0m\n\u001b[1;32m     81\u001b[0m     \u001b[0mpatch_tokenizer\u001b[0m \u001b[0;32mas\u001b[0m \u001b[0m_patch_tokenizer\u001b[0m\u001b[0;34m,\u001b[0m\u001b[0;34m\u001b[0m\u001b[0;34m\u001b[0m\u001b[0m\n\u001b[1;32m     82\u001b[0m )\n\u001b[0;32m---> 83\u001b[0;31m from unsloth_zoo.patching_utils import (\n\u001b[0m\u001b[1;32m     84\u001b[0m     \u001b[0mpatch_compiling_bitsandbytes\u001b[0m\u001b[0;34m,\u001b[0m\u001b[0;34m\u001b[0m\u001b[0;34m\u001b[0m\u001b[0m\n\u001b[1;32m     85\u001b[0m     \u001b[0mpatch_layernorm\u001b[0m\u001b[0;34m,\u001b[0m\u001b[0;34m\u001b[0m\u001b[0;34m\u001b[0m\u001b[0m\n",
            "\u001b[0;32m/usr/local/lib/python3.11/dist-packages/unsloth_zoo/patching_utils.py\u001b[0m in \u001b[0;36m<module>\u001b[0;34m\u001b[0m\n\u001b[1;32m    430\u001b[0m \u001b[0;31m# Patch for dynamic 4bit quantization\u001b[0m\u001b[0;34m\u001b[0m\u001b[0;34m\u001b[0m\u001b[0m\n\u001b[1;32m    431\u001b[0m \u001b[0;32mimport\u001b[0m \u001b[0minspect\u001b[0m\u001b[0;34m\u001b[0m\u001b[0;34m\u001b[0m\u001b[0m\n\u001b[0;32m--> 432\u001b[0;31m \u001b[0;32mimport\u001b[0m \u001b[0mtransformers\u001b[0m\u001b[0;34m.\u001b[0m\u001b[0mintegrations\u001b[0m\u001b[0;34m.\u001b[0m\u001b[0mbitsandbytes\u001b[0m\u001b[0;34m\u001b[0m\u001b[0;34m\u001b[0m\u001b[0m\n\u001b[0m\u001b[1;32m    433\u001b[0m \u001b[0;32mif\u001b[0m \u001b[0mhasattr\u001b[0m\u001b[0;34m(\u001b[0m\u001b[0mtransformers\u001b[0m\u001b[0;34m.\u001b[0m\u001b[0mintegrations\u001b[0m\u001b[0;34m.\u001b[0m\u001b[0mbitsandbytes\u001b[0m\u001b[0;34m,\u001b[0m \u001b[0;34m\"_replace_with_bnb_linear\"\u001b[0m\u001b[0;34m)\u001b[0m \u001b[0;32mand\u001b[0m\u001b[0;31m \u001b[0m\u001b[0;31m\\\u001b[0m\u001b[0;34m\u001b[0m\u001b[0;34m\u001b[0m\u001b[0m\n\u001b[1;32m    434\u001b[0m     \u001b[0;34m(\u001b[0m\u001b[0mtransformers\u001b[0m\u001b[0;34m.\u001b[0m\u001b[0mintegrations\u001b[0m\u001b[0;34m.\u001b[0m\u001b[0mbitsandbytes\u001b[0m\u001b[0;34m.\u001b[0m\u001b[0m_replace_with_bnb_linear\u001b[0m\u001b[0;34m.\u001b[0m\u001b[0m__name__\u001b[0m \u001b[0;34m!=\u001b[0m \u001b[0;34m\"_unsloth_replace_with_bnb_linear\"\u001b[0m\u001b[0;34m)\u001b[0m\u001b[0;34m:\u001b[0m\u001b[0;34m\u001b[0m\u001b[0;34m\u001b[0m\u001b[0m\n",
            "\u001b[0;32m/usr/local/lib/python3.11/dist-packages/transformers/__init__.py\u001b[0m in \u001b[0;36m<module>\u001b[0;34m\u001b[0m\n\u001b[1;32m     24\u001b[0m \u001b[0;34m\u001b[0m\u001b[0m\n\u001b[1;32m     25\u001b[0m \u001b[0;31m# Check the dependencies satisfy the minimal versions required.\u001b[0m\u001b[0;34m\u001b[0m\u001b[0;34m\u001b[0m\u001b[0m\n\u001b[0;32m---> 26\u001b[0;31m \u001b[0;32mfrom\u001b[0m \u001b[0;34m.\u001b[0m \u001b[0;32mimport\u001b[0m \u001b[0mdependency_versions_check\u001b[0m\u001b[0;34m\u001b[0m\u001b[0;34m\u001b[0m\u001b[0m\n\u001b[0m\u001b[1;32m     27\u001b[0m from .utils import (\n\u001b[1;32m     28\u001b[0m     \u001b[0mOptionalDependencyNotAvailable\u001b[0m\u001b[0;34m,\u001b[0m\u001b[0;34m\u001b[0m\u001b[0;34m\u001b[0m\u001b[0m\n",
            "\u001b[0;32m/usr/local/lib/python3.11/dist-packages/transformers/dependency_versions_check.py\u001b[0m in \u001b[0;36m<module>\u001b[0;34m\u001b[0m\n\u001b[1;32m     14\u001b[0m \u001b[0;34m\u001b[0m\u001b[0m\n\u001b[1;32m     15\u001b[0m \u001b[0;32mfrom\u001b[0m \u001b[0;34m.\u001b[0m\u001b[0mdependency_versions_table\u001b[0m \u001b[0;32mimport\u001b[0m \u001b[0mdeps\u001b[0m\u001b[0;34m\u001b[0m\u001b[0;34m\u001b[0m\u001b[0m\n\u001b[0;32m---> 16\u001b[0;31m \u001b[0;32mfrom\u001b[0m \u001b[0;34m.\u001b[0m\u001b[0mutils\u001b[0m\u001b[0;34m.\u001b[0m\u001b[0mversions\u001b[0m \u001b[0;32mimport\u001b[0m \u001b[0mrequire_version\u001b[0m\u001b[0;34m,\u001b[0m \u001b[0mrequire_version_core\u001b[0m\u001b[0;34m\u001b[0m\u001b[0;34m\u001b[0m\u001b[0m\n\u001b[0m\u001b[1;32m     17\u001b[0m \u001b[0;34m\u001b[0m\u001b[0m\n\u001b[1;32m     18\u001b[0m \u001b[0;34m\u001b[0m\u001b[0m\n",
            "\u001b[0;32m/usr/local/lib/python3.11/dist-packages/transformers/utils/__init__.py\u001b[0m in \u001b[0;36m<module>\u001b[0;34m\u001b[0m\n\u001b[1;32m     23\u001b[0m \u001b[0;32mfrom\u001b[0m \u001b[0;34m.\u001b[0m\u001b[0;34m.\u001b[0m \u001b[0;32mimport\u001b[0m \u001b[0m__version__\u001b[0m\u001b[0;34m\u001b[0m\u001b[0;34m\u001b[0m\u001b[0m\n\u001b[1;32m     24\u001b[0m \u001b[0;32mfrom\u001b[0m \u001b[0;34m.\u001b[0m\u001b[0mbackbone_utils\u001b[0m \u001b[0;32mimport\u001b[0m \u001b[0mBackboneConfigMixin\u001b[0m\u001b[0;34m,\u001b[0m \u001b[0mBackboneMixin\u001b[0m\u001b[0;34m\u001b[0m\u001b[0;34m\u001b[0m\u001b[0m\n\u001b[0;32m---> 25\u001b[0;31m \u001b[0;32mfrom\u001b[0m \u001b[0;34m.\u001b[0m\u001b[0mchat_template_utils\u001b[0m \u001b[0;32mimport\u001b[0m \u001b[0mDocstringParsingException\u001b[0m\u001b[0;34m,\u001b[0m \u001b[0mTypeHintParsingException\u001b[0m\u001b[0;34m,\u001b[0m \u001b[0mget_json_schema\u001b[0m\u001b[0;34m\u001b[0m\u001b[0;34m\u001b[0m\u001b[0m\n\u001b[0m\u001b[1;32m     26\u001b[0m \u001b[0;32mfrom\u001b[0m \u001b[0;34m.\u001b[0m\u001b[0mconstants\u001b[0m \u001b[0;32mimport\u001b[0m \u001b[0mIMAGENET_DEFAULT_MEAN\u001b[0m\u001b[0;34m,\u001b[0m \u001b[0mIMAGENET_DEFAULT_STD\u001b[0m\u001b[0;34m,\u001b[0m \u001b[0mIMAGENET_STANDARD_MEAN\u001b[0m\u001b[0;34m,\u001b[0m \u001b[0mIMAGENET_STANDARD_STD\u001b[0m\u001b[0;34m\u001b[0m\u001b[0;34m\u001b[0m\u001b[0m\n\u001b[1;32m     27\u001b[0m from .doc import (\n",
            "\u001b[0;32m/usr/local/lib/python3.11/dist-packages/transformers/utils/chat_template_utils.py\u001b[0m in \u001b[0;36m<module>\u001b[0;34m\u001b[0m\n\u001b[1;32m     24\u001b[0m \u001b[0;32mfrom\u001b[0m \u001b[0mpackaging\u001b[0m \u001b[0;32mimport\u001b[0m \u001b[0mversion\u001b[0m\u001b[0;34m\u001b[0m\u001b[0;34m\u001b[0m\u001b[0m\n\u001b[1;32m     25\u001b[0m \u001b[0;34m\u001b[0m\u001b[0m\n\u001b[0;32m---> 26\u001b[0;31m \u001b[0;32mfrom\u001b[0m \u001b[0;34m.\u001b[0m\u001b[0mimport_utils\u001b[0m \u001b[0;32mimport\u001b[0m \u001b[0mis_jinja_available\u001b[0m\u001b[0;34m,\u001b[0m \u001b[0mis_torch_available\u001b[0m\u001b[0;34m,\u001b[0m \u001b[0mis_vision_available\u001b[0m\u001b[0;34m\u001b[0m\u001b[0;34m\u001b[0m\u001b[0m\n\u001b[0m\u001b[1;32m     27\u001b[0m \u001b[0;34m\u001b[0m\u001b[0m\n\u001b[1;32m     28\u001b[0m \u001b[0;34m\u001b[0m\u001b[0m\n",
            "\u001b[0;32m/usr/local/lib/python3.11/dist-packages/transformers/utils/import_utils.py\u001b[0m in \u001b[0;36m<module>\u001b[0;34m\u001b[0m\n\u001b[1;32m    173\u001b[0m \u001b[0m_pandas_available\u001b[0m \u001b[0;34m=\u001b[0m \u001b[0m_is_package_available\u001b[0m\u001b[0;34m(\u001b[0m\u001b[0;34m\"pandas\"\u001b[0m\u001b[0;34m)\u001b[0m\u001b[0;34m\u001b[0m\u001b[0;34m\u001b[0m\u001b[0m\n\u001b[1;32m    174\u001b[0m \u001b[0m_peft_available\u001b[0m \u001b[0;34m=\u001b[0m \u001b[0m_is_package_available\u001b[0m\u001b[0;34m(\u001b[0m\u001b[0;34m\"peft\"\u001b[0m\u001b[0;34m)\u001b[0m\u001b[0;34m\u001b[0m\u001b[0;34m\u001b[0m\u001b[0m\n\u001b[0;32m--> 175\u001b[0;31m \u001b[0m_phonemizer_available\u001b[0m \u001b[0;34m=\u001b[0m \u001b[0m_is_package_available\u001b[0m\u001b[0;34m(\u001b[0m\u001b[0;34m\"phonemizer\"\u001b[0m\u001b[0;34m)\u001b[0m\u001b[0;34m\u001b[0m\u001b[0;34m\u001b[0m\u001b[0m\n\u001b[0m\u001b[1;32m    176\u001b[0m \u001b[0m_uroman_available\u001b[0m \u001b[0;34m=\u001b[0m \u001b[0m_is_package_available\u001b[0m\u001b[0;34m(\u001b[0m\u001b[0;34m\"uroman\"\u001b[0m\u001b[0;34m)\u001b[0m\u001b[0;34m\u001b[0m\u001b[0;34m\u001b[0m\u001b[0m\n\u001b[1;32m    177\u001b[0m \u001b[0m_psutil_available\u001b[0m \u001b[0;34m=\u001b[0m \u001b[0m_is_package_available\u001b[0m\u001b[0;34m(\u001b[0m\u001b[0;34m\"psutil\"\u001b[0m\u001b[0;34m)\u001b[0m\u001b[0;34m\u001b[0m\u001b[0;34m\u001b[0m\u001b[0m\n",
            "\u001b[0;32m/usr/local/lib/python3.11/dist-packages/transformers/utils/import_utils.py\u001b[0m in \u001b[0;36m_is_package_available\u001b[0;34m(pkg_name, return_version)\u001b[0m\n\u001b[1;32m     42\u001b[0m \u001b[0;32mdef\u001b[0m \u001b[0m_is_package_available\u001b[0m\u001b[0;34m(\u001b[0m\u001b[0mpkg_name\u001b[0m\u001b[0;34m:\u001b[0m \u001b[0mstr\u001b[0m\u001b[0;34m,\u001b[0m \u001b[0mreturn_version\u001b[0m\u001b[0;34m:\u001b[0m \u001b[0mbool\u001b[0m \u001b[0;34m=\u001b[0m \u001b[0;32mFalse\u001b[0m\u001b[0;34m)\u001b[0m \u001b[0;34m->\u001b[0m \u001b[0mUnion\u001b[0m\u001b[0;34m[\u001b[0m\u001b[0mTuple\u001b[0m\u001b[0;34m[\u001b[0m\u001b[0mbool\u001b[0m\u001b[0;34m,\u001b[0m \u001b[0mstr\u001b[0m\u001b[0;34m]\u001b[0m\u001b[0;34m,\u001b[0m \u001b[0mbool\u001b[0m\u001b[0;34m]\u001b[0m\u001b[0;34m:\u001b[0m\u001b[0;34m\u001b[0m\u001b[0;34m\u001b[0m\u001b[0m\n\u001b[1;32m     43\u001b[0m     \u001b[0;31m# Check if the package spec exists and grab its version to avoid importing a local directory\u001b[0m\u001b[0;34m\u001b[0m\u001b[0;34m\u001b[0m\u001b[0m\n\u001b[0;32m---> 44\u001b[0;31m     \u001b[0mpackage_exists\u001b[0m \u001b[0;34m=\u001b[0m \u001b[0mimportlib\u001b[0m\u001b[0;34m.\u001b[0m\u001b[0mutil\u001b[0m\u001b[0;34m.\u001b[0m\u001b[0mfind_spec\u001b[0m\u001b[0;34m(\u001b[0m\u001b[0mpkg_name\u001b[0m\u001b[0;34m)\u001b[0m \u001b[0;32mis\u001b[0m \u001b[0;32mnot\u001b[0m \u001b[0;32mNone\u001b[0m\u001b[0;34m\u001b[0m\u001b[0;34m\u001b[0m\u001b[0m\n\u001b[0m\u001b[1;32m     45\u001b[0m     \u001b[0mpackage_version\u001b[0m \u001b[0;34m=\u001b[0m \u001b[0;34m\"N/A\"\u001b[0m\u001b[0;34m\u001b[0m\u001b[0;34m\u001b[0m\u001b[0m\n\u001b[1;32m     46\u001b[0m     \u001b[0;32mif\u001b[0m \u001b[0mpackage_exists\u001b[0m\u001b[0;34m:\u001b[0m\u001b[0;34m\u001b[0m\u001b[0;34m\u001b[0m\u001b[0m\n",
            "\u001b[0;32m/usr/lib/python3.11/importlib/util.py\u001b[0m in \u001b[0;36mfind_spec\u001b[0;34m(name, package)\u001b[0m\n",
            "\u001b[0;32m/usr/lib/python3.11/importlib/_bootstrap.py\u001b[0m in \u001b[0;36m_find_spec\u001b[0;34m(name, path, target)\u001b[0m\n",
            "\u001b[0;32m/usr/lib/python3.11/importlib/_bootstrap_external.py\u001b[0m in \u001b[0;36mfind_spec\u001b[0;34m(cls, fullname, path, target)\u001b[0m\n",
            "\u001b[0;32m/usr/lib/python3.11/importlib/_bootstrap_external.py\u001b[0m in \u001b[0;36m_get_spec\u001b[0;34m(cls, fullname, path, target)\u001b[0m\n",
            "\u001b[0;32m/usr/lib/python3.11/importlib/_bootstrap_external.py\u001b[0m in \u001b[0;36mfind_spec\u001b[0;34m(self, fullname, target)\u001b[0m\n",
            "\u001b[0;32m/usr/lib/python3.11/importlib/_bootstrap_external.py\u001b[0m in \u001b[0;36m_relax_case\u001b[0;34m()\u001b[0m\n",
            "\u001b[0;31mKeyboardInterrupt\u001b[0m: "
          ]
        }
      ],
      "source": [
        "from unsloth import FastLanguageModel\n",
        "import torch\n",
        "max_seq_length = 2048 # Can increase for longer reasoning traces\n",
        "lora_rank = 32 # Larger rank = smarter, but slower\n",
        "\n",
        "model, tokenizer = FastLanguageModel.from_pretrained(\n",
        "    model_name = \"unsloth/Qwen3-0.6B-Base\",\n",
        "    max_seq_length = max_seq_length,\n",
        "    load_in_4bit = False, # False for LoRA 16bit\n",
        "    fast_inference = True, # Enable vLLM fast inference\n",
        "    max_lora_rank = lora_rank,\n",
        "    gpu_memory_utilization = 0.7, # Reduce if out of memory\n",
        ")\n",
        "\n",
        "model = FastLanguageModel.get_peft_model(\n",
        "    model,\n",
        "    r = lora_rank, # Choose any number > 0 ! Suggested 8, 16, 32, 64, 128\n",
        "    target_modules = [\n",
        "        \"q_proj\", \"k_proj\", \"v_proj\", \"o_proj\",\n",
        "        \"gate_proj\", \"up_proj\", \"down_proj\",\n",
        "    ],\n",
        "    lora_alpha = lora_rank*2, # *2 speeds up training\n",
        "    use_gradient_checkpointing = \"unsloth\", # Reduces memory usage\n",
        "    random_state = 3407,\n",
        ")"
      ]
    },
    {
      "cell_type": "markdown",
      "metadata": {
        "id": "W9DuiVRLhMco"
      },
      "source": [
        "### GRPO chat template\n",
        "Since we're using a base model, we should set a chat template. You can make your own chat template as well!\n",
        "1. DeepSeek uses `<think>` and `</think>`, but this is **not** necessary - you can customize it however you like!\n",
        "2. A `system_prompt` is recommended to at least guide the model's responses."
      ]
    },
    {
      "cell_type": "code",
      "execution_count": null,
      "metadata": {
        "id": "6UjowCbT-cFz",
        "colab": {
          "base_uri": "https://localhost:8080/",
          "height": 53
        },
        "outputId": "71bd035e-6cc1-4c1f-979d-e52a700fd913"
      },
      "outputs": [
        {
          "output_type": "execute_result",
          "data": {
            "text/plain": [
              "'You are given a problem.\\nThink about the problem and provide your working out.\\nPlace it between <start_working_out> and <end_working_out>.\\nThen, provide your solution between <SOLUTION></SOLUTION>'"
            ],
            "application/vnd.google.colaboratory.intrinsic+json": {
              "type": "string"
            }
          },
          "metadata": {},
          "execution_count": 2
        }
      ],
      "source": [
        "reasoning_start = \"<start_working_out>\" # Acts as <think>\n",
        "reasoning_end   = \"<end_working_out>\"   # Acts as </think>\n",
        "solution_start  = \"<SOLUTION>\"\n",
        "solution_end    = \"</SOLUTION>\"\n",
        "\n",
        "system_prompt = \\\n",
        "f\"\"\"You are given a problem.\n",
        "Think about the problem and provide your working out.\n",
        "Place it between {reasoning_start} and {reasoning_end}.\n",
        "Then, provide your solution between {solution_start}{solution_end}\"\"\"\n",
        "system_prompt"
      ]
    },
    {
      "cell_type": "markdown",
      "source": [
        "We create a simple chat template below. Notice `add_generation_prompt` includes prepending `<start_working_out>` to guide the model to start its reasoning process."
      ],
      "metadata": {
        "id": "zGgs0MJkDkYL"
      }
    },
    {
      "cell_type": "code",
      "source": [
        "chat_template = \\\n",
        "    \"{% if messages[0]['role'] == 'system' %}\"\\\n",
        "        \"{{ messages[0]['content'] + eos_token }}\"\\\n",
        "        \"{% set loop_messages = messages[1:] %}\"\\\n",
        "    \"{% else %}\"\\\n",
        "        \"{{ '{system_prompt}' + eos_token }}\"\\\n",
        "        \"{% set loop_messages = messages %}\"\\\n",
        "    \"{% endif %}\"\\\n",
        "    \"{% for message in loop_messages %}\"\\\n",
        "        \"{% if message['role'] == 'user' %}\"\\\n",
        "            \"{{ message['content'] }}\"\\\n",
        "        \"{% elif message['role'] == 'assistant' %}\"\\\n",
        "            \"{{ message['content'] + eos_token }}\"\\\n",
        "        \"{% endif %}\"\\\n",
        "    \"{% endfor %}\"\\\n",
        "    \"{% if add_generation_prompt %}{{ '{reasoning_start}' }}\"\\\n",
        "    \"{% endif %}\"\n",
        "\n",
        "# Replace with out specific template:\n",
        "chat_template = chat_template\\\n",
        "    .replace(\"'{system_prompt}'\",   f\"'{system_prompt}'\")\\\n",
        "    .replace(\"'{reasoning_start}'\", f\"'{reasoning_start}'\")\n",
        "tokenizer.chat_template = chat_template"
      ],
      "metadata": {
        "id": "Y3fF9gMujY02"
      },
      "execution_count": null,
      "outputs": []
    },
    {
      "cell_type": "markdown",
      "source": [
        "Let's see how our chat template behaves on an example:"
      ],
      "metadata": {
        "id": "vEcLdymBEHdk"
      }
    },
    {
      "cell_type": "code",
      "source": [
        "tokenizer.apply_chat_template([\n",
        "    {\"role\" : \"user\", \"content\" : \"What is 1+1?\"},\n",
        "    {\"role\" : \"assistant\", \"content\" : f\"{reasoning_start}I think it's 2.{reasoning_end}{solution_start}2{solution_end}\"},\n",
        "    {\"role\" : \"user\", \"content\" : \"What is 2+2?\"},\n",
        "], tokenize = False, add_generation_prompt = True)"
      ],
      "metadata": {
        "id": "BciEDYSSYFNj",
        "colab": {
          "base_uri": "https://localhost:8080/",
          "height": 70
        },
        "outputId": "0d5669d2-6e42-4c2f-d751-8a72f72b45e4"
      },
      "execution_count": null,
      "outputs": [
        {
          "output_type": "execute_result",
          "data": {
            "text/plain": [
              "\"You are given a problem.\\nThink about the problem and provide your working out.\\nPlace it between <start_working_out> and <end_working_out>.\\nThen, provide your solution between <SOLUTION></SOLUTION><|endoftext|>What is 1+1?<start_working_out>I think it's 2.<end_working_out><SOLUTION>2</SOLUTION><|endoftext|>What is 2+2?<start_working_out>\""
            ],
            "application/vnd.google.colaboratory.intrinsic+json": {
              "type": "string"
            }
          },
          "metadata": {},
          "execution_count": 6
        }
      ]
    },
    {
      "cell_type": "markdown",
      "source": [
        "### Pre fine-tuning for formatting\n",
        "We now use a subset of NVIDIA's [Open Math Reasoning dataset](https://huggingface.co/datasets/nvidia/OpenMathReasoning) which was filtered to only include high quality DeepSeek R1 traces.\n",
        "\n",
        "We'll only filter ~59 or so examples to first \"prime\" / pre fine-tune the model to understand our custom GRPO formatting."
      ],
      "metadata": {
        "id": "_mdsuGjxHrjT"
      }
    },
    {
      "cell_type": "code",
      "source": [
        "from datasets import load_dataset\n",
        "import pandas as pd\n",
        "import numpy as np\n",
        "\n",
        "dataset = load_dataset(\"unsloth/OpenMathReasoning-mini\", split = \"cot\")\n",
        "dataset = dataset.to_pandas()[\n",
        "    [\"expected_answer\", \"problem\", \"generated_solution\"]\n",
        "]\n",
        "\n",
        "# Try converting to number - if not, replace with NaN\n",
        "is_number = pd.to_numeric(pd.Series(dataset[\"expected_answer\"]), errors = \"coerce\").notnull()\n",
        "# Select only numbers\n",
        "dataset = dataset.iloc[np.where(is_number)[0]]\n",
        "\n",
        "dataset"
      ],
      "metadata": {
        "id": "AXxM2lStVIkd",
        "colab": {
          "base_uri": "https://localhost:8080/",
          "height": 423
        },
        "outputId": "185b0c62-183a-4333-90d3-1af44e9376b0"
      },
      "execution_count": null,
      "outputs": [
        {
          "output_type": "execute_result",
          "data": {
            "text/plain": [
              "      expected_answer                                            problem  \\\n",
              "0                  14  Given $\\sqrt{x^2+165}-\\sqrt{x^2-52}=7$ and $x$...   \n",
              "6                  -2  Find the value of the parameter $a$ for which ...   \n",
              "9                  18  What is the sum of all real numbers $x$ for wh...   \n",
              "13                  2  Evaluate the sum \\(\\sum_{n=1}^\\infty \\frac{\\ph...   \n",
              "17                 30  What is the largest positive integer that divi...   \n",
              "...               ...                                                ...   \n",
              "19243             244  Let \\( p \\), \\( q \\), and \\( r \\) be the disti...   \n",
              "19245               1  A bug is on the $0$ of a number line. At any p...   \n",
              "19247               4  A bus left point X for point Y. Two hours late...   \n",
              "19248              18  Each interior angle of a regular n-gon measure...   \n",
              "19250          0.8960  Find the probability that the second blue resu...   \n",
              "\n",
              "                                      generated_solution  \n",
              "0      <think>\\nOkay, let's see. I need to solve the ...  \n",
              "6      <think>\\nOkay, so I need to find the value of ...  \n",
              "9      <think>\\nOkay, so I need to solve the equation...  \n",
              "13     <think>\\nOkay, so I need to evaluate the infin...  \n",
              "17     <think>\\nAlright, so I need to find the larges...  \n",
              "...                                                  ...  \n",
              "19243  <think>\\nOkay, so I need to find the value of ...  \n",
              "19245  <think>\\nOkay, so I have this problem where a ...  \n",
              "19247  <think>\\nOkay, let's tackle this problem step ...  \n",
              "19248  <think>\\nOkay, let's see. I need to find the n...  \n",
              "19250  <think>\\nOkay, so I need to find the probabili...  \n",
              "\n",
              "[7507 rows x 3 columns]"
            ],
            "text/html": [
              "\n",
              "  <div id=\"df-112a41c3-35a5-411f-9c1a-f86df8b6f2bc\" class=\"colab-df-container\">\n",
              "    <div>\n",
              "<style scoped>\n",
              "    .dataframe tbody tr th:only-of-type {\n",
              "        vertical-align: middle;\n",
              "    }\n",
              "\n",
              "    .dataframe tbody tr th {\n",
              "        vertical-align: top;\n",
              "    }\n",
              "\n",
              "    .dataframe thead th {\n",
              "        text-align: right;\n",
              "    }\n",
              "</style>\n",
              "<table border=\"1\" class=\"dataframe\">\n",
              "  <thead>\n",
              "    <tr style=\"text-align: right;\">\n",
              "      <th></th>\n",
              "      <th>expected_answer</th>\n",
              "      <th>problem</th>\n",
              "      <th>generated_solution</th>\n",
              "    </tr>\n",
              "  </thead>\n",
              "  <tbody>\n",
              "    <tr>\n",
              "      <th>0</th>\n",
              "      <td>14</td>\n",
              "      <td>Given $\\sqrt{x^2+165}-\\sqrt{x^2-52}=7$ and $x$...</td>\n",
              "      <td>&lt;think&gt;\\nOkay, let's see. I need to solve the ...</td>\n",
              "    </tr>\n",
              "    <tr>\n",
              "      <th>6</th>\n",
              "      <td>-2</td>\n",
              "      <td>Find the value of the parameter $a$ for which ...</td>\n",
              "      <td>&lt;think&gt;\\nOkay, so I need to find the value of ...</td>\n",
              "    </tr>\n",
              "    <tr>\n",
              "      <th>9</th>\n",
              "      <td>18</td>\n",
              "      <td>What is the sum of all real numbers $x$ for wh...</td>\n",
              "      <td>&lt;think&gt;\\nOkay, so I need to solve the equation...</td>\n",
              "    </tr>\n",
              "    <tr>\n",
              "      <th>13</th>\n",
              "      <td>2</td>\n",
              "      <td>Evaluate the sum \\(\\sum_{n=1}^\\infty \\frac{\\ph...</td>\n",
              "      <td>&lt;think&gt;\\nOkay, so I need to evaluate the infin...</td>\n",
              "    </tr>\n",
              "    <tr>\n",
              "      <th>17</th>\n",
              "      <td>30</td>\n",
              "      <td>What is the largest positive integer that divi...</td>\n",
              "      <td>&lt;think&gt;\\nAlright, so I need to find the larges...</td>\n",
              "    </tr>\n",
              "    <tr>\n",
              "      <th>...</th>\n",
              "      <td>...</td>\n",
              "      <td>...</td>\n",
              "      <td>...</td>\n",
              "    </tr>\n",
              "    <tr>\n",
              "      <th>19243</th>\n",
              "      <td>244</td>\n",
              "      <td>Let \\( p \\), \\( q \\), and \\( r \\) be the disti...</td>\n",
              "      <td>&lt;think&gt;\\nOkay, so I need to find the value of ...</td>\n",
              "    </tr>\n",
              "    <tr>\n",
              "      <th>19245</th>\n",
              "      <td>1</td>\n",
              "      <td>A bug is on the $0$ of a number line. At any p...</td>\n",
              "      <td>&lt;think&gt;\\nOkay, so I have this problem where a ...</td>\n",
              "    </tr>\n",
              "    <tr>\n",
              "      <th>19247</th>\n",
              "      <td>4</td>\n",
              "      <td>A bus left point X for point Y. Two hours late...</td>\n",
              "      <td>&lt;think&gt;\\nOkay, let's tackle this problem step ...</td>\n",
              "    </tr>\n",
              "    <tr>\n",
              "      <th>19248</th>\n",
              "      <td>18</td>\n",
              "      <td>Each interior angle of a regular n-gon measure...</td>\n",
              "      <td>&lt;think&gt;\\nOkay, let's see. I need to find the n...</td>\n",
              "    </tr>\n",
              "    <tr>\n",
              "      <th>19250</th>\n",
              "      <td>0.8960</td>\n",
              "      <td>Find the probability that the second blue resu...</td>\n",
              "      <td>&lt;think&gt;\\nOkay, so I need to find the probabili...</td>\n",
              "    </tr>\n",
              "  </tbody>\n",
              "</table>\n",
              "<p>7507 rows × 3 columns</p>\n",
              "</div>\n",
              "    <div class=\"colab-df-buttons\">\n",
              "\n",
              "  <div class=\"colab-df-container\">\n",
              "    <button class=\"colab-df-convert\" onclick=\"convertToInteractive('df-112a41c3-35a5-411f-9c1a-f86df8b6f2bc')\"\n",
              "            title=\"Convert this dataframe to an interactive table.\"\n",
              "            style=\"display:none;\">\n",
              "\n",
              "  <svg xmlns=\"http://www.w3.org/2000/svg\" height=\"24px\" viewBox=\"0 -960 960 960\">\n",
              "    <path d=\"M120-120v-720h720v720H120Zm60-500h600v-160H180v160Zm220 220h160v-160H400v160Zm0 220h160v-160H400v160ZM180-400h160v-160H180v160Zm440 0h160v-160H620v160ZM180-180h160v-160H180v160Zm440 0h160v-160H620v160Z\"/>\n",
              "  </svg>\n",
              "    </button>\n",
              "\n",
              "  <style>\n",
              "    .colab-df-container {\n",
              "      display:flex;\n",
              "      gap: 12px;\n",
              "    }\n",
              "\n",
              "    .colab-df-convert {\n",
              "      background-color: #E8F0FE;\n",
              "      border: none;\n",
              "      border-radius: 50%;\n",
              "      cursor: pointer;\n",
              "      display: none;\n",
              "      fill: #1967D2;\n",
              "      height: 32px;\n",
              "      padding: 0 0 0 0;\n",
              "      width: 32px;\n",
              "    }\n",
              "\n",
              "    .colab-df-convert:hover {\n",
              "      background-color: #E2EBFA;\n",
              "      box-shadow: 0px 1px 2px rgba(60, 64, 67, 0.3), 0px 1px 3px 1px rgba(60, 64, 67, 0.15);\n",
              "      fill: #174EA6;\n",
              "    }\n",
              "\n",
              "    .colab-df-buttons div {\n",
              "      margin-bottom: 4px;\n",
              "    }\n",
              "\n",
              "    [theme=dark] .colab-df-convert {\n",
              "      background-color: #3B4455;\n",
              "      fill: #D2E3FC;\n",
              "    }\n",
              "\n",
              "    [theme=dark] .colab-df-convert:hover {\n",
              "      background-color: #434B5C;\n",
              "      box-shadow: 0px 1px 3px 1px rgba(0, 0, 0, 0.15);\n",
              "      filter: drop-shadow(0px 1px 2px rgba(0, 0, 0, 0.3));\n",
              "      fill: #FFFFFF;\n",
              "    }\n",
              "  </style>\n",
              "\n",
              "    <script>\n",
              "      const buttonEl =\n",
              "        document.querySelector('#df-112a41c3-35a5-411f-9c1a-f86df8b6f2bc button.colab-df-convert');\n",
              "      buttonEl.style.display =\n",
              "        google.colab.kernel.accessAllowed ? 'block' : 'none';\n",
              "\n",
              "      async function convertToInteractive(key) {\n",
              "        const element = document.querySelector('#df-112a41c3-35a5-411f-9c1a-f86df8b6f2bc');\n",
              "        const dataTable =\n",
              "          await google.colab.kernel.invokeFunction('convertToInteractive',\n",
              "                                                    [key], {});\n",
              "        if (!dataTable) return;\n",
              "\n",
              "        const docLinkHtml = 'Like what you see? Visit the ' +\n",
              "          '<a target=\"_blank\" href=https://colab.research.google.com/notebooks/data_table.ipynb>data table notebook</a>'\n",
              "          + ' to learn more about interactive tables.';\n",
              "        element.innerHTML = '';\n",
              "        dataTable['output_type'] = 'display_data';\n",
              "        await google.colab.output.renderOutput(dataTable, element);\n",
              "        const docLink = document.createElement('div');\n",
              "        docLink.innerHTML = docLinkHtml;\n",
              "        element.appendChild(docLink);\n",
              "      }\n",
              "    </script>\n",
              "  </div>\n",
              "\n",
              "\n",
              "    <div id=\"df-5b70ce49-483b-4539-b5cd-ac29c0563e2f\">\n",
              "      <button class=\"colab-df-quickchart\" onclick=\"quickchart('df-5b70ce49-483b-4539-b5cd-ac29c0563e2f')\"\n",
              "                title=\"Suggest charts\"\n",
              "                style=\"display:none;\">\n",
              "\n",
              "<svg xmlns=\"http://www.w3.org/2000/svg\" height=\"24px\"viewBox=\"0 0 24 24\"\n",
              "     width=\"24px\">\n",
              "    <g>\n",
              "        <path d=\"M19 3H5c-1.1 0-2 .9-2 2v14c0 1.1.9 2 2 2h14c1.1 0 2-.9 2-2V5c0-1.1-.9-2-2-2zM9 17H7v-7h2v7zm4 0h-2V7h2v10zm4 0h-2v-4h2v4z\"/>\n",
              "    </g>\n",
              "</svg>\n",
              "      </button>\n",
              "\n",
              "<style>\n",
              "  .colab-df-quickchart {\n",
              "      --bg-color: #E8F0FE;\n",
              "      --fill-color: #1967D2;\n",
              "      --hover-bg-color: #E2EBFA;\n",
              "      --hover-fill-color: #174EA6;\n",
              "      --disabled-fill-color: #AAA;\n",
              "      --disabled-bg-color: #DDD;\n",
              "  }\n",
              "\n",
              "  [theme=dark] .colab-df-quickchart {\n",
              "      --bg-color: #3B4455;\n",
              "      --fill-color: #D2E3FC;\n",
              "      --hover-bg-color: #434B5C;\n",
              "      --hover-fill-color: #FFFFFF;\n",
              "      --disabled-bg-color: #3B4455;\n",
              "      --disabled-fill-color: #666;\n",
              "  }\n",
              "\n",
              "  .colab-df-quickchart {\n",
              "    background-color: var(--bg-color);\n",
              "    border: none;\n",
              "    border-radius: 50%;\n",
              "    cursor: pointer;\n",
              "    display: none;\n",
              "    fill: var(--fill-color);\n",
              "    height: 32px;\n",
              "    padding: 0;\n",
              "    width: 32px;\n",
              "  }\n",
              "\n",
              "  .colab-df-quickchart:hover {\n",
              "    background-color: var(--hover-bg-color);\n",
              "    box-shadow: 0 1px 2px rgba(60, 64, 67, 0.3), 0 1px 3px 1px rgba(60, 64, 67, 0.15);\n",
              "    fill: var(--button-hover-fill-color);\n",
              "  }\n",
              "\n",
              "  .colab-df-quickchart-complete:disabled,\n",
              "  .colab-df-quickchart-complete:disabled:hover {\n",
              "    background-color: var(--disabled-bg-color);\n",
              "    fill: var(--disabled-fill-color);\n",
              "    box-shadow: none;\n",
              "  }\n",
              "\n",
              "  .colab-df-spinner {\n",
              "    border: 2px solid var(--fill-color);\n",
              "    border-color: transparent;\n",
              "    border-bottom-color: var(--fill-color);\n",
              "    animation:\n",
              "      spin 1s steps(1) infinite;\n",
              "  }\n",
              "\n",
              "  @keyframes spin {\n",
              "    0% {\n",
              "      border-color: transparent;\n",
              "      border-bottom-color: var(--fill-color);\n",
              "      border-left-color: var(--fill-color);\n",
              "    }\n",
              "    20% {\n",
              "      border-color: transparent;\n",
              "      border-left-color: var(--fill-color);\n",
              "      border-top-color: var(--fill-color);\n",
              "    }\n",
              "    30% {\n",
              "      border-color: transparent;\n",
              "      border-left-color: var(--fill-color);\n",
              "      border-top-color: var(--fill-color);\n",
              "      border-right-color: var(--fill-color);\n",
              "    }\n",
              "    40% {\n",
              "      border-color: transparent;\n",
              "      border-right-color: var(--fill-color);\n",
              "      border-top-color: var(--fill-color);\n",
              "    }\n",
              "    60% {\n",
              "      border-color: transparent;\n",
              "      border-right-color: var(--fill-color);\n",
              "    }\n",
              "    80% {\n",
              "      border-color: transparent;\n",
              "      border-right-color: var(--fill-color);\n",
              "      border-bottom-color: var(--fill-color);\n",
              "    }\n",
              "    90% {\n",
              "      border-color: transparent;\n",
              "      border-bottom-color: var(--fill-color);\n",
              "    }\n",
              "  }\n",
              "</style>\n",
              "\n",
              "      <script>\n",
              "        async function quickchart(key) {\n",
              "          const quickchartButtonEl =\n",
              "            document.querySelector('#' + key + ' button');\n",
              "          quickchartButtonEl.disabled = true;  // To prevent multiple clicks.\n",
              "          quickchartButtonEl.classList.add('colab-df-spinner');\n",
              "          try {\n",
              "            const charts = await google.colab.kernel.invokeFunction(\n",
              "                'suggestCharts', [key], {});\n",
              "          } catch (error) {\n",
              "            console.error('Error during call to suggestCharts:', error);\n",
              "          }\n",
              "          quickchartButtonEl.classList.remove('colab-df-spinner');\n",
              "          quickchartButtonEl.classList.add('colab-df-quickchart-complete');\n",
              "        }\n",
              "        (() => {\n",
              "          let quickchartButtonEl =\n",
              "            document.querySelector('#df-5b70ce49-483b-4539-b5cd-ac29c0563e2f button');\n",
              "          quickchartButtonEl.style.display =\n",
              "            google.colab.kernel.accessAllowed ? 'block' : 'none';\n",
              "        })();\n",
              "      </script>\n",
              "    </div>\n",
              "\n",
              "  <div id=\"id_3373297d-8b78-41a2-ab91-94be6ad04813\">\n",
              "    <style>\n",
              "      .colab-df-generate {\n",
              "        background-color: #E8F0FE;\n",
              "        border: none;\n",
              "        border-radius: 50%;\n",
              "        cursor: pointer;\n",
              "        display: none;\n",
              "        fill: #1967D2;\n",
              "        height: 32px;\n",
              "        padding: 0 0 0 0;\n",
              "        width: 32px;\n",
              "      }\n",
              "\n",
              "      .colab-df-generate:hover {\n",
              "        background-color: #E2EBFA;\n",
              "        box-shadow: 0px 1px 2px rgba(60, 64, 67, 0.3), 0px 1px 3px 1px rgba(60, 64, 67, 0.15);\n",
              "        fill: #174EA6;\n",
              "      }\n",
              "\n",
              "      [theme=dark] .colab-df-generate {\n",
              "        background-color: #3B4455;\n",
              "        fill: #D2E3FC;\n",
              "      }\n",
              "\n",
              "      [theme=dark] .colab-df-generate:hover {\n",
              "        background-color: #434B5C;\n",
              "        box-shadow: 0px 1px 3px 1px rgba(0, 0, 0, 0.15);\n",
              "        filter: drop-shadow(0px 1px 2px rgba(0, 0, 0, 0.3));\n",
              "        fill: #FFFFFF;\n",
              "      }\n",
              "    </style>\n",
              "    <button class=\"colab-df-generate\" onclick=\"generateWithVariable('dataset')\"\n",
              "            title=\"Generate code using this dataframe.\"\n",
              "            style=\"display:none;\">\n",
              "\n",
              "  <svg xmlns=\"http://www.w3.org/2000/svg\" height=\"24px\"viewBox=\"0 0 24 24\"\n",
              "       width=\"24px\">\n",
              "    <path d=\"M7,19H8.4L18.45,9,17,7.55,7,17.6ZM5,21V16.75L18.45,3.32a2,2,0,0,1,2.83,0l1.4,1.43a1.91,1.91,0,0,1,.58,1.4,1.91,1.91,0,0,1-.58,1.4L9.25,21ZM18.45,9,17,7.55Zm-12,3A5.31,5.31,0,0,0,4.9,8.1,5.31,5.31,0,0,0,1,6.5,5.31,5.31,0,0,0,4.9,4.9,5.31,5.31,0,0,0,6.5,1,5.31,5.31,0,0,0,8.1,4.9,5.31,5.31,0,0,0,12,6.5,5.46,5.46,0,0,0,6.5,12Z\"/>\n",
              "  </svg>\n",
              "    </button>\n",
              "    <script>\n",
              "      (() => {\n",
              "      const buttonEl =\n",
              "        document.querySelector('#id_3373297d-8b78-41a2-ab91-94be6ad04813 button.colab-df-generate');\n",
              "      buttonEl.style.display =\n",
              "        google.colab.kernel.accessAllowed ? 'block' : 'none';\n",
              "\n",
              "      buttonEl.onclick = () => {\n",
              "        google.colab.notebook.generateWithVariable('dataset');\n",
              "      }\n",
              "      })();\n",
              "    </script>\n",
              "  </div>\n",
              "\n",
              "    </div>\n",
              "  </div>\n"
            ],
            "application/vnd.google.colaboratory.intrinsic+json": {
              "type": "dataframe",
              "variable_name": "dataset",
              "summary": "{\n  \"name\": \"dataset\",\n  \"rows\": 7507,\n  \"fields\": [\n    {\n      \"column\": \"expected_answer\",\n      \"properties\": {\n        \"dtype\": \"category\",\n        \"num_unique_values\": 868,\n        \"samples\": [\n          \"672\",\n          \"335\",\n          \"575757\"\n        ],\n        \"semantic_type\": \"\",\n        \"description\": \"\"\n      }\n    },\n    {\n      \"column\": \"problem\",\n      \"properties\": {\n        \"dtype\": \"string\",\n        \"num_unique_values\": 3895,\n        \"samples\": [\n          \"A club with 7 members forms three-person committees, but no two committees can have more than one member in common. What is the maximum number of committees that can be formed?\",\n          \"Find the smallest integer \\\\( a > 2 \\\\) such that \\\\( 2 \\\\mid a \\\\), \\\\( 3 \\\\mid (a+1) \\\\), \\\\( 4 \\\\mid (a+2) \\\\), \\\\( 5 \\\\mid (a+3) \\\\), and \\\\( 6 \\\\mid (a+4) \\\\).\",\n          \"Given the polynomial equation \\\\(x^3 - x = -1\\\\) with roots \\\\(a\\\\), \\\\(b\\\\), and \\\\(c\\\\), find the value of \\\\(\\\\frac{1}{1+a} + \\\\frac{1}{1+b} + \\\\frac{1}{1+c}\\\\).\"\n        ],\n        \"semantic_type\": \"\",\n        \"description\": \"\"\n      }\n    },\n    {\n      \"column\": \"generated_solution\",\n      \"properties\": {\n        \"dtype\": \"string\",\n        \"num_unique_values\": 7507,\n        \"samples\": [\n          \"<think>\\nOkay, let's see. I need to solve this problem where there are three prime numbers p, q, and r. The equations given are pq + qr + rp = 191 and p + q = r - 1. The goal is to find p + q + r. Hmm, primes, so they must be 2 or odd primes. Let me start by analyzing the problem step by step.\\n\\nFirst, the equation p + q = r - 1. If I can express r in terms of p and q, maybe I can substitute that into the first equation. Let's try that. So, from the second equation, r = p + q + 1. That seems straightforward. Now, substituting this into the first equation, we get pq + qr + rp = 191. Let's replace r with (p + q + 1).\\n\\nSo, substituting, the first equation becomes:\\n\\npq + q(p + q + 1) + p(p + q + 1) = 191.\\n\\nLet me expand each term:\\n\\nFirst term: pq.\\n\\nSecond term: q*(p + q + 1) = pq + q\\u00b2 + q.\\n\\nThird term: p*(p + q + 1) = p\\u00b2 + pq + p.\\n\\nNow, adding all these together:\\n\\npq + (pq + q\\u00b2 + q) + (p\\u00b2 + pq + p) = 191.\\n\\nCombine like terms:\\n\\npq + pq + pq = 3pq.\\n\\nq\\u00b2 + p\\u00b2.\\n\\nq + p.\\n\\nSo altogether, the equation becomes:\\n\\np\\u00b2 + q\\u00b2 + 3pq + p + q = 191.\\n\\nHmm. Let me note that.\\n\\nAlternatively, maybe I can factor this expression. Let me see. Let's try to group terms. Wait, another approach: since r = p + q + 1, then p + q + r = (p + q) + (p + q + 1) = 2(p + q) + 1. So if I can find p + q, then multiplying by 2 and adding 1 gives me the answer. That's useful. So perhaps instead of dealing with the first equation directly, I can express it in terms of p + q.\\n\\nBut maybe let's work with the equation we derived: p\\u00b2 + q\\u00b2 + 3pq + p + q = 191.\\n\\nWait, another thought: p\\u00b2 + q\\u00b2 + 3pq. Let's recall that (p + q)^2 = p\\u00b2 + 2pq + q\\u00b2, so p\\u00b2 + q\\u00b2 + 3pq = (p + q)^2 + pq.\\n\\nTherefore, the equation can be rewritten as:\\n\\n(p + q)^2 + pq + p + q = 191.\\n\\nLet me set S = p + q, and P = pq. Then the equation becomes:\\n\\nS\\u00b2 + P + S = 191.\\n\\nBut from the second equation, we know that r = S + 1, so since we need to find S + r = S + (S + 1) = 2S + 1. So our target is 2S + 1. So if we can find S, we can find the answer.\\n\\nNow, the equation is S\\u00b2 + P + S = 191. But S and P are related as S = p + q, P = pq. For two primes p and q, their sum and product. Since p and q are primes, maybe we can list possible primes that add up to S and multiply to P. However, since S and P are variables here, maybe we can express P in terms of S from the equation.\\n\\nFrom S\\u00b2 + P + S = 191, so P = 191 - S\\u00b2 - S.\\n\\nTherefore, P = -S\\u00b2 - S + 191. But P = pq must be positive, so -S\\u00b2 - S + 191 > 0. Therefore, S\\u00b2 + S < 191. Let's see the possible values of S. Since S is the sum of two primes, which are at least 2 each, so S is at least 2 + 2 = 4. Also, since S\\u00b2 + S < 191, let's solve S\\u00b2 + S - 191 < 0. Let's find the roots of S\\u00b2 + S - 191 = 0.\\n\\nUsing quadratic formula: S = [-1 \\u00b1 sqrt(1 + 4*191)] / 2 = [-1 \\u00b1 sqrt(765)] / 2. sqrt(765) is approx 27.66, so S \\u2248 (-1 + 27.66)/2 \\u2248 13.33. So the positive root is approximately 13.33, so S must be less than 13.33. Therefore, S can be integers from 4 up to 13.\\n\\nSo possible S values: 4,5,6,7,8,9,10,11,12,13.\\n\\nBut since p and q are primes, their sum S must be even or odd. Since except for 2, all primes are odd. So if both p and q are odd primes, their sum is even. If one is 2 and the other is odd, then their sum is odd. So S can be even or odd. So possible values of S (from 4 to 13) can be checked.\\n\\nBut maybe instead of all possible S, let's check possible S values from 4 to 13 and see if for each S, P = 191 - S\\u00b2 - S, and check if P can be expressed as the product of two primes that add up to S.\\n\\nAlternatively, maybe first check which S gives P as a product of two primes.\\n\\nLet's start with S=4. Then P = 191 - 16 -4 = 171. Then check if 171 can be written as product of two primes that add up to 4. But 4 is the sum. The primes could be 2 and 2 (since 2+2=4). Then 2*2=4, but P here is 171. 4 \\u2260 171, so S=4 is invalid.\\n\\nNext S=5: P=191 -25 -5=161. 161 factors into 7*23. Check if 7 + 23 = 30, which is not 5. So that's not possible. Alternatively, are there primes adding to 5? 2 and 3, since 2+3=5. Then P=2*3=6. But 6 \\u2260 161. So S=5 invalid.\\n\\nS=6: P=191 -36 -6=149. 149 is a prime number, so can't be expressed as product of two primes. So invalid.\\n\\nS=7: P=191 -49 -7=135. 135 factors into 5*27 (but 27 not prime), 3*45, 9*15, none primes. So no. So invalid.\\n\\nS=8: P=191 -64 -8=119. 119 factors into 7*17. Check if 7+17=24\\u22608. Primes adding to 8 are 3+5=8 or 5+3. Then P=15. But 15\\u2260119. So invalid.\\n\\nS=9: P=191 -81 -9=101. 101 is prime, so no.\\n\\nS=10: P=191 -100 -10=81. 81=9*9, but 9 not prime. So no.\\n\\nS=11: P=191 -121 -11=59. 59 is prime. So no.\\n\\nS=12: P=191 -144 -12=35. 35=5*7. Check if 5 +7=12? Yes! 5 +7=12. So here, S=12, which is p + q=12, and pq=35. 5 and 7 are primes. So this works.\\n\\nSo then p=5 and q=7, or p=7 and q=5. Then r = S + 1 =12 +1=13. Check if r is prime: 13 is prime. So yes. So then p, q, r are 5,7,13 or 7,5,13. Then p + q + r =5 +7 +13=25. So 25 would be the answer.\\n\\nWait, let me check S=13 as well just to be thorough. S=13: P=191 -169 -13=9. 9=3*3. Check if 3 +3=6\\u226013. So no. So no.\\n\\nTherefore, only S=12 gives valid primes. So the answer is 25.\\n\\nLet me verify the original equations. pq + qr + rp. Let p=5, q=7, r=13. Then 5*7 +7*13 +13*5 =35 +91 +65=35+91=126+65=191. Which matches. And p + q =5 +7=12. r -1=13 -1=12. So that also matches. So it's correct. Therefore, the answer is 25.\\n</think>To solve the problem where three prime numbers \\\\( p, q, \\\\) and \\\\( r \\\\) satisfy the equations \\\\( pq + qr + rp = 191 \\\\) and \\\\( p + q = r - 1 \\\\), we proceed as follows:\\n\\n1. **Express \\\\( r \\\\) in terms of \\\\( p \\\\) and \\\\( q \\\\):**\\n   From the equation \\\\( p + q = r - 1 \\\\), we can solve for \\\\( r \\\\):\\n   \\\\[\\n   r = p + q + 1\\n   \\\\]\\n\\n2. **Substitute \\\\( r \\\\) into the first equation:**\\n   Substitute \\\\( r = p + q + 1 \\\\) into the equation \\\\( pq + qr + rp = 191 \\\\):\\n   \\\\[\\n   pq + q(p + q + 1) + p(p + q + 1) = 191\\n   \\\\]\\n   Expanding and combining like terms:\\n   \\\\[\\n   pq + pq + q^2 + q + p^2 + pq + p = 191\\n   \\\\]\\n   Simplify:\\n   \\\\[\\n   p^2 + q^2 + 3pq + p + q = 191\\n   \\\\]\\n\\n3. **Introduce new variables:**\\n   Let \\\\( S = p + q \\\\) and \\\\( P = pq \\\\). The equation becomes:\\n   \\\\[\\n   S^2 + P + S = 191\\n   \\\\]\\n\\n4. **Express \\\\( r \\\\) in terms of \\\\( S \\\\):**\\n   Since \\\\( r = p + q + 1 = S + 1 \\\\), we need to find \\\\( S \\\\) such that \\\\( S^2 + P + S = 191 \\\\) and \\\\( P = pq \\\\) is the product of two primes \\\\( p \\\\) and \\\\( q \\\\) that sum to \\\\( S \\\\).\\n\\n5. **Determine possible values for \\\\( S \\\\):**\\n   Solve the inequality \\\\( S^2 + S < 191 \\\\):\\n   \\\\[\\n   S^2 + S - 191 < 0\\n   \\\\]\\n   Using the quadratic formula \\\\( S = \\\\frac{-1 \\\\pm \\\\sqrt{1 + 4 \\\\cdot 191}}{2} \\\\):\\n   \\\\[\\n   S = \\\\frac{-1 \\\\pm \\\\sqrt{765}}{2}\\n   \\\\]\\n   Since \\\\( \\\\sqrt{765} \\\\approx 27.66 \\\\), we have:\\n   \\\\[\\n   S \\\\approx \\\\frac{-1 + 27.66}{2} \\\\approx 13.33\\n   \\\\]\\n   Therefore, \\\\( S \\\\) must be an integer between 4 and 13.\\n\\n6. **Check possible values of \\\\( S \\\\):**\\n   - For \\\\( S = 12 \\\\):\\n     \\\\[\\n     P = 191 - 12^2 - 12 = 191 - 144 - 12 = 35\\n     \\\\]\\n     Check if \\\\( 35 \\\\) can be written as the product of two primes that sum to 12:\\n     \\\\[\\n     35 = 5 \\\\times 7 \\\\quad \\\\text{and} \\\\quad 5 + 7 = 12\\n     \\\\]\\n     This works. So \\\\( p = 5 \\\\) and \\\\( q = 7 \\\\).\\n\\n7. **Find \\\\( r \\\\):**\\n   \\\\[\\n   r = S + 1 = 12 + 1 = 13\\n   \\\\]\\n\\n8. **Verify the solution:**\\n   - Check \\\\( pq + qr + rp = 191 \\\\):\\n     \\\\[\\n     5 \\\\times 7 + 7 \\\\times 13 + 13 \\\\times 5 = 35 + 91 + 65 = 191\\n     \\\\]\\n   - Check \\\\( p + q = r - 1 \\\\):\\n     \\\\[\\n     5 + 7 = 12 \\\\quad \\\\text{and} \\\\quad 13 - 1 = 12\\n     \\\\]\\n\\nSince all conditions are satisfied, the final answer is:\\n\\\\[\\n\\\\boxed{25}\\n\\\\]\",\n          \"<think>\\nOkay, let's see. I need to solve this problem where x and y are positive integers satisfying 2(x + y) = gcd(x, y) + lcm(x, y). And I have to find the ratio of the lcm to the gcd of x and y. Hmm, okay, let's break this down.\\n\\nFirst, I remember that for any two positive integers, the product of the lcm and gcd of those numbers is equal to the product of the numbers themselves. So, lcm(x, y) * gcd(x, y) = x * y. That might come in handy here. Let me note that down: lcm(x,y)*gcd(x,y) = x*y.\\n\\nGiven the equation 2(x + y) = gcd(x, y) + lcm(x, y), maybe I can express everything in terms of gcd and the ratio of x and y. Since gcd and lcm are involved, it might be helpful to let d = gcd(x, y), and then express x and y as x = d*a and y = d*b, where a and b are coprime integers (their gcd is 1). That's a standard approach for problems involving gcd and lcm.\\n\\nSo let me set d = gcd(x, y). Then x = d*a, y = d*b, with gcd(a, b) = 1. Then, the lcm(x, y) would be d*a*b, because lcm(x, y) = x*y / gcd(x, y) = (d*a*d*b)/d = d*a*b. Right, so lcm(x,y) = d*a*b.\\n\\nSubstituting these into the original equation: 2(x + y) = gcd(x, y) + lcm(x, y).\\n\\nSubstituting x = d*a, y = d*b, gcd = d, lcm = d*a*b. Then:\\n\\n2(d*a + d*b) = d + d*a*b.\\n\\nFactor out d from the left side: 2d(a + b) = d(1 + a*b).\\n\\nSince d is a positive integer, we can divide both sides by d, yielding:\\n\\n2(a + b) = 1 + a*b.\\n\\nSo now the equation simplifies to 2(a + b) = a*b + 1, where a and b are coprime positive integers. Hmm, okay. Now we have a simpler equation to solve: a*b - 2a - 2b + 1 = 0. Let me rearrange that:\\n\\na*b - 2a - 2b + 1 = 0.\\n\\nHmm, maybe factor this equation? Let me see. Adding 4 to both sides might help in factoring. Let's try:\\n\\na*b - 2a - 2b + 1 + 4 - 4 = 0\\n\\nSo, a*b - 2a - 2b + 4 = 3.\\n\\nWait, not sure. Alternatively, perhaps rearrange the terms:\\n\\na*b - 2a - 2b = -1.\\n\\nThen, add 4 to both sides:\\n\\na*b - 2a - 2b + 4 = 3.\\n\\nNow, left side can be factored as (a - 2)(b - 2) = 3. Because expanding (a - 2)(b - 2) gives a*b - 2a - 2b + 4. Yes, that's right. So:\\n\\n(a - 2)(b - 2) = 3.\\n\\nSince a and b are positive integers and coprime, we need to find pairs (a, b) such that their product is 3 when each is reduced by 2. Also, since a and b are coprime, (a - 2) and (b - 2) must be divisors of 3, which is prime. The positive divisors of 3 are 1 and 3.\\n\\nSo possible pairs (since a and b are positive integers, a - 2 and b - 2 must be at least such that a and b are positive. Let's see:\\n\\nCase 1: (a - 2) = 1 and (b - 2) = 3. Then, a = 3, b = 5. Check if gcd(a, b) = 1. gcd(3, 5) = 1, which is good.\\n\\nCase 2: (a - 2) = 3 and (b - 2) = 1. Then, a = 5, b = 3. Similarly, gcd(5, 3) = 1. So this is also valid.\\n\\nBut also, since 3 is prime, the only positive divisors are 1 and 3. But since we're considering positive integers, we could also consider if one of them is negative? But since a and b are positive, a - 2 and b - 2 must be positive or zero? Wait, but 3 is positive, so the factors must both be positive. Because if one of (a - 2) or (b - 2) were negative, their product would be negative, but 3 is positive. So both (a - 2) and (b - 2) must be positive. Thus, only the two cases above.\\n\\nAlternatively, maybe (a - 2) and (b - 2) could be 3 and 1 in some order, which gives the two cases. So the possible (a, b) are (3, 5) and (5, 3). Since a and b are interchangeable (since x and y are symmetric in the problem), these two cases would yield the same results.\\n\\nSo now, let's see. For (a, b) = (3, 5), then x = d*3, y = d*5. Similarly, for (a, b) = (5, 3), x = d*5, y = d*3. But since the problem is symmetric in x and y, both cases are equivalent.\\n\\nNow, since we need to find the ratio lcm(x, y)/gcd(x, y), let's compute that.\\n\\nRecall that lcm(x, y)/gcd(x, y) = (d*a*b)/d = a*b. So it's simply a*b. Since in both cases, a and b are 3 and 5, the product is 15. Therefore, the ratio is 15.\\n\\nWait, that seems too straightforward. Let me check.\\n\\nIf the ratio is a*b, then yes. Because lcm(x, y) is d*a*b and gcd(x, y) is d, so their ratio is (d*a*b)/d = a*b. Since a and b are 3 and 5, 3*5=15. Therefore, the answer is 15. So the answer is 15.\\n\\nBut let me verify with an example. Let's take d=1. Then x=3, y=5. Then gcd(3,5)=1, lcm=15. Then 2(x + y) = 2*(8) = 16. The right side is 1 + 15=16. So that works. If d=1, then 2(3+5)=16=1 +15.\\n\\nWhat if d=2? Then x=6, y=10. gcd(6,10)=2, lcm=30. Then 2(6 + 10)=2*16=32. The right side is 2 +30=32. So that also works. Then the ratio lcm/gcd is 30/2=15. So regardless of d, the ratio is always 15. Wait, because if x = d*a, y = d*b, then lcm(x,y)/gcd(x,y) = (d*a*b)/d = a*b, which is 15 as in the first case. So regardless of d, the ratio is always 15. Therefore, the answer is 15.\\n\\nSo even if d is some other positive integer, the ratio remains a*b =15. Therefore, the required ratio is 15.\\n\\nTherefore, the answer is 15. So \\\\boxed{15}.\\n\\n**Final Answer**\\n\\\\boxed{15}\\n</think>Given \\\\( x \\\\) and \\\\( y \\\\) are positive integers such that \\\\( 2(x + y) = \\\\gcd(x, y) + \\\\text{lcm}(x, y) \\\\), we need to find \\\\( \\\\frac{\\\\text{lcm}(x, y)}{\\\\gcd(x, y)} \\\\).\\n\\nFirst, let \\\\( d = \\\\gcd(x, y) \\\\). Then, we can express \\\\( x \\\\) and \\\\( y \\\\) as \\\\( x = d \\\\cdot a \\\\) and \\\\( y = d \\\\cdot b \\\\), where \\\\( \\\\gcd(a, b) = 1 \\\\). The least common multiple (lcm) of \\\\( x \\\\) and \\\\( y \\\\) is given by \\\\( \\\\text{lcm}(x, y) = d \\\\cdot a \\\\cdot b \\\\).\\n\\nSubstituting these into the given equation:\\n\\\\[\\n2(d \\\\cdot a + d \\\\cdot b) = d + d \\\\cdot a \\\\cdot b\\n\\\\]\\nDividing both sides by \\\\( d \\\\):\\n\\\\[\\n2(a + b) = 1 + a \\\\cdot b\\n\\\\]\\nRearranging terms, we get:\\n\\\\[\\na \\\\cdot b - 2a - 2b + 1 = 0\\n\\\\]\\nAdding 4 to both sides to factorize:\\n\\\\[\\na \\\\cdot b - 2a - 2b + 4 = 3\\n\\\\]\\nThis can be factored as:\\n\\\\[\\n(a - 2)(b - 2) = 3\\n\\\\]\\nThe positive integer solutions for \\\\((a - 2)\\\\) and \\\\((b - 2)\\\\) are 1 and 3. Thus, the possible pairs \\\\((a, b)\\\\) are \\\\((3, 5)\\\\) and \\\\((5, 3)\\\\). Since \\\\( a \\\\) and \\\\( b \\\\) are coprime, both pairs are valid.\\n\\nThe ratio \\\\( \\\\frac{\\\\text{lcm}(x, y)}{\\\\gcd(x, y)} \\\\) is given by:\\n\\\\[\\n\\\\frac{\\\\text{lcm}(x, y)}{\\\\gcd(x, y)} = \\\\frac{d \\\\cdot a \\\\cdot b}{d} = a \\\\cdot b\\n\\\\]\\nFor both pairs \\\\((3, 5)\\\\) and \\\\((5, 3)\\\\), the product \\\\( a \\\\cdot b = 15 \\\\).\\n\\nThus, the final answer is:\\n\\\\[\\n\\\\boxed{15}\\n\\\\]\",\n          \"<think>\\nOkay, so I need to find the remainder when the product of all odd numbers from 1 to 2005 is divided by 1000. Hmm, let's think about how to approach this. \\n\\nFirst, the product is 1 \\u00d7 3 \\u00d7 5 \\u00d7 ... \\u00d7 2005. That's a lot of numbers! Since we're dealing with division by 1000, maybe modular arithmetic can help here. The remainder when divided by 1000 is equivalent to the product modulo 1000. But calculating such a huge product directly seems impossible. There has to be a smarter way.\\n\\nI remember that when dealing with factorials and remainders, factors of 2 and 5 can create trailing zeros. However, here we're only multiplying odd numbers, so there are no factors of 2. But there might still be factors of 5. Wait, 1000 is 8\\u00d7125, which is 2^3 \\u00d7 5^3. Since the product is all odd numbers, it won't have factors of 2, but it can have factors of 5. Therefore, the product will be divisible by 5^3, but since there are no 2s, the product modulo 1000 might not be zero. Hmm, maybe I need to compute the product modulo 1000, but adjusting for the factors of 5?\\n\\nAlternatively, maybe split the problem into modulo 8 and modulo 125, then use the Chinese Remainder Theorem (CRT) to combine the results. Since 1000 = 8 \\u00d7 125, and 8 and 125 are coprime, CRT says that if I can find the remainder modulo 8 and modulo 125, then I can combine them to find the remainder modulo 1000. That might be a good approach.\\n\\nLet me start with modulo 8. The product is 1\\u00d73\\u00d75\\u00d77\\u00d79\\u00d7...\\u00d72005. But modulo 8, odd numbers repeat every 8 numbers. Let's see, the residues modulo 8 of odd numbers are 1,3,5,7,1,3,5,7,... So the pattern repeats every 4 terms. Wait, no. Wait, the numbers go 1,3,5,7,9\\u22611,11\\u22613,13\\u22615,15\\u22617, etc. So every 8 numbers, the cycle of residues 1,3,5,7 repeats twice. Wait, actually, modulo 8, the odd residues cycle every 4 numbers. Let's confirm:\\n\\n1 mod 8 =1\\n\\n3 mod8=3\\n\\n5 mod8=5\\n\\n7 mod8=7\\n\\n9 mod8=1\\n\\n11 mod8=3\\n\\n13 mod8=5\\n\\n15 mod8=7\\n\\nYes, every 4 terms, the cycle repeats. So how many terms are in the product 1\\u00d73\\u00d75\\u00d7...\\u00d72005? Let's find the number of terms first. The nth odd number is 2n-1. So 2n-1=2005 => n=(2005+1)/2=2006/2=1003. So there are 1003 terms.\\n\\nSo 1003 terms, each group of 4 terms (mod8) is 1\\u00d73\\u00d75\\u00d77=105. Then 105 mod8= 105 - 13\\u00d78=105-104=1. So each group of 4 terms multiplies to 1 mod8. Then how many full groups of 4 are there in 1003 terms? Let's divide 1003 by 4. 1003 \\u00f74=250.75. So 250 full groups, each contributing 1 mod8, and then a remainder of 3 terms. \\n\\nSo the total product modulo8 is (1^250) \\u00d7 (last three terms). The last three terms would be the terms after the 250th group. The 250th group ends at term 250\\u00d74=1000. So the 1001st term is 2\\u00d71001 -1=2001. Wait, no: the first term is 1=2\\u00d71-1, second term 3=2\\u00d72-1, so term k is 2k-1. Therefore, term 1001 is 2\\u00d71001 -1=2002-1=2001. Then the 1002nd term is 2003, 1003rd term is 2005. So the last three terms are 2001, 2003, 2005. Let's compute each mod8:\\n\\n2001 \\u00f78: 8\\u00d7250=2000, so 2001 mod8=1\\n\\n2003 mod8=3\\n\\n2005 mod8=5\\n\\nSo the last three terms modulo8 are 1\\u00d73\\u00d75=15 mod8=7.\\n\\nTherefore, total product mod8 is (1^250) \\u00d77=1\\u00d77=7 mod8.\\n\\nSo the remainder modulo8 is7.\\n\\nNow, we need to compute the product modulo125. This seems more complicated. Let's think.\\n\\nThe product is the product of all odd numbers from1 to2005. Wait, 2005=5\\u00d7401. So we can write the product as (1\\u00d73\\u00d75\\u00d77\\u00d7...\\u00d72005). Let's note that there are a lot of factors of 5 in this product, which would make the product divisible by 5 multiple times. However, modulo125 is 5^3, so if the product has at least three factors of 5, then modulo125 would be 0. Wait, but maybe even if it's divisible by 5^3, but we need to compute the actual remainder. Wait, but perhaps the product is divisible by 5^3, but when divided by 5^3, the remaining product modulo8 or something else. Wait, maybe not. Let me check how many factors of5 are in the product.\\n\\nThe number of factors of5 in the product:\\n\\nEach multiple of5 contributes at least one factor of5. Since we're dealing with odd numbers, the multiples of5 that are odd. So numbers divisible by5 but not by2. So numbers like5,15,25,...,2005. Let's count how many multiples of5 are in the product. The first term is5, which is5\\u00d71, then15=5\\u00d73,..., up to2005=5\\u00d7401. So the multiples of5 are5\\u00d7(1,3,5,...,401). Wait, 5\\u00d7k, where k is odd from1 to401. Because 5\\u00d7401=2005. So how many terms are there?\\n\\nThe number of terms k from1 to401 where k is odd. Since401 is odd, the number is (401 +1)/2=201. So there are201 multiples of5 in the product. Each contributes at least one factor of5. Additionally, multiples of25 contribute an extra factor of5. Similarly, multiples of125, 625, etc., contribute more factors.\\n\\nSo let's compute the total number of factors of5 in the product.\\n\\nNumber of multiples of5:201 (as above)\\n\\nNumber of multiples of25: These are numbers in the product divisible by25. Since the product includes numbers of the form5\\u00d7(odd numbers). So multiples of25 are numbers divisible by25, which are 25,75,125,...,2000. But 2005 is not divisible by25. Wait, wait, in the original product (all odd numbers up to2005), the multiples of25 must be odd multiples. So 25\\u00d71,25\\u00d73,..., up to the largest odd multiple less than or equal to2005.\\n\\n25\\u00d7k \\u22642005, where k is odd. Let's compute k_max:\\n\\n25k \\u22642005 => k \\u22642005/25=80.2. So the largest integer k is80, but since k has to be odd, the largest odd k is79. So 25\\u00d779=1975. Then 25\\u00d781=2025, which is over. So the multiples of25 in the product are25\\u00d71,25\\u00d73,...,25\\u00d779. Number of terms: (79-1)/2 +1=39 +1=40. Wait, from1 to79 odd numbers: number is (79+1)/2=40. So there are40 multiples of25.\\n\\nSimilarly, multiples of125:125\\u00d71,125\\u00d73,..., up to125\\u00d7k\\u22642005. 125\\u00d7k \\u22642005 =>k\\u226416.04. So k_max=15 (odd). So 125\\u00d715=1875. So multiples are125\\u00d71,125\\u00d73,...,125\\u00d715. Number of terms: (15-1)/2 +1=7+1=8.\\n\\nMultiples of625:625\\u00d71=625, next is625\\u00d73=1875, next is625\\u00d75=3125>2005. So only two multiples:625 and1875. But1875 is already counted as a multiple of125. So factors of625 contribute an extra factor of5 each. So number of multiples of625 is 2. 625 and1875.\\n\\nMultiples of3125:3125>2005, so none.\\n\\nSo total number of factors of5:\\n\\nFrom multiples of5:201\\n\\nFrom multiples of25:40 (each contributes an extra)\\n\\nFrom multiples of125:8 (each contributes another extra)\\n\\nFrom multiples of625:2 (each contributes another extra)\\n\\nTotal:201 +40 +8 +2=251.\\n\\nSo total factors of5 in the product:251.\\n\\nSimilarly, factors of2: since all numbers are odd, there are none. So the product is divisible by5^251 but not by2. So when dividing by5^3, since 251\\u22653, the product is divisible by5^3. Therefore, the product modulo125 is0? Wait, no, wait. Wait, 125 is5^3. If the product has at least three factors of5, then when divided by5^3, the quotient is an integer, but the remainder when divided by125 is0. So if the product is divisible by125, then the remainder is0. But the question is, when we divide the product by1000, which is8\\u00d7125, the remainder is to be found. However, we already considered that modulo8 is7, and modulo125 is... Hmm, but if modulo125 is0, then using CRT, we can say the remainder is a number congruent to7 mod8 and0 mod125. So we need to solve for x\\u22610 mod125 andx\\u22617 mod8.\\n\\nBut wait, let me confirm if modulo125 is indeed0. Let's check: since the product has at least three factors of5, then yes, the product is divisible by5^3, so product \\u22610 mod125. Therefore, modulo125 is0. Therefore, we have:\\n\\nx \\u22617 mod8\\n\\nx \\u22610 mod125\\n\\nWe need to find x such that x \\u22610 mod125 andx \\u22617 mod8. Let\\u2019s solve this system.\\n\\nLet x=125k. Then 125k\\u22617 mod8. Since125 mod8=5, so 5k\\u22617 mod8.\\n\\nWe solve 5k\\u22617 mod8.\\n\\nMultiply both sides by inverse of5 mod8. The inverse of5 mod8 is5, since5\\u00d75=25\\u22611 mod8. So multiply both sides by5:\\n\\nk\\u22617\\u00d75 mod8 =>k\\u226135 mod8 =>35\\u00f78=4*8=32, 35-32=3. So k\\u22613 mod8.\\n\\nTherefore, k=8m +3 for some integer m. Therefore, x=125(8m +3)=1000m +375. Therefore, the smallest non-negative solution is375. Therefore, the remainder is375 when divided by1000. So the answer is375.\\n\\nWait, but before accepting that, let me verify my steps again because this is tricky.\\n\\nFirst, confirming that the product is divisible by5^3: yes, since there are 251 factors of5, so 5^251 divides the product. Therefore, the product is divisible by5^3, so product\\u22610 mod125. That's correct.\\n\\nThen, solving x\\u22617 mod8 and x\\u22610 mod125. So x=125k. Then 125k\\u22615k mod8. So 5k\\u22617 mod8. Multiply both sides by inverse of5 mod8, which is5, since5\\u00d75=25\\u22611 mod8. So k\\u226135 mod8\\u22613 mod8. Therefore, k=8m +3, so x=125\\u00d73 +1000m=375 +1000m. So the minimal positive solution is375. So remainder is375 when divided by1000. That seems correct.\\n\\nBut wait, to make sure, let me check with an example. Let's take x=375. 375 \\u00f78=46*8=368, remainder7. So 375 mod8=7. 375 mod125=0. So yes, 375 satisfies both conditions. Therefore, the remainder is375. Therefore, the answer is\\\\boxed{375}.\\n\\nWait, but I need to make sure that my calculation for modulo8 and modulo125 are correct. Let me double-check the modulo8 calculation.\\n\\nEarlier, I considered that the product modulo8 is7. Let me recast that.\\n\\nThe product is1\\u00d73\\u00d75\\u00d77\\u00d7\\u2026\\u00d72005. When taking modulo8, each cycle of4 terms (1,3,5,7) multiplies to1\\u00d73\\u00d75\\u00d77=105\\u22611 mod8. Since 105/8=13\\u00d78=104, 105-104=1. Then, since there are1003 terms, how many cycles of4 are there? 1003 divided by4 is250 cycles with a remainder of3 terms. Then the product is (1)^250 \\u00d7 last3 terms.\\n\\nThe last3 terms are2001,2003,2005. 2001 mod8=1 (2001-8\\u00d7250=2001-2000=1), 2003=2001+2\\u21921+2=3 mod8, 2005=2001+4\\u21921+4=5 mod8. So last3 terms are1\\u00d73\\u00d75=15\\u22617 mod8. Therefore, total product\\u22611^250 \\u00d77\\u22617 mod8. Correct.\\n\\nTherefore, the logic holds. Therefore, the remainder is375. So I think that's the correct answer.\\n\\n**Final Answer**\\n\\\\boxed{375}\\n</think>To find the remainder when the product \\\\(1 \\\\times 3 \\\\times 5 \\\\times \\\\cdots \\\\times 2005\\\\) is divided by 1000, we use modular arithmetic and the Chinese Remainder Theorem (CRT).\\n\\n### Step 1: Calculate the product modulo 8\\n\\nThe sequence of odd numbers modulo 8 repeats every 4 terms: \\\\(1, 3, 5, 7\\\\). The product of each cycle is:\\n\\\\[\\n1 \\\\times 3 \\\\times 5 \\\\times 7 = 105 \\\\equiv 1 \\\\mod 8\\n\\\\]\\n\\nThere are 1003 terms in the product. Dividing 1003 by 4 gives 250 full cycles and a remainder of 3 terms. The remaining terms are 2001, 2003, and 2005. We calculate these modulo 8:\\n\\\\[\\n2001 \\\\equiv 1 \\\\mod 8, \\\\quad 2003 \\\\equiv 3 \\\\mod 8, \\\\quad 2005 \\\\equiv 5 \\\\mod 8\\n\\\\]\\nThe product of these remaining terms is:\\n\\\\[\\n1 \\\\times 3 \\\\times 5 = 15 \\\\equiv 7 \\\\mod 8\\n\\\\]\\n\\nThus, the product modulo 8 is:\\n\\\\[\\n1^{250} \\\\times 7 \\\\equiv 7 \\\\mod 8\\n\\\\]\\n\\n### Step 2: Calculate the product modulo 125\\n\\nWe need to determine the number of factors of 5 in the product. The sequence of odd numbers includes multiples of 5, 25, 125, and 625.\\n\\n- Multiples of 5: \\\\(5, 15, 25, \\\\ldots, 2005\\\\)\\n  - These are of the form \\\\(5 \\\\times (2k+1)\\\\) for \\\\(k = 0, 1, 2, \\\\ldots, 200\\\\)\\n  - Number of such terms: \\\\(\\\\frac{2005}{5} = 401\\\\), and half of these are odd, so \\\\(201\\\\) multiples of 5.\\n\\n- Multiples of 25: \\\\(25, 75, 125, \\\\ldots, 1975\\\\)\\n  - These are of the form \\\\(25 \\\\times (2k+1)\\\\) for \\\\(k = 0, 1, 2, \\\\ldots, 39\\\\)\\n  - Number of such terms: \\\\(\\\\frac{1975}{25} = 79\\\\), and half of these are odd, so \\\\(40\\\\) multiples of 25.\\n\\n- Multiples of 125: \\\\(125, 375, 625, 875, 1125, 1375, 1625, 1875\\\\)\\n  - These are of the form \\\\(125 \\\\times (2k+1)\\\\) for \\\\(k = 0, 1, 2, \\\\ldots, 15\\\\)\\n  - Number of such terms: \\\\(\\\\frac{1875}{125} = 15\\\\), and half of these are odd, so \\\\(8\\\\) multiples of 125.\\n\\n- Multiples of 625: \\\\(625, 1875\\\\)\\n  - These are of the form \\\\(625 \\\\times (2k+1)\\\\) for \\\\(k = 0, 1\\\\)\\n  - Number of such terms: \\\\(\\\\frac{1875}{625} = 3\\\\), and half of these are odd, so \\\\(2\\\\) multiples of 625.\\n\\nTotal factors of 5:\\n\\\\[\\n201 + 40 + 8 + 2 = 251\\n\\\\]\\n\\nSince \\\\(251 \\\\geq 3\\\\), the product is divisible by \\\\(5^3 = 125\\\\). Therefore, the product modulo 125 is:\\n\\\\[\\n0 \\\\mod 125\\n\\\\]\\n\\n### Step 3: Combine results using the Chinese Remainder Theorem\\n\\nWe have:\\n\\\\[\\nx \\\\equiv 7 \\\\mod 8\\n\\\\]\\n\\\\[\\nx \\\\equiv 0 \\\\mod 125\\n\\\\]\\n\\nLet \\\\(x = 125k\\\\). Then:\\n\\\\[\\n125k \\\\equiv 7 \\\\mod 8\\n\\\\]\\nSince \\\\(125 \\\\equiv 5 \\\\mod 8\\\\), we have:\\n\\\\[\\n5k \\\\equiv 7 \\\\mod 8\\n\\\\]\\n\\nThe multiplicative inverse of 5 modulo 8 is 5, so:\\n\\\\[\\nk \\\\equiv 7 \\\\times 5 \\\\equiv 35 \\\\equiv 3 \\\\mod 8\\n\\\\]\\n\\nThus, \\\\(k = 8m + 3\\\\) for some integer \\\\(m\\\\). Therefore:\\n\\\\[\\nx = 125(8m + 3) = 1000m + 375\\n\\\\]\\n\\nThe smallest non-negative solution is:\\n\\\\[\\nx = 375\\n\\\\]\\n\\nTherefore, the remainder when the product is divided by 1000 is:\\n\\\\[\\n\\\\boxed{375}\\n\\\\]\"\n        ],\n        \"semantic_type\": \"\",\n        \"description\": \"\"\n      }\n    }\n  ]\n}"
            }
          },
          "metadata": {},
          "execution_count": 7
        }
      ]
    },
    {
      "cell_type": "markdown",
      "source": [
        "We have to format the dataset to follow our GRPO style formatting:"
      ],
      "metadata": {
        "id": "JVRFqoSdIEVK"
      }
    },
    {
      "cell_type": "code",
      "source": [
        "def format_dataset(x):\n",
        "    expected_answer = x[\"expected_answer\"]\n",
        "    problem = x[\"problem\"]\n",
        "\n",
        "    # Remove generated <think> and </think>\n",
        "    thoughts = x[\"generated_solution\"]\n",
        "    thoughts = thoughts.replace(\"<think>\", \"\").replace(\"</think>\", \"\")\n",
        "\n",
        "    # Strip newlines on left and right\n",
        "    thoughts = thoughts.strip()\n",
        "    # Add our custom formatting\n",
        "    final_prompt = \\\n",
        "        reasoning_start + thoughts + reasoning_end + \\\n",
        "        solution_start + expected_answer + solution_end\n",
        "    return [\n",
        "        {\"role\" : \"system\",    \"content\" : system_prompt},\n",
        "        {\"role\" : \"user\",      \"content\" : problem},\n",
        "        {\"role\" : \"assistant\", \"content\" : final_prompt},\n",
        "    ]\n",
        "\n",
        "dataset[\"Messages\"] = dataset.apply(format_dataset, axis = 1)"
      ],
      "metadata": {
        "id": "Z9ydcV_Abfi6"
      },
      "execution_count": null,
      "outputs": []
    },
    {
      "cell_type": "markdown",
      "source": [
        "Check to see if it worked:"
      ],
      "metadata": {
        "id": "X5NI47rOIRP2"
      }
    },
    {
      "cell_type": "code",
      "source": [
        "tokenizer.apply_chat_template(dataset[\"Messages\"][0], tokenize = False)"
      ],
      "metadata": {
        "id": "LTdXBKcslhRH",
        "colab": {
          "base_uri": "https://localhost:8080/",
          "height": 175
        },
        "outputId": "a7a2ea50-2531-4577-a489-12ae07b0e454"
      },
      "execution_count": null,
      "outputs": [
        {
          "output_type": "execute_result",
          "data": {
            "text/plain": [
              "\"You are given a problem.\\nThink about the problem and provide your working out.\\nPlace it between <start_working_out> and <end_working_out>.\\nThen, provide your solution between <SOLUTION></SOLUTION><|endoftext|>Given $\\\\sqrt{x^2+165}-\\\\sqrt{x^2-52}=7$ and $x$ is positive, find all possible values of $x$.<start_working_out>Okay, let's see. I need to solve the equation √(x² + 165) - √(x² - 52) = 7, and find all positive values of x. Hmm, radicals can be tricky, but maybe if I can eliminate the square roots by squaring both sides. Let me try that.\\n\\nFirst, let me write down the equation again to make sure I have it right:\\n\\n√(x² + 165) - √(x² - 52) = 7.\\n\\nOkay, so the idea is to isolate one of the radicals and then square both sides. Let me try moving the second radical to the other side:\\n\\n√(x² + 165) = 7 + √(x² - 52).\\n\\nNow, if I square both sides, maybe I can get rid of the square roots. Let's do that:\\n\\n(√(x² + 165))² = (7 + √(x² - 52))².\\n\\nSimplifying the left side:\\n\\nx² + 165 = 49 + 14√(x² - 52) + (√(x² - 52))².\\n\\nThe right side is expanded using the formula (a + b)² = a² + 2ab + b². So the right side becomes 7² + 2*7*√(x² - 52) + (√(x² - 52))², which is 49 + 14√(x² - 52) + (x² - 52).\\n\\nSo putting it all together:\\n\\nx² + 165 = 49 + 14√(x² - 52) + x² - 52.\\n\\nHmm, let's simplify the right side. The x² terms will cancel out, right? Let's subtract x² from both sides:\\n\\n165 = 49 + 14√(x² - 52) - 52.\\n\\nSimplify the constants on the right:\\n\\n49 - 52 is -3, so:\\n\\n165 = -3 + 14√(x² - 52).\\n\\nNow, add 3 to both sides to isolate the radical term:\\n\\n165 + 3 = 14√(x² - 52).\\n\\nSo 168 = 14√(x² - 52).\\n\\nDivide both sides by 14:\\n\\n168 / 14 = √(x² - 52).\\n\\n12 = √(x² - 52).\\n\\nNow, square both sides again to eliminate the square root:\\n\\n12² = x² - 52.\\n\\n144 = x² - 52.\\n\\nAdd 52 to both sides:\\n\\n144 + 52 = x².\\n\\n196 = x².\\n\\nSo x = √196 = 14.\\n\\nBut wait, since the problem states that x is positive, we only take the positive root. So x = 14.\\n\\nBut hold on, when dealing with squaring equations, sometimes extraneous solutions can come up. I should check if this solution actually satisfies the original equation.\\n\\nLet's plug x = 14 back into the original equation:\\n\\n√(14² + 165) - √(14² - 52) = ?\\n\\nCalculate each term:\\n\\n14² is 196.\\n\\nSo first radical: √(196 + 165) = √361 = 19.\\n\\nSecond radical: √(196 - 52) = √144 = 12.\\n\\nSo 19 - 12 = 7, which is exactly the right-hand side. So yes, it checks out.\\n\\nTherefore, the only solution is x = 14. Since the problem says x is positive, we don't have to consider negative roots. So I think that's the answer.\\nTo solve the equation \\\\(\\\\sqrt{x^2 + 165} - \\\\sqrt{x^2 - 52} = 7\\\\) for positive \\\\(x\\\\), we proceed as follows:\\n\\n1. Start with the given equation:\\n   \\\\[\\n   \\\\sqrt{x^2 + 165} - \\\\sqrt{x^2 - 52} = 7\\n   \\\\]\\n\\n2. Isolate one of the square roots by moving \\\\(\\\\sqrt{x^2 - 52}\\\\) to the right side:\\n   \\\\[\\n   \\\\sqrt{x^2 + 165} = 7 + \\\\sqrt{x^2 - 52}\\n   \\\\]\\n\\n3. Square both sides to eliminate the square root on the left:\\n   \\\\[\\n   (\\\\sqrt{x^2 + 165})^2 = (7 + \\\\sqrt{x^2 - 52})^2\\n   \\\\]\\n   Simplifying both sides, we get:\\n   \\\\[\\n   x^2 + 165 = 49 + 14\\\\sqrt{x^2 - 52} + (x^2 - 52)\\n   \\\\]\\n\\n4. Combine like terms on the right side:\\n   \\\\[\\n   x^2 + 165 = x^2 - 52 + 49 + 14\\\\sqrt{x^2 - 52}\\n   \\\\]\\n   Simplifying further:\\n   \\\\[\\n   x^2 + 165 = x^2 - 3 + 14\\\\sqrt{x^2 - 52}\\n   \\\\]\\n\\n5. Subtract \\\\(x^2\\\\) from both sides:\\n   \\\\[\\n   165 = -3 + 14\\\\sqrt{x^2 - 52}\\n   \\\\]\\n\\n6. Add 3 to both sides to isolate the term with the square root:\\n   \\\\[\\n   168 = 14\\\\sqrt{x^2 - 52}\\n   \\\\]\\n\\n7. Divide both sides by 14:\\n   \\\\[\\n   12 = \\\\sqrt{x^2 - 52}\\n   \\\\]\\n\\n8. Square both sides again to eliminate the square root:\\n   \\\\[\\n   12^2 = x^2 - 52\\n   \\\\]\\n   Simplifying:\\n   \\\\[\\n   144 = x^2 - 52\\n   \\\\]\\n\\n9. Add 52 to both sides to solve for \\\\(x^2\\\\):\\n   \\\\[\\n   196 = x^2\\n   \\\\]\\n\\n10. Take the positive square root (since \\\\(x\\\\) is positive):\\n    \\\\[\\n    x = \\\\sqrt{196} = 14\\n    \\\\]\\n\\n11. Verify the solution by substituting \\\\(x = 14\\\\) back into the original equation:\\n    \\\\[\\n    \\\\sqrt{14^2 + 165} - \\\\sqrt{14^2 - 52} = \\\\sqrt{196 + 165} - \\\\sqrt{196 - 52} = \\\\sqrt{361} - \\\\sqrt{144} = 19 - 12 = 7\\n    \\\\]\\n    The solution checks out.\\n\\nThus, the only positive solution is:\\n\\\\[\\n\\\\boxed{14}\\n\\\\]<end_working_out><SOLUTION>14</SOLUTION><|endoftext|>\""
            ],
            "application/vnd.google.colaboratory.intrinsic+json": {
              "type": "string"
            }
          },
          "metadata": {},
          "execution_count": 9
        }
      ]
    },
    {
      "cell_type": "markdown",
      "source": [
        "Let's truncate the pre fine-tuning dataset to `max_seq_length/2` since we don't want too long reasoning traces.\n",
        "\n",
        "Note this might take 2 minutes!"
      ],
      "metadata": {
        "id": "iHV9BXYiIYaq"
      }
    },
    {
      "cell_type": "code",
      "source": [
        "dataset[\"N\"] = dataset[\"Messages\"].apply(lambda x: len(tokenizer.apply_chat_template(x)))\n",
        "\n",
        "dataset = dataset.loc[dataset[\"N\"] <= max_seq_length/2].copy()\n",
        "dataset.shape"
      ],
      "metadata": {
        "id": "MBHFlRbae9_s",
        "colab": {
          "base_uri": "https://localhost:8080/"
        },
        "outputId": "29851a0b-6f33-4d8a-d18f-a534214b2488"
      },
      "execution_count": null,
      "outputs": [
        {
          "output_type": "execute_result",
          "data": {
            "text/plain": [
              "(59, 5)"
            ]
          },
          "metadata": {},
          "execution_count": 10
        }
      ]
    },
    {
      "cell_type": "markdown",
      "source": [
        "We then tokenize the messages and convert it to a Hugging Face compatible dataset format:"
      ],
      "metadata": {
        "id": "E6NkUCAGIj8N"
      }
    },
    {
      "cell_type": "code",
      "source": [
        "from datasets import Dataset\n",
        "\n",
        "dataset[\"text\"] = tokenizer.apply_chat_template(dataset[\"Messages\"].values.tolist(), tokenize = False)\n",
        "dataset = Dataset.from_pandas(dataset)\n",
        "dataset"
      ],
      "metadata": {
        "id": "3rgdtiV_f5hx",
        "colab": {
          "base_uri": "https://localhost:8080/"
        },
        "outputId": "9ed04407-e366-4e01-aa2e-ce81185636cd"
      },
      "execution_count": null,
      "outputs": [
        {
          "output_type": "execute_result",
          "data": {
            "text/plain": [
              "Dataset({\n",
              "    features: ['expected_answer', 'problem', 'generated_solution', 'Messages', 'N', 'text', '__index_level_0__'],\n",
              "    num_rows: 59\n",
              "})"
            ]
          },
          "metadata": {},
          "execution_count": 11
        }
      ]
    },
    {
      "cell_type": "markdown",
      "source": [
        "Let's now pre fine-tune the model so it follows our custom GRPO formatting!"
      ],
      "metadata": {
        "id": "bAQJjQrYKzOk"
      }
    },
    {
      "cell_type": "code",
      "source": [
        "from trl import SFTTrainer, SFTConfig\n",
        "trainer = SFTTrainer(\n",
        "    model = model,\n",
        "    tokenizer = tokenizer,\n",
        "    train_dataset = dataset,\n",
        "    args = SFTConfig(\n",
        "        dataset_text_field = \"text\",\n",
        "        per_device_train_batch_size = 1,\n",
        "        gradient_accumulation_steps = 1, # Use GA to mimic batch size!\n",
        "        warmup_steps = 5,\n",
        "        num_train_epochs = 2, # Set this for 1 full training run.\n",
        "        learning_rate = 2e-4, # Reduce to 2e-5 for long training runs\n",
        "        logging_steps = 5,\n",
        "        optim = \"adamw_8bit\",\n",
        "        weight_decay = 0.01,\n",
        "        lr_scheduler_type = \"linear\",\n",
        "        seed = 3407,\n",
        "        report_to = \"none\", # Use this for WandB etc\n",
        "    ),\n",
        ")"
      ],
      "metadata": {
        "id": "woYi0SSygpqp",
        "colab": {
          "base_uri": "https://localhost:8080/",
          "height": 49,
          "referenced_widgets": [
            "5e32cde8bae04944acb9b81d72083d9e",
            "8c310891371442e7ace9bb2cb427f157",
            "e79bc585dceb4cf78d07b006517de7da",
            "acab127a93654604ae5c7b2b3241e262",
            "12630f33d40541b6bcb63b86be4b340c",
            "dcd27e26dd6c4f5a80d4ee674e3a1941",
            "13ac50082b6744a2b70b2bf785b5299c",
            "e2bb8a2af8ba451fa113d77556080d3e",
            "8a4ffe2fa4e04945b816752992077a79",
            "d796eb8672674433ba1d6378d7140623",
            "44e07fc58e3e44fb9223e7cec91847d6"
          ]
        },
        "outputId": "fd97d068-1581-4c1b-b1f9-d0793ce094a5"
      },
      "execution_count": null,
      "outputs": [
        {
          "output_type": "display_data",
          "data": {
            "text/plain": [
              "Unsloth: Tokenizing [\"text\"] (num_proc=2):   0%|          | 0/59 [00:00<?, ? examples/s]"
            ],
            "application/vnd.jupyter.widget-view+json": {
              "version_major": 2,
              "version_minor": 0,
              "model_id": "5e32cde8bae04944acb9b81d72083d9e"
            }
          },
          "metadata": {}
        }
      ]
    },
    {
      "cell_type": "code",
      "source": [
        "trainer.train()"
      ],
      "metadata": {
        "id": "l4-2v_bLhZuE",
        "colab": {
          "base_uri": "https://localhost:8080/",
          "height": 956
        },
        "outputId": "a1745d11-fded-4845-a5bd-3ccde20021f4"
      },
      "execution_count": null,
      "outputs": [
        {
          "output_type": "stream",
          "name": "stderr",
          "text": [
            "==((====))==  Unsloth - 2x faster free finetuning | Num GPUs used = 1\n",
            "   \\\\   /|    Num examples = 59 | Num Epochs = 2 | Total steps = 118\n",
            "O^O/ \\_/ \\    Batch size per device = 1 | Gradient accumulation steps = 1\n",
            "\\        /    Data Parallel GPUs = 1 | Total batch size (1 x 1 x 1) = 1\n",
            " \"-____-\"     Trainable parameters = 66,060,288/4,088,528,384 (1.62% trained)\n"
          ]
        },
        {
          "output_type": "display_data",
          "data": {
            "text/plain": [
              "<IPython.core.display.HTML object>"
            ],
            "text/html": [
              "\n",
              "    <div>\n",
              "      \n",
              "      <progress value='118' max='118' style='width:300px; height:20px; vertical-align: middle;'></progress>\n",
              "      [118/118 02:40, Epoch 2/2]\n",
              "    </div>\n",
              "    <table border=\"1\" class=\"dataframe\">\n",
              "  <thead>\n",
              " <tr style=\"text-align: left;\">\n",
              "      <th>Step</th>\n",
              "      <th>Training Loss</th>\n",
              "    </tr>\n",
              "  </thead>\n",
              "  <tbody>\n",
              "    <tr>\n",
              "      <td>5</td>\n",
              "      <td>0.644800</td>\n",
              "    </tr>\n",
              "    <tr>\n",
              "      <td>10</td>\n",
              "      <td>0.639700</td>\n",
              "    </tr>\n",
              "    <tr>\n",
              "      <td>15</td>\n",
              "      <td>0.419300</td>\n",
              "    </tr>\n",
              "    <tr>\n",
              "      <td>20</td>\n",
              "      <td>0.389500</td>\n",
              "    </tr>\n",
              "    <tr>\n",
              "      <td>25</td>\n",
              "      <td>0.422300</td>\n",
              "    </tr>\n",
              "    <tr>\n",
              "      <td>30</td>\n",
              "      <td>0.448200</td>\n",
              "    </tr>\n",
              "    <tr>\n",
              "      <td>35</td>\n",
              "      <td>0.475000</td>\n",
              "    </tr>\n",
              "    <tr>\n",
              "      <td>40</td>\n",
              "      <td>0.419200</td>\n",
              "    </tr>\n",
              "    <tr>\n",
              "      <td>45</td>\n",
              "      <td>0.445000</td>\n",
              "    </tr>\n",
              "    <tr>\n",
              "      <td>50</td>\n",
              "      <td>0.328500</td>\n",
              "    </tr>\n",
              "    <tr>\n",
              "      <td>55</td>\n",
              "      <td>0.381100</td>\n",
              "    </tr>\n",
              "    <tr>\n",
              "      <td>60</td>\n",
              "      <td>0.453300</td>\n",
              "    </tr>\n",
              "    <tr>\n",
              "      <td>65</td>\n",
              "      <td>0.247000</td>\n",
              "    </tr>\n",
              "    <tr>\n",
              "      <td>70</td>\n",
              "      <td>0.244800</td>\n",
              "    </tr>\n",
              "    <tr>\n",
              "      <td>75</td>\n",
              "      <td>0.301200</td>\n",
              "    </tr>\n",
              "    <tr>\n",
              "      <td>80</td>\n",
              "      <td>0.226400</td>\n",
              "    </tr>\n",
              "    <tr>\n",
              "      <td>85</td>\n",
              "      <td>0.211200</td>\n",
              "    </tr>\n",
              "    <tr>\n",
              "      <td>90</td>\n",
              "      <td>0.258900</td>\n",
              "    </tr>\n",
              "    <tr>\n",
              "      <td>95</td>\n",
              "      <td>0.190800</td>\n",
              "    </tr>\n",
              "    <tr>\n",
              "      <td>100</td>\n",
              "      <td>0.260300</td>\n",
              "    </tr>\n",
              "    <tr>\n",
              "      <td>105</td>\n",
              "      <td>0.255000</td>\n",
              "    </tr>\n",
              "    <tr>\n",
              "      <td>110</td>\n",
              "      <td>0.217400</td>\n",
              "    </tr>\n",
              "    <tr>\n",
              "      <td>115</td>\n",
              "      <td>0.180300</td>\n",
              "    </tr>\n",
              "  </tbody>\n",
              "</table><p>"
            ]
          },
          "metadata": {}
        },
        {
          "output_type": "stream",
          "name": "stdout",
          "text": [
            "Unsloth: Will smartly offload gradients to save VRAM!\n"
          ]
        },
        {
          "output_type": "execute_result",
          "data": {
            "text/plain": [
              "TrainOutput(global_step=118, training_loss=0.34849793122986616, metrics={'train_runtime': 162.2519, 'train_samples_per_second': 0.727, 'train_steps_per_second': 0.727, 'total_flos': 2374193075607552.0, 'train_loss': 0.34849793122986616})"
            ]
          },
          "metadata": {},
          "execution_count": 13
        }
      ]
    },
    {
      "cell_type": "markdown",
      "source": [
        "Let's check if the model has learnt to follow the custom format:"
      ],
      "metadata": {
        "id": "DRMBNUBgLC8T"
      }
    },
    {
      "cell_type": "code",
      "source": [
        "text = tokenizer.apply_chat_template(\n",
        "    dataset[0][\"Messages\"][:2],\n",
        "    tokenize = False,\n",
        "    add_generation_prompt = True, # Must add for generation\n",
        ")\n",
        "\n",
        "from transformers import TextStreamer\n",
        "_ = model.generate(\n",
        "    **tokenizer(text, return_tensors = \"pt\").to(\"cuda\"),\n",
        "    temperature = 0,\n",
        "    max_new_tokens = 1024,\n",
        "    streamer = TextStreamer(tokenizer, skip_prompt = False),\n",
        ")"
      ],
      "metadata": {
        "id": "9HJxrS76h3Ds",
        "colab": {
          "base_uri": "https://localhost:8080/"
        },
        "outputId": "98e53c6e-6af4-4c52-cf18-197524dbddfb"
      },
      "execution_count": null,
      "outputs": [
        {
          "output_type": "stream",
          "name": "stdout",
          "text": [
            "You are given a problem.\n",
            "Think about the problem and provide your working out.\n",
            "Place it between <start_working_out> and <end_working_out>.\n",
            "Then, provide your solution between <SOLUTION></SOLUTION><|endoftext|>Jenifer has 82 cents in pennies and nickels. Her younger brother mistook all her nickels for dimes and counted the total as $1.47. How many pennies does Jenifer have?<start_working_out>Okay, let's see. Jenifer has 82 cents in pennies and nickels. Her younger brother thought all the nickels were dimes and counted the total as $1.47. I need to find out how many pennies Jenifer has. Hmm, let's break this down step by step.\n",
            "\n",
            "First, I need to set up some equations. Let's say the number of pennies is P and the number of nickels is N. Since pennies are worth 1 cent each and nickels are 5 cents each, the total value Jenifer has is:\n",
            "\n",
            "P + 5N = 82 cents.\n",
            "\n",
            "Now, her brother thought all the nickels were dimes. Dimes are 10 cents each. So, he counted the total as $1.47, which is 147 cents. So, the equation based on his mistaken count would be:\n",
            "\n",
            "P + 10N = 147 cents.\n",
            "\n",
            "Now, I have two equations:\n",
            "\n",
            "1) P + 5N = 82\n",
            "2) P + 10N = 147\n",
            "\n",
            "I need to solve these two equations to find P. Let me think. Since both equations have P, maybe I can subtract the first equation from the second to eliminate P. Let's try that.\n",
            "\n",
            "Subtract equation 1 from equation 2:\n",
            "\n",
            "(P + 10N) - (P + 5N) = 147 - 82\n",
            "\n",
            "Simplifying the left side: P - P + 10N - 5N = 5N\n",
            "\n",
            "Right side: 147 - 82 = 65\n",
            "\n",
            "So, 5N = 65. Dividing both sides by 5 gives N = 13. So there are 13 nickels.\n",
            "\n",
            "Now, plug N back into the first equation to find P:\n",
            "\n",
            "P + 5(13) = 82\n",
            "\n",
            "5*13 is 65, so P + 65 = 82. Subtract 65 from both sides: P = 82 - 65 = 17.\n",
            "\n",
            "So, Jenifer has 17 pennies. Let me check that. If she has 17 pennies and 13 nickels, that's 17 + 65 = 82 cents, which matches the original amount. Her brother thought the nickels were dimes, so 13 nickels as dimes would be 13*10=130 cents. Adding the 17 pennies gives 130 + 17 = 147 cents, which is $1.47. That checks out. So the answer should be 17 pennies.\n",
            "To solve the problem, we start by defining the variables:\n",
            "- Let \\( P \\) be the number of pennies.\n",
            "- Let \\( N \\) be the number of nickels.\n",
            "\n",
            "We know the following:\n",
            "1. The total value of the pennies and nickels is 82 cents.\n",
            "2. The brother mistakenly counted the nickels as dimes and the total as 147 cents.\n",
            "\n",
            "We can set up the following system of equations based on the given information:\n",
            "1. \\( P + 5N = 82 \\) (value of pennies and nickels)\n",
            "2. \\( P + 10N = 147 \\) (value of pennies and dimes)\n",
            "\n",
            "To find the number of pennies, we can eliminate \\( P \\) by subtracting the first equation from the second:\n",
            "\\[\n",
            "(P + 10N) - (P + 5N) = 147 - 82\n",
            "\\]\n",
            "Simplifying, we get:\n",
            "\\[\n",
            "5N = 65\n",
            "\\]\n",
            "Solving for \\( N \\):\n",
            "\\[\n",
            "N = \\frac{65}{5} = 13\n",
            "\\]\n",
            "\n",
            "Now that we know \\( N = 13 \\), we substitute this value back into the first equation to find \\( P \\):\n",
            "\\[\n",
            "P + 5(13) = 82\n",
            "\\]\n",
            "\\[\n",
            "P + 65 = 82\n",
            "\\]\n",
            "\\[\n",
            "P = 82 - 65 = 17\n",
            "\\]\n",
            "\n",
            "Thus, Jenifer has \\(\\boxed{17}\\) pennies.<end_working_out><SOLUTION>17</SOLUTION><|endoftext|>\n"
          ]
        }
      ]
    },
    {
      "cell_type": "markdown",
      "source": [
        "Yes it did follow the formatting! Great! Let's remove some items before the GRPO step"
      ],
      "metadata": {
        "id": "AtZ3qGOALF95"
      }
    },
    {
      "cell_type": "code",
      "source": [
        "del dataset\n",
        "torch.cuda.empty_cache()\n",
        "import gc\n",
        "gc.collect()"
      ],
      "metadata": {
        "colab": {
          "base_uri": "https://localhost:8080/"
        },
        "id": "YWSZ0DET7bob",
        "outputId": "a624be91-d24f-40d9-cfe4-9e637055bad1"
      },
      "execution_count": null,
      "outputs": [
        {
          "output_type": "execute_result",
          "data": {
            "text/plain": [
              "0"
            ]
          },
          "metadata": {},
          "execution_count": 15
        }
      ]
    },
    {
      "cell_type": "markdown",
      "metadata": {
        "id": "7KGgPgk_5S8r"
      },
      "source": [
        "### Data Prep\n",
        "<a name=\"Data\"></a>\n",
        "\n",
        "We're using Hugging Face's [Open R1 Math dataset](https://huggingface.co/datasets/open-r1/DAPO-Math-17k-Processed). You can also utilize OpenAI's famous [GSM8K dataset](https://huggingface.co/datasets/openai/gsm8k)"
      ]
    },
    {
      "cell_type": "code",
      "execution_count": null,
      "metadata": {
        "id": "o7-eUrQn-OzE",
        "colab": {
          "base_uri": "https://localhost:8080/"
        },
        "outputId": "59bcd6e9-c4f9-4fba-db25-536ad46bd805"
      },
      "outputs": [
        {
          "output_type": "execute_result",
          "data": {
            "text/plain": [
              "Dataset({\n",
              "    features: ['prompt', 'solution', 'data_source', 'source_prompt', 'ability', 'reward_model', 'extra_info'],\n",
              "    num_rows: 14116\n",
              "})"
            ]
          },
          "metadata": {},
          "execution_count": 16
        }
      ],
      "source": [
        "from datasets import load_dataset\n",
        "dataset = load_dataset(\"open-r1/DAPO-Math-17k-Processed\", \"en\", split = \"train\")\n",
        "dataset"
      ]
    },
    {
      "cell_type": "markdown",
      "metadata": {
        "id": "3b00gUsS-ROW"
      },
      "source": [
        "Let's look at the first row:"
      ]
    },
    {
      "cell_type": "code",
      "execution_count": null,
      "metadata": {
        "id": "siopxjG8-ReF",
        "colab": {
          "base_uri": "https://localhost:8080/",
          "height": 88
        },
        "outputId": "4e9cb046-9665-4b10-85da-10e4adf026bd"
      },
      "outputs": [
        {
          "output_type": "execute_result",
          "data": {
            "text/plain": [
              "'In triangle $ABC$, $\\\\sin \\\\angle A = \\\\frac{4}{5}$ and $\\\\angle A < 90^\\\\circ$. Let $D$ be a point outside triangle $ABC$ such that $\\\\angle BAD = \\\\angle DAC$ and $\\\\angle BDC = 90^\\\\circ$. Suppose that $AD = 1$ and that $\\\\frac{BD}{CD} = \\\\frac{3}{2}$. If $AB + AC$ can be expressed in the form $\\\\frac{a\\\\sqrt{b}}{c}$ where $a, b, c$ are pairwise relatively prime integers, find $a + b + c$.'"
            ],
            "application/vnd.google.colaboratory.intrinsic+json": {
              "type": "string"
            }
          },
          "metadata": {},
          "execution_count": 17
        }
      ],
      "source": [
        "dataset[0][\"prompt\"]"
      ]
    },
    {
      "cell_type": "code",
      "execution_count": null,
      "metadata": {
        "id": "KGupRQqD-Wcf",
        "colab": {
          "base_uri": "https://localhost:8080/",
          "height": 35
        },
        "outputId": "bf999c6a-87ff-48a6-deed-fb2d21ca3789"
      },
      "outputs": [
        {
          "output_type": "execute_result",
          "data": {
            "text/plain": [
              "'34'"
            ],
            "application/vnd.google.colaboratory.intrinsic+json": {
              "type": "string"
            }
          },
          "metadata": {},
          "execution_count": 18
        }
      ],
      "source": [
        "dataset[0][\"solution\"]"
      ]
    },
    {
      "cell_type": "markdown",
      "metadata": {
        "id": "CmnXj6hn-Ydi"
      },
      "source": [
        "In GSM8K, ee notice all answers like about have a ####, so we extract it. But for the Open R1 dataset, we can skip the below."
      ]
    },
    {
      "cell_type": "code",
      "execution_count": null,
      "metadata": {
        "id": "8JJGXKdJ-Zl_",
        "colab": {
          "base_uri": "https://localhost:8080/",
          "height": 35
        },
        "outputId": "41544744-1952-4c71-9782-fd023e7afad4"
      },
      "outputs": [
        {
          "output_type": "execute_result",
          "data": {
            "text/plain": [
              "'34'"
            ],
            "application/vnd.google.colaboratory.intrinsic+json": {
              "type": "string"
            }
          },
          "metadata": {},
          "execution_count": 19
        }
      ],
      "source": [
        "def extract_hash_answer(text):\n",
        "    # if \"####\" not in text: return None\n",
        "    # return text.split(\"####\")[1].strip()\n",
        "    return text\n",
        "extract_hash_answer(dataset[0][\"solution\"])"
      ]
    },
    {
      "cell_type": "markdown",
      "metadata": {
        "id": "K30CygaU-dir"
      },
      "source": [
        "Let's map the dataset! and see the first row:"
      ]
    },
    {
      "cell_type": "code",
      "execution_count": null,
      "metadata": {
        "id": "qyEVI972-d3n",
        "colab": {
          "base_uri": "https://localhost:8080/"
        },
        "outputId": "27093944-1f22-4263-bc31-e1976e773bcf"
      },
      "outputs": [
        {
          "output_type": "execute_result",
          "data": {
            "text/plain": [
              "{'prompt': [{'content': 'You are given a problem.\\nThink about the problem and provide your working out.\\nPlace it between <start_working_out> and <end_working_out>.\\nThen, provide your solution between <SOLUTION></SOLUTION>',\n",
              "   'role': 'system'},\n",
              "  {'content': 'In triangle $ABC$, $\\\\sin \\\\angle A = \\\\frac{4}{5}$ and $\\\\angle A < 90^\\\\circ$. Let $D$ be a point outside triangle $ABC$ such that $\\\\angle BAD = \\\\angle DAC$ and $\\\\angle BDC = 90^\\\\circ$. Suppose that $AD = 1$ and that $\\\\frac{BD}{CD} = \\\\frac{3}{2}$. If $AB + AC$ can be expressed in the form $\\\\frac{a\\\\sqrt{b}}{c}$ where $a, b, c$ are pairwise relatively prime integers, find $a + b + c$.',\n",
              "   'role': 'user'}],\n",
              " 'solution': '34',\n",
              " 'data_source': 'math_dapo',\n",
              " 'source_prompt': [{'content': 'Solve the following math problem step by step. The last line of your response should be of the form Answer: $Answer (without quotes) where $Answer is the answer to the problem.\\n\\nIn triangle $ABC$, $\\\\sin \\\\angle A = \\\\frac{4}{5}$ and $\\\\angle A < 90^\\\\circ$. Let $D$ be a point outside triangle $ABC$ such that $\\\\angle BAD = \\\\angle DAC$ and $\\\\angle BDC = 90^\\\\circ$. Suppose that $AD = 1$ and that $\\\\frac{BD}{CD} = \\\\frac{3}{2}$. If $AB + AC$ can be expressed in the form $\\\\frac{a\\\\sqrt{b}}{c}$ where $a, b, c$ are pairwise relatively prime integers, find $a + b + c$.\\n\\nRemember to put your answer on its own line after \"Answer:\".',\n",
              "   'role': 'user'}],\n",
              " 'ability': 'MATH',\n",
              " 'reward_model': {'ground_truth': '34', 'style': 'rule-lighteval/MATH_v2'},\n",
              " 'extra_info': {'index': '9a9b6eb4-a1cb-49d1-8c1e-62eaf2f74079'},\n",
              " 'answer': '34'}"
            ]
          },
          "metadata": {},
          "execution_count": 20
        }
      ],
      "source": [
        "dataset = dataset.map(lambda x: {\n",
        "    \"prompt\" : [\n",
        "        {\"role\": \"system\", \"content\": system_prompt},\n",
        "        {\"role\": \"user\",   \"content\": x[\"prompt\"]},\n",
        "    ],\n",
        "    \"answer\": extract_hash_answer(x[\"solution\"]),\n",
        "})\n",
        "dataset[0]"
      ]
    },
    {
      "cell_type": "markdown",
      "metadata": {
        "id": "-9m8eR9T-gMh"
      },
      "source": [
        "We create a regex format to match the reasoning sections and answers:"
      ]
    },
    {
      "cell_type": "code",
      "execution_count": null,
      "metadata": {
        "id": "iQwjTjNz-gY_",
        "colab": {
          "base_uri": "https://localhost:8080/"
        },
        "outputId": "df5be1ab-7710-4a3b-e950-74a96a32c1c2"
      },
      "outputs": [
        {
          "output_type": "execute_result",
          "data": {
            "text/plain": [
              "re.compile(r'<end_working_out>.*?<SOLUTION>(.+?)</SOLUTION>[\\s]{0,}(?:<\\|endoftext\\|>)?[\\s]{0,}$',\n",
              "re.MULTILINE|re.DOTALL|re.UNICODE)"
            ]
          },
          "metadata": {},
          "execution_count": 21
        }
      ],
      "source": [
        "import re\n",
        "\n",
        "# Add optional EOS token matching\n",
        "solution_end_regex = r\"</SOLUTION>[\\s]{0,}\" + \\\n",
        "    \"(?:\" + re.escape(tokenizer.eos_token) + \")?\"\n",
        "\n",
        "match_format = re.compile(\n",
        "    rf\"{reasoning_end}.*?\"\\\n",
        "    rf\"{solution_start}(.+?){solution_end_regex}\"\\\n",
        "    rf\"[\\s]{{0,}}$\",\n",
        "    flags = re.MULTILINE | re.DOTALL\n",
        ")\n",
        "match_format"
      ]
    },
    {
      "cell_type": "markdown",
      "metadata": {
        "id": "OycMneOq-iNC"
      },
      "source": [
        "We verify it works:"
      ]
    },
    {
      "cell_type": "code",
      "execution_count": null,
      "metadata": {
        "id": "ndzHnQ_6-jHt",
        "colab": {
          "base_uri": "https://localhost:8080/"
        },
        "outputId": "b9a8cb7d-4458-48ad-c072-8b03b4c48ae7"
      },
      "outputs": [
        {
          "output_type": "execute_result",
          "data": {
            "text/plain": [
              "['\\n2\\n']"
            ]
          },
          "metadata": {},
          "execution_count": 22
        }
      ],
      "source": [
        "match_format.findall(\n",
        "    \"Let me think!<end_working_out>\"\\\n",
        "    f\"<SOLUTION>\\n2\\n</SOLUTION>\",\n",
        ")"
      ]
    },
    {
      "cell_type": "code",
      "source": [
        "match_format.findall(\n",
        "    \"<start_working_out>Let me think!<end_working_out>\"\\\n",
        "    f\"<SOLUTION>  2  </SOLUTION>\\n\\n\",\n",
        ")"
      ],
      "metadata": {
        "id": "eRMDAzDk2x6t",
        "colab": {
          "base_uri": "https://localhost:8080/"
        },
        "outputId": "6ea5b05d-2038-407e-f66a-14824944ff73"
      },
      "execution_count": null,
      "outputs": [
        {
          "output_type": "execute_result",
          "data": {
            "text/plain": [
              "['  2  ']"
            ]
          },
          "metadata": {},
          "execution_count": 23
        }
      ]
    },
    {
      "cell_type": "markdown",
      "metadata": {
        "id": "weOjmO5l-kl3"
      },
      "source": [
        "We now want to create a reward function to match the format exactly - we reward it with 3 points if it succeeds:"
      ]
    },
    {
      "cell_type": "code",
      "execution_count": null,
      "metadata": {
        "id": "qgFNXORy-lpO"
      },
      "outputs": [],
      "source": [
        "def match_format_exactly(completions, **kwargs):\n",
        "    scores = []\n",
        "    for completion in completions:\n",
        "        score = 0\n",
        "        response = completion[0][\"content\"]\n",
        "        # Match if format is seen exactly!\n",
        "        if match_format.search(response) is not None: score += 3.0\n",
        "        scores.append(score)\n",
        "    return scores"
      ]
    },
    {
      "cell_type": "markdown",
      "metadata": {
        "id": "Gf69i2WT-m4K"
      },
      "source": [
        "If it fails, we want to reward the model if it at least follows the format partially, by counting each symbol:"
      ]
    },
    {
      "cell_type": "code",
      "execution_count": null,
      "metadata": {
        "id": "cUfHzCVx-nGK"
      },
      "outputs": [],
      "source": [
        "def match_format_approximately(completions, **kwargs):\n",
        "    scores = []\n",
        "    for completion in completions:\n",
        "        score = 0\n",
        "        response = completion[0][\"content\"]\n",
        "        # Count how many keywords are seen - we penalize if too many!\n",
        "        # If we see 1, then plus some points!\n",
        "\n",
        "        # No need to reward <start_working_out> since we always prepend it!\n",
        "        # score += 0.5 if response.count(reasoning_start) == 1 else -1.0\n",
        "        score += 0.5 if response.count(reasoning_end)   == 1 else -1.0\n",
        "        score += 0.5 if response.count(solution_start)  == 1 else -1.0\n",
        "        score += 0.5 if response.count(solution_end)    == 1 else -1.0\n",
        "        scores.append(score)\n",
        "    return scores"
      ]
    },
    {
      "cell_type": "markdown",
      "metadata": {
        "id": "9wAUWwtE-s6n"
      },
      "source": [
        "Finally, we want to extract the generated answer, and reward or penalize it! We also reward it based on how close the answer is to the true one via ratios:"
      ]
    },
    {
      "cell_type": "code",
      "execution_count": null,
      "metadata": {
        "id": "hmtI_8gg-uIE"
      },
      "outputs": [],
      "source": [
        "def check_answer(prompts, completions, answer, **kwargs):\n",
        "    question = prompts[0][-1][\"content\"]\n",
        "    responses = [completion[0][\"content\"] for completion in completions]\n",
        "\n",
        "    extracted_responses = [\n",
        "        guess.group(1)\n",
        "        if (guess := match_format.search(r)) is not None else None \\\n",
        "        for r in responses\n",
        "    ]\n",
        "\n",
        "    scores = []\n",
        "    for guess, true_answer in zip(extracted_responses, answer):\n",
        "        score = 0\n",
        "        if guess is None:\n",
        "            scores.append(-2.0)\n",
        "            continue\n",
        "        # Correct answer gets 5 points!\n",
        "        if guess == true_answer:\n",
        "            score += 5.0\n",
        "        # Match if spaces are seen, but less reward\n",
        "        elif guess.strip() == true_answer.strip():\n",
        "            score += 3.5\n",
        "        else:\n",
        "            # We also reward it if the answer is close via ratios!\n",
        "            # Ie if the answer is within some range, reward it!\n",
        "            try:\n",
        "                ratio = float(guess) / float(true_answer)\n",
        "                if   ratio >= 0.9 and ratio <= 1.1: score += 2.0\n",
        "                elif ratio >= 0.8 and ratio <= 1.2: score += 1.5\n",
        "                else: score -= 2.5 # Penalize wrong answers\n",
        "            except:\n",
        "                score -= 4.5 # Penalize\n",
        "        scores.append(score)\n",
        "    return scores"
      ]
    },
    {
      "cell_type": "markdown",
      "metadata": {
        "id": "atMyfhXh-v3R"
      },
      "source": [
        "Also sometimes it might not be 1 number as the answer, but like a sentence for example \"The solution is $20\" -> we extract 20.\n",
        "\n",
        "We also remove possible commas for example as in 123,456"
      ]
    },
    {
      "cell_type": "code",
      "execution_count": null,
      "metadata": {
        "id": "AVW0kL8q-wL5",
        "colab": {
          "base_uri": "https://localhost:8080/"
        },
        "outputId": "c9e9c298-1244-457b-ab52-19b9161c7dc0"
      },
      "outputs": [
        {
          "output_type": "stream",
          "name": "stdout",
          "text": [
            "['0.34']\n",
            "['123,456']\n",
            "['-0.234']\n",
            "['17']\n"
          ]
        }
      ],
      "source": [
        "match_numbers = re.compile(\n",
        "    solution_start + r\".*?[\\s]{0,}([-]?[\\d\\.\\,]{1,})\",\n",
        "    flags = re.MULTILINE | re.DOTALL\n",
        ")\n",
        "print(match_numbers.findall(\"<SOLUTION>  0.34  </SOLUTION>\"))\n",
        "print(match_numbers.findall(\"<SOLUTION>  123,456  </SOLUTION>\"))\n",
        "print(match_numbers.findall(\"<SOLUTION>  -0.234  </SOLUTION>\"))\n",
        "print(match_numbers.findall(\"<SOLUTION>17</SOLUTION>\"))"
      ]
    },
    {
      "cell_type": "markdown",
      "source": [
        "We now prepare our main function which will print out the generated responses and the true answer, along with another reward function which converts text to float via `float` and sees if it's the same."
      ],
      "metadata": {
        "id": "RbfaaAywNHHh"
      }
    },
    {
      "cell_type": "code",
      "execution_count": null,
      "metadata": {
        "id": "GjBFrttr-y1_"
      },
      "outputs": [],
      "source": [
        "global PRINTED_TIMES\n",
        "PRINTED_TIMES = 0\n",
        "global PRINT_EVERY_STEPS\n",
        "PRINT_EVERY_STEPS = 5\n",
        "\n",
        "def check_numbers(prompts, completions, answer, **kwargs):\n",
        "    question = prompts[0][-1][\"content\"]\n",
        "    responses = [completion[0][\"content\"] for completion in completions]\n",
        "\n",
        "    extracted_responses = [\n",
        "        guess.group(1)\n",
        "        if (guess := match_numbers.search(r)) is not None else None \\\n",
        "        for r in responses\n",
        "    ]\n",
        "\n",
        "    scores = []\n",
        "    # Print only every few steps\n",
        "    global PRINTED_TIMES\n",
        "    global PRINT_EVERY_STEPS\n",
        "    if PRINTED_TIMES % PRINT_EVERY_STEPS == 0:\n",
        "        print(\n",
        "            '*'*20 + f\"Question:\\n{question}\", f\"\\nAnswer:\\n{answer[0]}\", f\"\\nResponse:\\n{responses[0]}\", f\"\\nExtracted:\\n{extracted_responses[0]}\"\n",
        "        )\n",
        "    PRINTED_TIMES += 1\n",
        "\n",
        "    for guess, true_answer in zip(extracted_responses, answer):\n",
        "        if guess is None:\n",
        "            scores.append(-2.5)\n",
        "            continue\n",
        "        # Convert to numbers\n",
        "        try:\n",
        "            true_answer = float(true_answer.strip())\n",
        "            # Remove commas like in 123,456\n",
        "            guess       = float(guess.strip().replace(\",\", \"\"))\n",
        "            scores.append(3.5 if guess == true_answer else -1.5)\n",
        "        except:\n",
        "            scores.append(0)\n",
        "            continue\n",
        "    return scores"
      ]
    },
    {
      "cell_type": "markdown",
      "metadata": {
        "id": "fgOR3wJ_AyLr"
      },
      "source": [
        "Get the top 90% prompt length so we don't accidentally truncate them!\n",
        "\n",
        "Ie we'll remove the top 10% long prompts."
      ]
    },
    {
      "cell_type": "code",
      "execution_count": null,
      "metadata": {
        "id": "6EgAi4Q5fGE-",
        "colab": {
          "base_uri": "https://localhost:8080/"
        },
        "outputId": "29144f96-3792-4dda-9279-f52cde91b2d6"
      },
      "outputs": [
        {
          "output_type": "stream",
          "name": "stdout",
          "text": [
            "You are given a problem.\n",
            "Think about the problem and provide your working out.\n",
            "Place it between <start_working_out> and <end_working_out>.\n",
            "Then, provide your solution between <SOLUTION></SOLUTION><|endoftext|>In triangle $ABC$, $\\sin \\angle A = \\frac{4}{5}$ and $\\angle A < 90^\\circ$. Let $D$ be a point outside triangle $ABC$ such that $\\angle BAD = \\angle DAC$ and $\\angle BDC = 90^\\circ$. Suppose that $AD = 1$ and that $\\frac{BD}{CD} = \\frac{3}{2}$. If $AB + AC$ can be expressed in the form $\\frac{a\\sqrt{b}}{c}$ where $a, b, c$ are pairwise relatively prime integers, find $a + b + c$.<start_working_out>\n",
            "Max Length =  201\n"
          ]
        }
      ],
      "source": [
        "tokenized = dataset.map(\n",
        "    lambda x: {\"tokens\" : tokenizer.apply_chat_template(x[\"prompt\"], add_generation_prompt = True, tokenize = True)},\n",
        "    batched = True,\n",
        ")\n",
        "print(tokenizer.decode(tokenized[0][\"tokens\"]))\n",
        "tokenized = tokenized.map(lambda x: {\"L\" : len(x[\"tokens\"])})\n",
        "\n",
        "import numpy as np\n",
        "maximum_length = int(np.quantile(tokenized[\"L\"], 0.9))\n",
        "print(\"Max Length = \", maximum_length)\n",
        "\n",
        "# Filter only samples smaller than 90% max length\n",
        "dataset = dataset.select(np.where(np.array(tokenized[\"L\"]) <= maximum_length)[0])\n",
        "del tokenized"
      ]
    },
    {
      "cell_type": "markdown",
      "metadata": {
        "id": "9-IOMhVg-2AM"
      },
      "source": [
        "<a name=\"Train\"></a>\n",
        "### Train the model\n",
        "\n",
        "Now set up GRPO Trainer and all configurations!"
      ]
    },
    {
      "cell_type": "code",
      "execution_count": null,
      "metadata": {
        "id": "ptqkXK2D4d6p",
        "colab": {
          "base_uri": "https://localhost:8080/"
        },
        "outputId": "c51eba1a-b026-4064-f771-c52282a01808"
      },
      "outputs": [
        {
          "output_type": "stream",
          "name": "stdout",
          "text": [
            "Unsloth: We now expect `per_device_train_batch_size` to be a multiple of `num_generations`.\n",
            "We will change the batch size of 1 to the `num_generations` of 4\n"
          ]
        }
      ],
      "source": [
        "max_prompt_length = maximum_length + 1 # + 1 just in case!\n",
        "max_completion_length = max_seq_length - max_prompt_length\n",
        "\n",
        "from vllm import SamplingParams\n",
        "vllm_sampling_params = SamplingParams(\n",
        "    min_p = 0.1,\n",
        "    top_p = 1.0,\n",
        "    top_k = -1,\n",
        "    seed = 3407,\n",
        "    stop = [tokenizer.eos_token],\n",
        "    include_stop_str_in_output = True,\n",
        ")\n",
        "\n",
        "from trl import GRPOConfig, GRPOTrainer\n",
        "training_args = GRPOConfig(\n",
        "    vllm_sampling_params = vllm_sampling_params,\n",
        "    temperature = 1.0,\n",
        "    learning_rate = 5e-6,\n",
        "    weight_decay = 0.01,\n",
        "    warmup_ratio = 0.1,\n",
        "    lr_scheduler_type = \"linear\",\n",
        "    optim = \"adamw_8bit\",\n",
        "    logging_steps = 1,\n",
        "    per_device_train_batch_size = 1,\n",
        "    gradient_accumulation_steps = 1, # Increase to 4 for smoother training\n",
        "    num_generations = 4, # Decrease if out of memory\n",
        "    max_prompt_length = max_prompt_length,\n",
        "    max_completion_length = max_completion_length,\n",
        "    # num_train_epochs = 1, # Set to 1 for a full training run\n",
        "    max_steps = 100,\n",
        "    save_steps = 100,\n",
        "    report_to = \"none\", # Can use Weights & Biases\n",
        "    output_dir = \"outputs\",\n",
        "\n",
        "    # For optional training + evaluation\n",
        "    # fp16_full_eval = True,\n",
        "    # per_device_eval_batch_size = 4,\n",
        "    # eval_accumulation_steps = 1,\n",
        "    # eval_strategy = \"steps\",\n",
        "    # eval_steps = 1,\n",
        ")"
      ]
    },
    {
      "cell_type": "markdown",
      "metadata": {
        "id": "r9Mv8UZO5hz-"
      },
      "source": [
        "And let's run the trainer! If you scroll up, you'll see a table of rewards. The goal is to see the `reward` column increase!\n",
        "\n",
        "You might have to wait 150 to 200 steps for any action. You'll probably get 0 reward for the first 100 steps. Please be patient!\n",
        "\n",
        "| Step | Training Loss | reward    | reward_std | completion_length | kl       |\n",
        "|------|---------------|-----------|------------|-------------------|----------|\n",
        "| 1    | 0.000000      | 0.125000  | 0.000000   | 200.000000        | 0.000000 |\n",
        "| 2    | 0.000000      | 0.072375  | 0.248112   | 200.000000        | 0.000000 |\n",
        "| 3    | 0.000000      | -0.079000 | 0.163776   | 182.500000        | 0.000005 |\n"
      ]
    },
    {
      "cell_type": "code",
      "execution_count": null,
      "metadata": {
        "id": "vzOuSVCL_GA9",
        "colab": {
          "base_uri": "https://localhost:8080/",
          "height": 1000
        },
        "outputId": "475ef581-c821-4d75-9e74-e1ce7306fffc"
      },
      "outputs": [
        {
          "output_type": "stream",
          "name": "stderr",
          "text": [
            "==((====))==  Unsloth - 2x faster free finetuning | Num GPUs used = 1\n",
            "   \\\\   /|    Num examples = 12,709 | Num Epochs = 1 | Total steps = 100\n",
            "O^O/ \\_/ \\    Batch size per device = 4 | Gradient accumulation steps = 1\n",
            "\\        /    Data Parallel GPUs = 1 | Total batch size (4 x 1 x 1) = 4\n",
            " \"-____-\"     Trainable parameters = 66,060,288/4,088,528,384 (1.62% trained)\n"
          ]
        },
        {
          "output_type": "stream",
          "name": "stdout",
          "text": [
            "********************Question:\n",
            "Compute the number of positive integers that divide at least two of the integers in the set $\\{1^1,2^2,3^3,4^4,5^5,6^6,7^7,8^8,9^9,10^{10}\\}$. \n",
            "Answer:\n",
            "22 \n",
            "Response:\n",
            "Okay, so I need to find the number of positive integers that divide at least two of the numbers in the set {1^1, 2^2, 3^3, ..., 10^10}. Hmm, let's start by understanding what the problem is asking. We have a set where each element is a number raised to its own power, from 1 to 10. The goal is to find how many positive integers are divisors of at least two different numbers in this set.\n",
            "\n",
            "First, I should probably list out the elements of the set to see what they are. Let me compute each one:\n",
            "\n",
            "1. 1^1 = 1\n",
            "2. 2^2 = 4\n",
            "3. 3^3 = 27\n",
            "4. 4^4 = 256\n",
            "5. 5^5 = 3125\n",
            "6. 6^6 = 46656\n",
            "7. 7^7 = 823543\n",
            "8. 8^8 = 16777216\n",
            "9. 9^9 = 387420489\n",
            "10. 10^10 = 10000000000\n",
            "\n",
            "Wait, those are all the elements. Now, I need to find all positive integers that divide at least two of these numbers. So, essentially, I need to find the common divisors shared by at least two different numbers in this set. \n",
            "\n",
            "One approach could be to consider each number and its divisors, then find the overlaps. But maybe there's a smarter way? Let me think. Since each number is a power, their prime factorizations might have common divisors. For example, 4 and 8 are both powers of 2, so all powers of 2 are their common divisors. Similarly, 9 and 27 share powers of 3. But some numbers might not share common divisors, like 1 and 4. Wait, but 1 divides every integer, so 1 is a common divisor for every pair. So the number 1 is counted. Then, we need to look for other numbers.\n",
            "\n",
            "Perhaps I can compute the greatest common divisor (GCD) of pairs, triples, etc., but that might be complicated with so many numbers. Alternatively, maybe find the GCD of the entire set, but since some numbers are coprime (like 10^10 and 9^9), the GCD of the entire set is 1. But then, the divisors would just be 1. But wait, the problem asks for divisors that divide at least two numbers, so if the GCD is 1, then only 1 is the common divisor. But that can't be right because some pairs have common divisors greater than 1.\n",
            "\n",
            "Wait, maybe I'm mistaken. Let me think differently. The problem is equivalent to finding the number of integers that are common divisors of at least two different elements in the set. So, for each pair of elements, find their GCD, and then count the total distinct GCD values. But since some pairs might have different GCDs, and some common divisors might be included multiple times, we need to count them once.\n",
            "\n",
            "But enumerating all pairs would be time-consuming. There are 10 numbers, so 45 pairs. That's a lot. Maybe there's a pattern or a smarter way.\n",
            "\n",
            "Wait, since each element is a power, maybe their common divisors are also powers? For example, if two numbers share a common prime factor, their GCD is that prime raised to the minimum of their exponents in the factorization. But since each number is a power of itself, their GCD depends on the common bases. From the list, the numbers are 1, 4, 27, 256, 3125, 46656, 823543, 16777216, 387420489, 10000000000. \n",
            "\n",
            "Looking at these, the prime bases are 2, 3, 5, 7. Wait, 256 is 2^8, 27 is 3^3, 256 doesn't have 3 as a factor, so 4 and 27 share no common prime factors. Therefore, their GCD is 1. So some pairs have GCD 1. Then, pairs with common prime factors will have GCDs equal to that prime. For example, 4 and 16 (if it were there) would have gcd 4. But in our set, the primes involved are 2,3,5,7,11 (since 10^10 is 2^10*5^10). So the possible common divisors are the primes themselves and their powers up to the minimum in each pair.\n",
            "\n",
            "But how many distinct common divisors are there? Let me think. Each common divisor must be a common factor of at least two elements. Since the primes are 2,3,5,7,11, perhaps the common divisors are the powers of these primes that divide at least two elements. For example, 2 divides 4,8,16,... up to 2^8. So powers of 2 up to 2^8. Similarly, 3 divides 27,81,... up to 3^9. But wait, 27 is 3^3. So the powers of 3 up to 3^3, since 3^4 = 81 is not present in the set. Wait, 6^6 is a multiple of 3^4, but 3^9 is 19683, which is in the set. So the highest power of 3 dividing some number in the set is 3^9. But since 3^4 is not a divisor of any element except 6^6, the common divisors involving 3 are 3^1,3^2,3^3. Similarly for 5 and 7.\n",
            "\n",
            "Wait, 5 is present in 5^5 and 25. 25 is 5^2. So powers of 5 up to 5^2. Similarly for 7 and 11. So the common divisors would be 1, 2^1, 2^2, ..., 2^8, 3^1,3^2,3^3, 5^1,5^2, 7^1,11^1. That's 1 + 8 + 3 + 2 + 1 + 1 = 16. Wait, let me check:\n",
            "\n",
            "Powers of 2: 2^0 (1), 2^1, ..., 2^8 -> 9 divisors\n",
            "\n",
            "Powers of 3: 3^0 (1), 3^1, ..., 3^9 -> 10 divisors. But since not all powers are present, only up to 3^3 (dividing 27) and some higher ones. But 3^4 divides 6^6, so 3^1,3^2,3^3 are in the set. Wait, 3^4 is 81, which is a divisor of 6^6. So up to 3^3? Wait, 3^4 is present too. So 10 divisors (including 3^0).\n",
            "\n",
            "Powers of 5: 5^0,5^1,5^2 -> 3 divisors. Because 5^3 is 125, which is not a divisor of any element other than 5^5.\n",
            "\n",
            "Powers of 7: 7^0,7^1 -> 2 divisors, since 7^2 is 49, which is not a divisor of any element except possibly 7^7.\n",
            "\n",
            "Powers of 11: 11^0,11^1 -> 2 divisors, since 11^2 is 121, not among the elements.\n",
            "\n",
            "So total: 1 + 9 + 10 + 3 + 2 + 2 = 27. Wait, but let me verify if all these are indeed divisors of at least two elements. For example, 2^1 divides 4 and 8 (but 8 is not in the set), so 2^1 only divides 4. So powers of 2 can only go up to 2^8. So \n",
            "Extracted:\n",
            "None\n"
          ]
        },
        {
          "output_type": "display_data",
          "data": {
            "text/plain": [
              "<IPython.core.display.HTML object>"
            ],
            "text/html": [
              "\n",
              "    <div>\n",
              "      \n",
              "      <progress value='38' max='100' style='width:300px; height:20px; vertical-align: middle;'></progress>\n",
              "      [ 38/100 1:05:00 < 1:51:58, 0.01 it/s, Epoch 0.00/1]\n",
              "    </div>\n",
              "    <table border=\"1\" class=\"dataframe\">\n",
              "  <thead>\n",
              " <tr style=\"text-align: left;\">\n",
              "      <th>Step</th>\n",
              "      <th>Training Loss</th>\n",
              "      <th>reward</th>\n",
              "      <th>reward_std</th>\n",
              "      <th>completion_length</th>\n",
              "      <th>kl</th>\n",
              "      <th>rewards / match_format_exactly</th>\n",
              "      <th>rewards / match_format_approximately</th>\n",
              "      <th>rewards / check_answer</th>\n",
              "      <th>rewards / check_numbers</th>\n",
              "    </tr>\n",
              "  </thead>\n",
              "  <tbody>\n",
              "    <tr>\n",
              "      <td>1</td>\n",
              "      <td>0.006200</td>\n",
              "      <td>-7.500000</td>\n",
              "      <td>0.000000</td>\n",
              "      <td>1846.000000</td>\n",
              "      <td>0.155558</td>\n",
              "      <td>0.000000</td>\n",
              "      <td>-3.000000</td>\n",
              "      <td>-2.000000</td>\n",
              "      <td>-2.500000</td>\n",
              "    </tr>\n",
              "    <tr>\n",
              "      <td>2</td>\n",
              "      <td>0.006500</td>\n",
              "      <td>1.625000</td>\n",
              "      <td>8.469307</td>\n",
              "      <td>1609.500000</td>\n",
              "      <td>0.163150</td>\n",
              "      <td>2.250000</td>\n",
              "      <td>0.375000</td>\n",
              "      <td>-0.500000</td>\n",
              "      <td>-0.500000</td>\n",
              "    </tr>\n",
              "    <tr>\n",
              "      <td>3</td>\n",
              "      <td>0.006000</td>\n",
              "      <td>-2.000000</td>\n",
              "      <td>3.785939</td>\n",
              "      <td>1763.000000</td>\n",
              "      <td>0.150436</td>\n",
              "      <td>2.250000</td>\n",
              "      <td>0.375000</td>\n",
              "      <td>-2.875000</td>\n",
              "      <td>-1.750000</td>\n",
              "    </tr>\n",
              "    <tr>\n",
              "      <td>4</td>\n",
              "      <td>0.008100</td>\n",
              "      <td>-7.500000</td>\n",
              "      <td>0.000000</td>\n",
              "      <td>1846.000000</td>\n",
              "      <td>0.202424</td>\n",
              "      <td>0.000000</td>\n",
              "      <td>-3.000000</td>\n",
              "      <td>-2.000000</td>\n",
              "      <td>-2.500000</td>\n",
              "    </tr>\n",
              "    <tr>\n",
              "      <td>5</td>\n",
              "      <td>0.005100</td>\n",
              "      <td>13.000000</td>\n",
              "      <td>0.000000</td>\n",
              "      <td>1383.750000</td>\n",
              "      <td>0.126857</td>\n",
              "      <td>3.000000</td>\n",
              "      <td>1.500000</td>\n",
              "      <td>5.000000</td>\n",
              "      <td>3.500000</td>\n",
              "    </tr>\n",
              "    <tr>\n",
              "      <td>6</td>\n",
              "      <td>0.005300</td>\n",
              "      <td>-7.500000</td>\n",
              "      <td>0.000000</td>\n",
              "      <td>1846.000000</td>\n",
              "      <td>0.131952</td>\n",
              "      <td>0.000000</td>\n",
              "      <td>-3.000000</td>\n",
              "      <td>-2.000000</td>\n",
              "      <td>-2.500000</td>\n",
              "    </tr>\n",
              "    <tr>\n",
              "      <td>7</td>\n",
              "      <td>0.005700</td>\n",
              "      <td>-7.500000</td>\n",
              "      <td>0.000000</td>\n",
              "      <td>1846.000000</td>\n",
              "      <td>0.141782</td>\n",
              "      <td>0.000000</td>\n",
              "      <td>-3.000000</td>\n",
              "      <td>-2.000000</td>\n",
              "      <td>-2.500000</td>\n",
              "    </tr>\n",
              "    <tr>\n",
              "      <td>8</td>\n",
              "      <td>0.004600</td>\n",
              "      <td>-7.500000</td>\n",
              "      <td>0.000000</td>\n",
              "      <td>1846.000000</td>\n",
              "      <td>0.114443</td>\n",
              "      <td>0.000000</td>\n",
              "      <td>-3.000000</td>\n",
              "      <td>-2.000000</td>\n",
              "      <td>-2.500000</td>\n",
              "    </tr>\n",
              "    <tr>\n",
              "      <td>9</td>\n",
              "      <td>0.005100</td>\n",
              "      <td>-7.500000</td>\n",
              "      <td>0.000000</td>\n",
              "      <td>1846.000000</td>\n",
              "      <td>0.128376</td>\n",
              "      <td>0.000000</td>\n",
              "      <td>-3.000000</td>\n",
              "      <td>-2.000000</td>\n",
              "      <td>-2.500000</td>\n",
              "    </tr>\n",
              "    <tr>\n",
              "      <td>10</td>\n",
              "      <td>0.005200</td>\n",
              "      <td>-5.500000</td>\n",
              "      <td>4.000000</td>\n",
              "      <td>1787.750000</td>\n",
              "      <td>0.130214</td>\n",
              "      <td>0.750000</td>\n",
              "      <td>-1.875000</td>\n",
              "      <td>-2.125000</td>\n",
              "      <td>-2.250000</td>\n",
              "    </tr>\n",
              "    <tr>\n",
              "      <td>11</td>\n",
              "      <td>0.006200</td>\n",
              "      <td>11.000000</td>\n",
              "      <td>4.000000</td>\n",
              "      <td>1388.500000</td>\n",
              "      <td>0.155378</td>\n",
              "      <td>3.000000</td>\n",
              "      <td>1.500000</td>\n",
              "      <td>4.250000</td>\n",
              "      <td>2.250000</td>\n",
              "    </tr>\n",
              "    <tr>\n",
              "      <td>12</td>\n",
              "      <td>0.006600</td>\n",
              "      <td>-5.500000</td>\n",
              "      <td>4.000000</td>\n",
              "      <td>1716.750000</td>\n",
              "      <td>0.164832</td>\n",
              "      <td>0.750000</td>\n",
              "      <td>-1.875000</td>\n",
              "      <td>-2.125000</td>\n",
              "      <td>-2.250000</td>\n",
              "    </tr>\n",
              "    <tr>\n",
              "      <td>13</td>\n",
              "      <td>0.006400</td>\n",
              "      <td>-4.375000</td>\n",
              "      <td>6.250000</td>\n",
              "      <td>1787.750000</td>\n",
              "      <td>0.160304</td>\n",
              "      <td>0.750000</td>\n",
              "      <td>-1.875000</td>\n",
              "      <td>-1.000000</td>\n",
              "      <td>-2.250000</td>\n",
              "    </tr>\n",
              "    <tr>\n",
              "      <td>14</td>\n",
              "      <td>0.006100</td>\n",
              "      <td>2.750000</td>\n",
              "      <td>11.835680</td>\n",
              "      <td>1785.250000</td>\n",
              "      <td>0.152630</td>\n",
              "      <td>1.500000</td>\n",
              "      <td>-0.750000</td>\n",
              "      <td>1.500000</td>\n",
              "      <td>0.500000</td>\n",
              "    </tr>\n",
              "    <tr>\n",
              "      <td>15</td>\n",
              "      <td>0.005800</td>\n",
              "      <td>2.750000</td>\n",
              "      <td>11.835680</td>\n",
              "      <td>1636.250000</td>\n",
              "      <td>0.143978</td>\n",
              "      <td>1.500000</td>\n",
              "      <td>-0.750000</td>\n",
              "      <td>1.500000</td>\n",
              "      <td>0.500000</td>\n",
              "    </tr>\n",
              "    <tr>\n",
              "      <td>16</td>\n",
              "      <td>0.005600</td>\n",
              "      <td>-7.500000</td>\n",
              "      <td>0.000000</td>\n",
              "      <td>1846.000000</td>\n",
              "      <td>0.140697</td>\n",
              "      <td>0.000000</td>\n",
              "      <td>-3.000000</td>\n",
              "      <td>-2.000000</td>\n",
              "      <td>-2.500000</td>\n",
              "    </tr>\n",
              "    <tr>\n",
              "      <td>17</td>\n",
              "      <td>0.004800</td>\n",
              "      <td>-5.500000</td>\n",
              "      <td>4.000000</td>\n",
              "      <td>1838.750000</td>\n",
              "      <td>0.119380</td>\n",
              "      <td>0.750000</td>\n",
              "      <td>-1.875000</td>\n",
              "      <td>-2.125000</td>\n",
              "      <td>-2.250000</td>\n",
              "    </tr>\n",
              "    <tr>\n",
              "      <td>18</td>\n",
              "      <td>0.005700</td>\n",
              "      <td>-7.500000</td>\n",
              "      <td>0.000000</td>\n",
              "      <td>1846.000000</td>\n",
              "      <td>0.141317</td>\n",
              "      <td>0.000000</td>\n",
              "      <td>-3.000000</td>\n",
              "      <td>-2.000000</td>\n",
              "      <td>-2.500000</td>\n",
              "    </tr>\n",
              "    <tr>\n",
              "      <td>19</td>\n",
              "      <td>0.005200</td>\n",
              "      <td>-7.500000</td>\n",
              "      <td>0.000000</td>\n",
              "      <td>1846.000000</td>\n",
              "      <td>0.129047</td>\n",
              "      <td>0.000000</td>\n",
              "      <td>-3.000000</td>\n",
              "      <td>-2.000000</td>\n",
              "      <td>-2.500000</td>\n",
              "    </tr>\n",
              "    <tr>\n",
              "      <td>20</td>\n",
              "      <td>0.006800</td>\n",
              "      <td>-7.500000</td>\n",
              "      <td>0.000000</td>\n",
              "      <td>1846.000000</td>\n",
              "      <td>0.170660</td>\n",
              "      <td>0.000000</td>\n",
              "      <td>-3.000000</td>\n",
              "      <td>-2.000000</td>\n",
              "      <td>-2.500000</td>\n",
              "    </tr>\n",
              "    <tr>\n",
              "      <td>21</td>\n",
              "      <td>0.005800</td>\n",
              "      <td>5.750000</td>\n",
              "      <td>9.699656</td>\n",
              "      <td>1603.500000</td>\n",
              "      <td>0.144961</td>\n",
              "      <td>2.250000</td>\n",
              "      <td>0.375000</td>\n",
              "      <td>2.375000</td>\n",
              "      <td>0.750000</td>\n",
              "    </tr>\n",
              "    <tr>\n",
              "      <td>22</td>\n",
              "      <td>0.006200</td>\n",
              "      <td>2.750000</td>\n",
              "      <td>11.835680</td>\n",
              "      <td>1652.250000</td>\n",
              "      <td>0.154734</td>\n",
              "      <td>1.500000</td>\n",
              "      <td>-0.750000</td>\n",
              "      <td>1.500000</td>\n",
              "      <td>0.500000</td>\n",
              "    </tr>\n",
              "    <tr>\n",
              "      <td>23</td>\n",
              "      <td>0.007000</td>\n",
              "      <td>-2.500000</td>\n",
              "      <td>6.000000</td>\n",
              "      <td>1655.250000</td>\n",
              "      <td>0.175523</td>\n",
              "      <td>1.500000</td>\n",
              "      <td>-0.750000</td>\n",
              "      <td>-1.250000</td>\n",
              "      <td>-2.000000</td>\n",
              "    </tr>\n",
              "    <tr>\n",
              "      <td>24</td>\n",
              "      <td>0.005000</td>\n",
              "      <td>-7.500000</td>\n",
              "      <td>0.000000</td>\n",
              "      <td>1846.000000</td>\n",
              "      <td>0.124594</td>\n",
              "      <td>0.000000</td>\n",
              "      <td>-3.000000</td>\n",
              "      <td>-2.000000</td>\n",
              "      <td>-2.500000</td>\n",
              "    </tr>\n",
              "    <tr>\n",
              "      <td>25</td>\n",
              "      <td>0.013300</td>\n",
              "      <td>7.875000</td>\n",
              "      <td>10.250000</td>\n",
              "      <td>1337.250000</td>\n",
              "      <td>0.333630</td>\n",
              "      <td>2.250000</td>\n",
              "      <td>0.375000</td>\n",
              "      <td>3.250000</td>\n",
              "      <td>2.000000</td>\n",
              "    </tr>\n",
              "    <tr>\n",
              "      <td>26</td>\n",
              "      <td>0.006200</td>\n",
              "      <td>-2.375000</td>\n",
              "      <td>10.250000</td>\n",
              "      <td>1775.250000</td>\n",
              "      <td>0.156142</td>\n",
              "      <td>0.750000</td>\n",
              "      <td>-1.875000</td>\n",
              "      <td>-0.250000</td>\n",
              "      <td>-1.000000</td>\n",
              "    </tr>\n",
              "    <tr>\n",
              "      <td>27</td>\n",
              "      <td>0.006100</td>\n",
              "      <td>-3.500000</td>\n",
              "      <td>4.618802</td>\n",
              "      <td>1509.500000</td>\n",
              "      <td>0.152077</td>\n",
              "      <td>1.500000</td>\n",
              "      <td>-0.750000</td>\n",
              "      <td>-2.250000</td>\n",
              "      <td>-2.000000</td>\n",
              "    </tr>\n",
              "    <tr>\n",
              "      <td>28</td>\n",
              "      <td>0.006200</td>\n",
              "      <td>-7.500000</td>\n",
              "      <td>0.000000</td>\n",
              "      <td>1846.000000</td>\n",
              "      <td>0.154596</td>\n",
              "      <td>0.000000</td>\n",
              "      <td>-3.000000</td>\n",
              "      <td>-2.000000</td>\n",
              "      <td>-2.500000</td>\n",
              "    </tr>\n",
              "    <tr>\n",
              "      <td>29</td>\n",
              "      <td>0.004700</td>\n",
              "      <td>-7.500000</td>\n",
              "      <td>0.000000</td>\n",
              "      <td>1846.000000</td>\n",
              "      <td>0.117816</td>\n",
              "      <td>0.000000</td>\n",
              "      <td>-3.000000</td>\n",
              "      <td>-2.000000</td>\n",
              "      <td>-2.500000</td>\n",
              "    </tr>\n",
              "    <tr>\n",
              "      <td>30</td>\n",
              "      <td>0.003900</td>\n",
              "      <td>-7.500000</td>\n",
              "      <td>0.000000</td>\n",
              "      <td>1846.000000</td>\n",
              "      <td>0.097138</td>\n",
              "      <td>0.000000</td>\n",
              "      <td>-3.000000</td>\n",
              "      <td>-2.000000</td>\n",
              "      <td>-2.500000</td>\n",
              "    </tr>\n",
              "    <tr>\n",
              "      <td>31</td>\n",
              "      <td>0.005700</td>\n",
              "      <td>13.000000</td>\n",
              "      <td>0.000000</td>\n",
              "      <td>1338.750000</td>\n",
              "      <td>0.142512</td>\n",
              "      <td>3.000000</td>\n",
              "      <td>1.500000</td>\n",
              "      <td>5.000000</td>\n",
              "      <td>3.500000</td>\n",
              "    </tr>\n",
              "    <tr>\n",
              "      <td>32</td>\n",
              "      <td>0.005400</td>\n",
              "      <td>-7.500000</td>\n",
              "      <td>0.000000</td>\n",
              "      <td>1846.000000</td>\n",
              "      <td>0.133990</td>\n",
              "      <td>0.000000</td>\n",
              "      <td>-3.000000</td>\n",
              "      <td>-2.000000</td>\n",
              "      <td>-2.500000</td>\n",
              "    </tr>\n",
              "    <tr>\n",
              "      <td>33</td>\n",
              "      <td>0.007900</td>\n",
              "      <td>13.000000</td>\n",
              "      <td>0.000000</td>\n",
              "      <td>1038.750000</td>\n",
              "      <td>0.197821</td>\n",
              "      <td>3.000000</td>\n",
              "      <td>1.500000</td>\n",
              "      <td>5.000000</td>\n",
              "      <td>3.500000</td>\n",
              "    </tr>\n",
              "    <tr>\n",
              "      <td>34</td>\n",
              "      <td>0.003900</td>\n",
              "      <td>-7.500000</td>\n",
              "      <td>0.000000</td>\n",
              "      <td>1846.000000</td>\n",
              "      <td>0.098563</td>\n",
              "      <td>0.000000</td>\n",
              "      <td>-3.000000</td>\n",
              "      <td>-2.000000</td>\n",
              "      <td>-2.500000</td>\n",
              "    </tr>\n",
              "    <tr>\n",
              "      <td>35</td>\n",
              "      <td>0.007100</td>\n",
              "      <td>7.875000</td>\n",
              "      <td>10.250000</td>\n",
              "      <td>1358.500000</td>\n",
              "      <td>0.178040</td>\n",
              "      <td>2.250000</td>\n",
              "      <td>0.375000</td>\n",
              "      <td>3.250000</td>\n",
              "      <td>2.000000</td>\n",
              "    </tr>\n",
              "    <tr>\n",
              "      <td>36</td>\n",
              "      <td>0.004200</td>\n",
              "      <td>-7.500000</td>\n",
              "      <td>0.000000</td>\n",
              "      <td>1846.000000</td>\n",
              "      <td>0.104230</td>\n",
              "      <td>0.000000</td>\n",
              "      <td>-3.000000</td>\n",
              "      <td>-2.000000</td>\n",
              "      <td>-2.500000</td>\n",
              "    </tr>\n",
              "  </tbody>\n",
              "</table><p>"
            ]
          },
          "metadata": {}
        },
        {
          "output_type": "stream",
          "name": "stdout",
          "text": [
            "********************Question:\n",
            "The sum of $\\lfloor x \\rfloor$ for all real numbers $x$ satisfying the equation $16 + 15x + 15x^2 = \\lfloor x \\rfloor^3$ is: \n",
            "Answer:\n",
            "33 \n",
            "Response:\n",
            "Okay, let's see here. I need to find the sum of floor(x) for all real numbers x that satisfy the equation 16 + 15x + 15x² = floor(x)³. Hmm, floor(x) is the greatest integer less than or equal to x. So, maybe I can set floor(x) equal to some integer k and then see what x would be in that case. Let me try that.\n",
            "\n",
            "Let me denote floor(x) = k, where k is an integer. Then the equation becomes 16 + 15x + 15x² = k³. But since k = floor(x), x is in the interval [k, k+1). So I can substitute x with k + f, where 0 ≤ f < 1. Let me plug that in.\n",
            "\n",
            "Substituting x = k + f into the equation: 16 + 15(k + f) + 15(k + f)² = k³. Let me expand that. First, 15(k + f) = 15k + 15f. Then (k + f)² = k² + 2kf + f². So 15(k + f)² = 15k² + 30kf + 15f². Adding them all together: 16 + 15k + 15f + 15k² + 30kf + 15f² = k³.\n",
            "\n",
            "Wait, that seems a bit complicated because of the terms like kf and f². Maybe there's a simpler way. Since f is between 0 and 1, maybe the terms with f will be small and negligible? But wait, the equation still has both integer and non-integer parts, so perhaps there's only a few integer solutions for k where the equation can hold.\n",
            "\n",
            "Let me think differently. Since floor(x) = k, then x is from [k, k+1). Plugging x into the original equation gives 16 + 15x + 15x² = k³. Let me rearrange the equation to form a quadratic in x: 15x² + 15x + 16 - k³ = 0.\n",
            "\n",
            "Using the quadratic formula, x = [-15 ± sqrt(15² - 4*15*(16 - k³))]/(2*15). Simplifying inside the square root: 225 - 60(16 - k³) = 225 - 960 + 60k³ = 60k³ - 735. So the discriminant is 60k³ - 735. For real solutions, the discriminant must be non-negative: 60k³ - 735 ≥ 0 => k³ ≥ 735/60 => k³ ≥ 12.25. Therefore, k is at least 2 since 2³=8, 3³=27, so k ≥ 3.\n",
            "\n",
            "Wait, but wait: if k=3, then k³=27. Then the equation becomes 16 + 15*3 + 15*9 = 27. Let's check: 16 +45 +135 = 196. But 27³ is 19683, which is way larger. Wait, no, the equation is 16 + 15x + 15x² = k³. So if x is 3, then let's check: 16 +15*3 +15*9 = 16+45+135 = 196. But 3³ is 27. So 196 ≠ 27, so x can't be 3. Therefore, k can't be 3. Hmm, so maybe k=2? Let me check k=2.\n",
            "\n",
            "If k=2, then k³=8. The equation becomes 16 +15*2 +15*4 = 8. Let's compute: 16 +30 +60 = 106. But 2³ is 8, so 106 ≠ 8. So k=2 doesn't work either. So maybe k=4? 4³=64, equation: 16 +15*4 +15*16 = 64. That's 16 +60 +240 = 316. 316 ≠ 64. No, so k=4 is too big. Wait, but according to earlier, k³ should be at least 12.25, so k starts at 3. But k=3 gives 196 ≠ 27, k=4 gives 316≠64, so maybe there's no solution? Wait, but maybe I made a mistake. Let me check the discriminant again.\n",
            "\n",
            "Wait, the quadratic equation is 15x² +15x + (16 -k³) = 0. The discriminant is b² -4ac = 225 - 60(16 -k³) = 225 - 960 + 60k³ = 60k³ -735. So for real solutions, 60k³ -735 ≥ 0 => k³ ≥ 12.25. So k ≥ 2.5, so k≥3. So k can be 3,4,5,... Let's test k=3.\n",
            "\n",
            "For k=3: equation becomes 16+15x+15x²=27. So 15x² +15x -11=0. Using quadratic formula: x = [-15 ± sqrt(225+660)]/30 = [-15 ± sqrt(885)]/30. But sqrt(885) is approximately 29.75. So x ≈ (-15+29.75)/30 ≈ 14.75/30 ≈ 0.4917. But wait, but k=3 is the floor of x. So x≈0.4917, which is less than 3, so floor(x)=2, but we assumed k=3. Contradiction. So no solution here. Next, k=4.\n",
            "\n",
            "For k=4: equation is 16+15x+15x²=64. So 15x² +15x -48=0. Dividing by 3: 5x² +5x -16=0. Discriminant is 25+320=345. So x = [-5 ±√345]/10. √345 is about 18.57. So x ≈ (-5+18.57)/10 ≈ 13.57/10 ≈ 1.357. But k=4, so floor(x) should be 4. But x≈1.357 has floor 1, not 4. Contradiction again. So no solution for k=4.\n",
            "\n",
            "Next, k=5. Equation: 16+15x+15x²=125. So 15x² +15x -109=0. Dividing by 3: 5x² +5x -36.333... Wait, 109/3 ≈ 36.333. Hmm, 5x² +5x -36.333 =0. Discriminant: 25 +720.666 ≈ 745.666. So x = [-5±√745.666]/10. √745.666 ≈ 27.31. So x ≈ (22.31)/10 ≈ 2.231. But k=5, so floor(x) should be 5. But x≈2.231 has floor 2, not 5. Contradiction again. So no solution for k=5.\n",
            "\n",
            "Wait, so let's check k=1. Earlier, I thought k≥3, but maybe k=1 works. If k=1: equation is 16+1 \n",
            "Extracted:\n",
            "None\n",
            "********************Question:\n",
            "Letters $A, B, C,$ and $D$ represent four different digits from 0, 1, 2, 3, ..., 9. If $\\frac{A+B}{C+D}$ is an integer that is as large as possible, what is the value of $A+B$? \n",
            "Answer:\n",
            "17 \n",
            "Response:\n",
            "Okay, so I need to find four different digits A, B, C, D from 0 to 9 such that (A + B) divided by (C + D) is an integer that's as large as possible. And then, I need to find the value of A + B. Hmm, let's think.\n",
            "\n",
            "First, since we want (A+B)/(C+D) to be as large as possible, and it has to be an integer, that means (A+B) must be a multiple of (C+D). But because we're trying to maximize the quotient, we should probably make the numerator (A+B) as large as possible and the denominator (C+D) as small as possible.\n",
            "\n",
            "Okay, but wait, A, B, C, D are different digits, so none of them can be repeated. So when I'm choosing A and B, they can't be the same as C and D. Let me think about the maximum possible value for A+B. If A and B are the two largest digits available, then that would be 9 and 8, which sum to 17. But then the denominator would have to be a divisor of 17. The only divisors of 17 are 1 and 17 since 17 is a prime number. But if the denominator is 17, then C+D would have to be 1, which means C and D are 0 and 9 or 1 and 8, but since we can't repeat digits with A and B, which might include 9 and 8, this seems tricky.\n",
            "\n",
            "Wait, maybe instead of using the largest digits for A and B, we can use smaller digits for the denominator to get a larger multiple. For example, if C+D is 2 (which would make the denominator smaller), then A+B has to be a multiple of 2. The largest multiple of 2 possible with digits 0-9 without repeating any digits. But since A and B are different digits from C and D, we have to be careful.\n",
            "\n",
            "Let me try to formalize this. We need to maximize (A+B)/(C+D), which is equivalent to making A+B as large as possible and C+D as small as possible, given that A+B is divisible by C+D and all letters are distinct digits.\n",
            "\n",
            "The smallest possible C+D can be is 0+1=1. Then A+B would have to be a multiple of 1, so A+B can be any integer. But the maximum A+B would be when A and B are the two largest digits, say 9 and 8, totaling 17. So one possible solution would be C=0, D=1, A=9, B=8, giving 17/1 = 17. But wait, are all digits distinct? Yes, because 0,1,9,8 are all different. So 17 is achievable here.\n",
            "\n",
            "But maybe there's a higher possible value? Let's check if C+D can be 2. If C+D=2, then possible pairs are (0,2) and (1,1). But since digits must be different, (1,1) is invalid. So (0,2) would make C+D=2. Then A+B has to be a multiple of 2. The largest possible A+B here would be 9+8=17. Let's see, can we have C and D as 0 and 2? Then A and B would have to use the digits 1,8,9. So yes, A=9, B=8 is valid. Then 17/2=8.5, which is less than 17. So 1/1 is better.\n",
            "\n",
            "Next, if C+D=3, possible pairs are (0,3), (1,2). Largest A+B would be 17. If C=0, D=3, A=9, B=8 works. Then 17/3 is about 5.666. Less than 17. If C=1, D=2, then A+B has to be a multiple of 3. The maximum would be 9+6=15, but we need distinct digits. So instead of 9 and 6, we could have 9 and 5, which is 14. Then 14/3 is 4.x, which is less. So 17/1 is still better.\n",
            "\n",
            "Wait, but what if C+D=4? Then possible pairs: (0,4), (1,3), (2,2). But (2,2) is invalid. So (0,4) and (1,3). Largest A+B should be 17. Let's try C=0, D=4. Then A and B can be 9,8. So 17/4=4.25. Less. Or C=1, D=3. Then A+B has to be a multiple of 4. The maximum would be 12 (using digits 9,3, but 3 is already used as D). So 9+3=12. Then 12/4=3. So 17/1 is still better.\n",
            "\n",
            "Wait, but maybe C+D can be larger? Let's see. The maximum possible C+D would be when C and D are the largest digits possible that aren't used by A and B. But since A and B are the largest available first, their sum is 17. Then C+D has to divide 17. The divisors of 17 are 1 and 17. If C+D=17, then A+B would have to be 17, but then C and D would have to be 8 and 9 to make the sum 17, but A and B would also be 8 and 9, which violates the distinctness. So the only possibility is C+D=1. Hence, the maximum value of (A+B)/(C+D) is 17/1=17. Therefore, A+B=17.\n",
            "\n",
            "Wait, but let me double-check: C and D are 0 and 1, A and B are 9 and 8. All digits are distinct: 0,1,9,8. The sum A+B is 9+8=17, which is divisible by C+D=1. So yes, 17/1=17 is an integer and the largest possible. So the answer is 17. So the solution is \\boxed{17}.\n",
            "To maximize the value of \\(\\frac{A+B}{C+D}\\) where \\(A, B, C,\\) and \\(D\\) are distinct digits from 0 to 9, we need to consider the following steps:\n",
            "\n",
            "1. **Maximize \\(A + B\\):** The largest possible sum of two distinct digits is \\(9 + 8 = 17\\).\n",
            "2. **Minimize \\(C + D\\):** The smallest possible sum of two distinct digits is \\(0 + 1 = 1\\).\n",
            "3. **Check divisibility:** Since \\(C + D\\) must divide \\(A + B\\), we need \\(A + B\\) to be a multiple of \\(C + D\\).\n",
            "\n",
            "Given \\(A + B = 17\\), we check if \\(17\\) is divisible by \\(C + D\\). The only divisors of 17 are 1 and 17. Since \\(C + D\\) must be less than 17 (because \\(C\\) and \\(D\\) are distinct and different from \\(A\\) and \\(B\\)), the only feasible value is \\(C + D = 1\\).\n",
            "\n",
            "Thus, we can choose \\(C = 0\\) and \\(D = 1\\), and the remaining digits are \\(9\\) and \\(8\\) for \\(A\\) and \\(B\\). Therefore, \\(A = 9\\) and \\(B = 8\\), and we have:\n",
            "\\[\n",
            "A + B = 9 + 8 = 17\n",
            "\\]\n",
            "\n",
            "Thus, the value of \\(A + B\\) is \\(\\boxed{17}\\).<end_working_out><SOLUTION>17</SOLUTION> \n",
            "Extracted:\n",
            "17\n",
            "********************Question:\n",
            "Let $f(x)=\\int_0^{x} e^{t} (\\cos t+\\sin t)\\, dt$, $g(x)=\\int_0^{x} e^{t} (\\cos t-\\sin t)\\, dt$. \n",
            "\n",
            "For a real number $a$, find:\n",
            "\\[ \\sum_{n=1}^{\\infty} \\frac{e^{2a}}{\\{f^{(n)}(a)\\}^2+\\{g^{(n)}(a)\\}^2}. \\] \n",
            "Answer:\n",
            "1 \n",
            "Response:\n",
            "Okay, so I need to solve this problem involving integrals and their derivatives. Let's see. The problem defines two functions, f(x) and g(x), each as definite integrals with exponential and trigonometric terms. Then, it asks for the sum of a series from n=1 to infinity, where each term is e^(2a) divided by the sum of the squares of the nth derivatives of f at a and g at a. Hmm, that's a bit complicated. Let me think step by step.\n",
            "\n",
            "First, I need to understand f(x) and g(x). Let me write down the integrals again:\n",
            "\n",
            "f(x) = integral from 0 to x of e^t (cos t + sin t) dt\n",
            "g(x) = integral from 0 to x of e^t (cos t - sin t) dt\n",
            "\n",
            "Oh, notice that both integrands are e^t times either a linear combination of cos t and sin t. Maybe there's a way to combine these into a single integral? Let me check: (cos t + sin t) + (cos t - sin t) = 2 cos t. But that's not the case here. Alternatively, maybe express the integrands in terms of e^t (cos t ± sin t)? Wait, actually, they already are. Hmm, perhaps I can find f' and g' directly. Since they are integrals, their derivatives would be the integrands evaluated at x, right? So by the Fundamental Theorem of Calculus.\n",
            "\n",
            "So, f'(x) = e^x (cos x + sin x)\n",
            "g'(x) = e^x (cos x - sin x)\n",
            "\n",
            "Then, the next derivatives would involve differentiating these expressions. Let's compute f''(x) and g''(x). Let's start with f'(x) = e^x (cos x + sin x). To find f''(x), differentiate term by term. The derivative of e^x (cos x) is e^x cos x - e^x sin x (using the product rule), and similarly for the sin x term. So adding them up, f''(x) = e^x (cos x - sin x + sin x + cos x) = e^x (2 cos x). Wait, that simplifies to f''(x) = 2 e^x cos x. Similarly, for g''(x), starting with g'(x) = e^x (cos x - sin x). Differentiating again, g''(x) = e^x (cos x - sin x) + e^x (-sin x -cos x) = e^x (cos x - sin x - sin x - cos x) = -2 e^x sin x. So g''(x) = -2 e^x sin x. \n",
            "\n",
            "Interesting. So the nth derivatives will involve powers of e^x multiplied by sin or cos terms. Then the problem is asking for the sum from n=1 to infinity of e^(2a) divided by the sum of the squares of f^(n)(a) and g^(n)(a). The denominators will be the sum of squares of these derivatives evaluated at a. Let me try to find a pattern in f^(n)(x) and g^(n)(x). Maybe they satisfy some recurrence relation?\n",
            "\n",
            "From earlier, f'(x) = e^x (cos x + sin x) and f''(x) = 2 e^x cos x. Then f'''(x) would be the derivative of 2 e^x cos x, which is 2(e^x cos x - e^x sin x). So f'''(x) = 2 e^x (cos x - sin x). Hmm, that's e^x (cos x - sin x) multiplied by 2. Wait, that's similar to g'(x). Let me compute g'''(x): since g'(x) = e^x (cos x - sin x), g''(x) = -2 e^x sin x (from earlier), so g'''(x) = -2 e^x (cos x + sin x). Wait, that's -2 e^x (cos x + sin x). Interesting. So g'''(x) = -2 e^x (cos x + sin x) = -2 g'(x). Similarly, f'''(x) = 2 e^x (cos x - sin x) = 2 g'(x). So f'''(x) = 2 g'(x) and g'''(x) = -2 g'(x). That's a nice relationship. Maybe the higher derivatives alternate between being multiples of f''(x) or g''(x) or themselves.\n",
            "\n",
            "Wait, let me check f^(4)(x). From f''(x) = 2 e^x cos x, then f^(4)(x) would be the derivative of that, which is 2(e^x cos x - e^x sin x) + 2 e^x cos x = 2 e^x (cos x - sin x) + 2 e^x cos x = 2 e^x (2 cos x - sin x). Wait, but perhaps there's a better pattern. Alternatively, maybe we can express f and g in terms of Euler's formula, since e^{i theta} = cos theta + i sin theta. But wait, the integrands here are e^t (cos t ± sin t), which can be written as e^t (e^{i t} + e^{-i t}) /2 or similar, but that might not help directly with the derivatives. Hmm.\n",
            "\n",
            "Alternatively, perhaps we can solve the differential equations. Let me consider f as a function. From earlier, f' = e^x (cos x + sin x). Let me differentiate again: f'' = 2 e^x cos x. Wait, but maybe we can write the system of equations. Let m(x) = f'(x) = e^x (cos x + sin x). Then, differentiating, m'(x) = f''(x) = e^x (cos x + sin x) + e^x (-sin x + cos x) = 2 e^x cos x = 2 f'(x)/2 = m(x). So f''(x) = 2 f'(x)/2 = m(x)/2. Wait, perhaps that's not helpful. Alternatively, perhaps we can express the problem in terms of complex exponentials. Let's try that.\n",
            "\n",
            "Consider h(x) = f(x) + i g(x). Then the integral for h is (cos t + sin t + i cos t - i sin t) = (1 + i)(cos t) + (1 - i)(sin t). Wait, no: cos t + sin t + i cos t - i sin t = (1 + i)cos t + (1 - i)sin t. So h(x) = integral from 0 to x of (1+i)e^{t} cos t dt + (1-i) integral from 0 to x e^{t} sin t dt. But I'm not sure if that helps. Alternatively, perhaps we can use integration by parts separately for each integral. Or maybe express the integrand as a single exponential. Let me recall that d/dt (e^{t} sin t) = e^{t} sin t + e^{t} cos t, and d/dt (e^{t} cos t) = e^{t} cos t - e^{t} sin t. So adding them gives d/dt[e^{t} sin t + e^{t} cos t] = 2 e^{t} (cos t + sin t). Therefore, f'(x) = (e^{x} (sin x + cos x) + e^{x} (sin x - cos x)) /2 = e^{x} (2 sin x) /2 = e^{x} sin x. Wait, that contradicts the earlier result. So I must have made a mistake here. \n",
            "\n",
            "Wait, let me check again. So, d/dt (e^{t} sin t) = e^{t} sin t + e^{t} cos t\n",
            "d/dt (e^{t} cos t) = e^{t} cos t - e^{t} sin t\n",
            "Adding them: e^{t} (2 sin t + 2 cos t) = 2 e^{t} (cos t + sin t)\n",
            "Therefore, the integral from 0 to x of e^{t} (cos t + sin t) dt = (1/2*e^{t} (sin t + cos t)) evaluated from 0 to x = (e^{ \n",
            "Extracted:\n",
            "None\n",
            "********************Question:\n",
            "How many distinct ordered pairs of positive integers $(m,n)$ are there so that the sum of the reciprocals of $m$ and $n$ is $\\frac14$? \n",
            "Answer:\n",
            "5 \n",
            "Response:\n",
            "Okay, so the problem is asking for the number of distinct ordered pairs of positive integers (m, n) such that the sum of their reciprocals equals 1/4. Hmm, let's see.\n",
            "\n",
            "First, the equation given is 1/m + 1/n = 1/4. Right. Since m and n are positive integers, both m and n have to be greater than 4 because if either was 4 or less, the reciprocal would be 1/4 or larger, and adding two such values would exceed 1/4. So both m and n must be integers greater than 4.\n",
            "\n",
            "Now, maybe I can rearrange the equation to make it easier. Let's write it as 1/m + 1/n = 1/4. To combine these fractions, I need a common denominator, which would be mn. So rewriting, that would be (n + m)/(mn) = 1/4. Cross-multiplying gives 4(n + m) = mn. Let me rearrange that. Let's bring all terms to one side: mn - 4m - 4n = 0. Hmm, that's interesting. Maybe I can factor this. \n",
            "\n",
            "Wait, sometimes adding a constant term helps with factoring. For example, if I add 16 to both sides: mn - 4m - 4n +16 =16. Now, that can be factored as (m -4)(n -4) =16. Let me check that. Multiply out (m -4)(n -4): mn -4n -4m +16. Yes. So subtracting the -16 from both sides earlier is equivalent to adding (m-4)(n-4) =16. Good. So that's a useful rewrite.\n",
            "\n",
            "Now I need to find all pairs of integers (m, n) greater than 4 such that (m -4)(n -4) =16. Since 16 is a positive integer, and m and n are greater than 4, both m-4 and n-4 are positive integers. So I need to find all pairs of positive integer factors of 16, and then add back the 4 to get m and n.\n",
            "\n",
            "The factor pairs of 16 are (1,16), (2,8), and (4,4). Let's list them:\n",
            "\n",
            "1. If m-4=1 and n-4=16, then m=5, n=20.\n",
            "2. If m-4=2 and n-4=8, then m=6, n=12.\n",
            "3. If m-4=4 and n-4=4, then m=8, n=8.\n",
            "4. And reversing these pairs gives (16,1), (8,2), (4,4), but since m and n are interchangeable here (the problem doesn't specify that they have to be different), each pair should be counted once? Wait, but ordered pairs consider (a,b) different from (b,a) unless specified. The problem says ordered pairs, so each distinct pair in order is counted. For example, (5,20) and (20,5) are different here.\n",
            "\n",
            "But wait, let me check the factor pairs again. Since m and n can be swapped, each factor pair gives two ordered pairs except when both factors are equal. So for the three factor pairs, two of them give two ordered pairs each and one gives only one ordered pair.\n",
            "\n",
            "Let me list all possible ordered pairs:\n",
            "\n",
            "If (m-4, n-4) = (1,16), then (m,n) = (5,20) and (20,5).\n",
            "If (m-4, n-4) = (2,8), then (m,n) = (6,12) and (12,6).\n",
            "If (m-4, n-4) = (4,4), then (m,n) = (8,8).\n",
            "\n",
            "So that's a total of 6 ordered pairs. So the answer should be 6.\n",
            "\n",
            "Wait, let me verify the original equation for each pair to make sure they satisfy 1/m +1/n =1/4.\n",
            "\n",
            "First, (5,20): 1/5 +1/20 = 4/20 +1/20 =5/20=1/4. Correct.\n",
            "Second, (20,5): same as above, still satisfies.\n",
            "Third, (6,12): 1/6 +1/12=2/12 +1/12=3/12=1/4. Correct.\n",
            "Fourth, (12,6): same as above.\n",
            "Fifth, (8,8): 1/8 +1/8=2/8=1/4. Correct.\n",
            "\n",
            "Yes, all six pairs work. Therefore, the number of distinct ordered pairs is 6. So the answer is 6.\n",
            "To find the number of distinct ordered pairs \\((m, n)\\) of positive integers such that \\(\\frac{1}{m} + \\frac{1}{n} = \\frac{1}{4}\\), we start by rewriting the equation in a more manageable form. \n",
            "\n",
            "Given:\n",
            "\\[\n",
            "\\frac{1}{m} + \\frac{1}{n} = \\frac{1}{4}\n",
            "\\]\n",
            "\n",
            "First, we combine the fractions on the left-hand side:\n",
            "\\[\n",
            "\\frac{m + n}{mn} = \\frac{1}{4}\n",
            "\\]\n",
            "\n",
            "Cross-multiplying to clear the fractions, we get:\n",
            "\\[\n",
            "4(m + n) = mn\n",
            "\\]\n",
            "\n",
            "Rearranging the terms, we obtain:\n",
            "\\[\n",
            "mn - 4m - 4n = 0\n",
            "\\]\n",
            "\n",
            "To factor this equation, we add 16 to both sides:\n",
            "\\[\n",
            "mn - 4m - 4n + 16 = 16\n",
            "\\]\n",
            "\n",
            "This can be factored as:\n",
            "\\[\n",
            "(m - 4)(n - 4) = 16\n",
            "\\]\n",
            "\n",
            "Next, we find all pairs of positive integers \\((a, b)\\) such that \\(a \\cdot b = 16\\). The factor pairs of 16 are:\n",
            "\\[\n",
            "(1, 16), (2, 8), (4, 4), (8, 2), (16, 1)\n",
            "\\]\n",
            "\n",
            "For each pair \\((a, b)\\), we solve for \\(m\\) and \\(n\\) using \\(m = a + 4\\) and \\(n = b + 4\\):\n",
            "\n",
            "1. For \\((1, 16)\\):\n",
            "   \\[\n",
            "   m = 1 + 4 = 5, \\quad n = 16 + 4 = 20 \\quad \\Rightarrow \\quad (5, 20)\n",
            "   \\]\n",
            "   \\[\n",
            "   m = 16 + 4 = 20, \\quad n = 1 + 4 = 5 \\quad \\Rightarrow \\quad (20, 5)\n",
            "   \\]\n",
            "\n",
            "2. For \\((2, 8)\\):\n",
            "   \\[\n",
            "   m = 2 + 4 = 6, \\quad n = 8 + 4 = 12 \\quad \\Rightarrow \\quad (6, 12)\n",
            "   \\]\n",
            "   \\[\n",
            "   m = 8 + 4 = 12, \\quad n = 2 + 4 = 6 \\quad \\Rightarrow \\quad (12, 6)\n",
            "   \\]\n",
            "\n",
            "3. For \\((4, 4)\\):\n",
            "   \\[\n",
            "   m = 4 + 4 = 8, \\quad n = 4 + 4 = 8 \\quad \\Rightarrow \\quad (8, 8)\n",
            "   \\]\n",
            "\n",
            "Thus, the distinct ordered pairs \\((m, n)\\) are:\n",
            "\\[\n",
            "(5, 20), (20, 5), (6, 12), (12, 6), (8, 8)\n",
            "\\]\n",
            "\n",
            "Counting these pairs, we find there are 6 distinct ordered pairs. Therefore, the number of distinct ordered pairs \\((m, n)\\) is:\n",
            "\\[\n",
            "\\boxed{6}\n",
            "\\]<end_working_out><SOLUTION>6</SOLUTION> \n",
            "Extracted:\n",
            "6\n",
            "********************Question:\n",
            "Suppose that $n$ persons meet in a meeting, and that each of the persons is acquainted with exactly $8$ others. Any two acquainted persons have exactly $4$ common acquaintances, and any two non-acquainted persons have exactly $2$ common acquaintances. Find all possible values of $n$. \n",
            "Answer:\n",
            "21 \n",
            "Response:\n",
            "Okay, so I need to solve this problem about people who meet and how they're acquainted. Let me try to break it down step by step. The problem states that each person knows exactly 8 others, and then there are two additional conditions: two acquainted people have exactly 4 common acquaintances, and two non-acquainted people have exactly 2 common acquaintances. I need to find all possible values of n, which is the number of people at the meeting.\n",
            "\n",
            "Hmm, this seems like a graph theory problem. If I consider each person as a vertex in a graph, then each vertex has a degree of 8 because each person knows 8 others. So the graph is 8-regular. The conditions about common acquaintances might relate to the number of common neighbors between vertices. Wait, right. In graph theory, two adjacent vertices (acquainted people) have a certain number of common neighbors, and two non-adjacent vertices have a different number. That usually corresponds to parameters in a strongly regular graph.\n",
            "\n",
            "Let me recall the definition of a strongly regular graph. A graph is strongly regular if every vertex has the same number of neighbors (k, which is 8 here), each pair of adjacent vertices has exactly λ common neighbors, and each pair of non-adjacent vertices has exactly μ common neighbors. Looking at the problem, λ is 4 for acquainted individuals, and μ is 2 for non-acquainted individuals. So this graph should be a strongly regular graph with parameters (n, 8, 4, 2).\n",
            "\n",
            "The theorem for strongly regular graphs relates these parameters. The formula is:\n",
            "\n",
            "k(k - λ - 1) = (μ - 1)(n - 1)\n",
            "\n",
            "Let's plug in the numbers. k is 8, λ is 4, μ is 2. So:\n",
            "\n",
            "8*(8 - 4 - 1) = (2 - 1)*(n - 1)\n",
            "8*(3) = 1*(n - 1)\n",
            "24 = n - 1\n",
            "n = 25\n",
            "\n",
            "So according to this, n should be 25. But wait, does this make sense? Let me check if this graph exists.\n",
            "\n",
            "For a graph to be strongly regular, another condition is that the eigenvalues satisfy certain properties, but sometimes there are known strongly regular graphs with specific parameters. And 25 is a specific value here. Let me think: is there a known strongly regular graph with parameters (25, 8, 4, 2)? I think the Petersen graph is a classic example, but that's (10, 3, 0, 1), which is different. Maybe the graph described here exists specifically.\n",
            "\n",
            "Alternatively, perhaps there's more than one n? The problem asks for all possible values of n, but according to the formula, there's only one. So maybe the answer is just n=25? But I need to confirm that such a graph exists.\n",
            "\n",
            "Wait, maybe I should verify the formula again. The formula I used is from the definition of strongly regular graphs. If every pair of adjacent vertices has λ common neighbors and every pair of non-adjacent vertices has μ common neighbors, then the relationship between parameters is that k(k - λ - 1) = μ(n - 1 - k). \n",
            "\n",
            "Plugging in k=8, λ=4, μ=2:\n",
            "\n",
            "8*(8 - 4 -1) = 2*(25 -1 -8)\n",
            "8*3 = 2*16\n",
            "24 = 32\n",
            "\n",
            "Wait, that's not correct. The left side is 24, the right side is 32. So that can't be right. Did I make a mistake in applying the formula?\n",
            "\n",
            "Ah, maybe I confused the formula. Let me recall the correct formula for strongly regular graphs. The correct equation is:\n",
            "\n",
            "k*(k - λ - 1) = μ*(n - 1 - k)\n",
            "\n",
            "Yes, so substituting the values:\n",
            "\n",
            "8*(8 - 4 - 1) = 2*(n - 1 - 8)\n",
            "8*3 = 2*(n -9)\n",
            "24 = 2n -18\n",
            "2n = 42\n",
            "n = 21\n",
            "\n",
            "Ah, so the correct value is n=21, not 25. So my earlier mistake was in plugging into the formula. The formula I had wrong was because I used a different parameter relationship. The correct equation gives n=21. \n",
            "\n",
            "So now, does a strongly regular graph with parameters (21, 8, 4, 2) exist? Let me check. From the literature, the Shrikhande graph is a strongly regular graph with parameters (16, 6, 2, 2), which is different. Maybe the graph here exists. Alternatively, maybe there are other values of n that satisfy the original conditions. But the formula for the strongly regular graph gives a unique solution. So even though the formula might be derived from the graph's parameters, the solution is unique.\n",
            "\n",
            "Therefore, the only possible value of n is 21. So the answer should be n=21. Let me confirm with another approach.\n",
            "\n",
            "Suppose we model this with the eigenvalues. For a strongly regular graph, the eigenvalues are k, \\frac{1}{2}(k - \\mu + \\lambda \\pm \\sqrt{(k-\\mu)^2 + 4(k-\\lambda)\\mu}) (ignoring the irrational part if the square is a perfect square). Plugging in k=8, λ=4, μ=2, we get the possible spectrum. This is a bit involved, but given the earlier unique solution, we can be confident that n=21 is the answer. So the answer should be \\boxed{21}.\n",
            "To solve the problem, we need to determine the number of people \\( n \\) at a meeting where each person is acquainted with exactly 8 others, any two acquainted persons have exactly 4 common acquaintances, and any two non-acquainted persons have exactly 2 common acquaintances.\n",
            "\n",
            "This scenario can be modeled using a strongly regular graph where each vertex represents a person, and each edge represents an acquaintance. In a strongly regular graph with parameters \\((n, k, \\lambda, \\mu)\\), each vertex has \\( k \\) neighbors, each pair of adjacent vertices has \\( \\lambda \\) common neighbors, and each pair of non-adjacent vertices has \\( \\mu \\) common neighbors.\n",
            "\n",
            "Given the problem's conditions, we have:\n",
            "- \\( k = 8 \\)\n",
            "- \\( \\lambda = 4 \\)\n",
            "- \\( \\mu = 2 \\)\n",
            "\n",
            "The relationship between these parameters in a strongly regular graph is given by the equation:\n",
            "\\[\n",
            "k(k - \\lambda - 1) = \\mu(n - 1 - k)\n",
            "\\]\n",
            "\n",
            "Substituting the given values into this equation:\n",
            "\\[\n",
            "8(8 - 4 - 1) = 2(n - 1 - 8)\n",
            "\\]\n",
            "\\[\n",
            "8 \\cdot 3 = 2(n - 9)\n",
            "\\]\n",
            "\\[\n",
            "24 = 2(n - 9)\n",
            "\\]\n",
            "\\[\n",
            "24 = 2n - 18\n",
            "\\]\n",
            "\\[\n",
            "42 = 2n\n",
            "\\]\n",
            "\\[\n",
            "n = 21\n",
            "\\]\n",
            "\n",
            "Thus, the only possible value of \\( n \\) is \\(\\boxed{21}\\).<end_working_out><SOLUTION>21</SOLUTION> \n",
            "Extracted:\n",
            "21\n",
            "********************Question:\n",
            "On rectangular coordinates, point $A = (1,2)$, $B = (3,4)$. $P = (a, 0)$ is on $x$-axis. Given that $P$ is chosen such that $AP + PB$ is minimized, compute $60a$. \n",
            "Answer:\n",
            "100 \n",
            "Response:\n",
            "Okay, so I need to find a point P on the x-axis, say (a,0), such that the sum of its distances to points A and B is minimized. The points given are A(1,2) and B(3,4). I need to find the value of a that minimizes AP + PB, and then compute 60 times that a.\n",
            "\n",
            "Hmm, minimizing the sum of distances from a point to two other points. This seems related to the reflection method. I remember that for two points, the shortest path that goes through two other points is a straight line, but adding a third point on the x-axis complicates things. Maybe reflecting one of the points over the x-axis?\n",
            "\n",
            "Let me try reflecting point B over the x-axis to get B' with coordinates (3, -4). Then the shortest path from A to B' would pass through the y-axis, but the point P on the x-axis would be where the line from A to B' intersects the x-axis. Wait, but since P is moving along the x-axis, this intersection point will be the optimal P.\n",
            "\n",
            "Let me confirm. The reflection method for minimizing the path length when one of the points is constrained to lie on an axis works here. So instead of going from A to P to B, we reflect B over the x-axis to B' and find the straight line from A to B'. The intersection of this line with the x-axis gives P.\n",
            "\n",
            "So, let me find the equation of the line passing through A(1,2) and B'(3,-4). The slope m is (2 - (-4))/(1 - 3) = 6 / -2 = -3. Then, using point-slope form with point A:\n",
            "\n",
            "y - 2 = -3(x - 1)\n",
            "y = -3x + 3 + 2\n",
            "y = -3x + 5\n",
            "\n",
            "So the equation is y = -3x + 5. To find where this line intersects the x-axis, set y = 0:\n",
            "\n",
            "0 = -3x + 5\n",
            "3x = 5\n",
            "x = 5/3\n",
            "\n",
            "So the x-coordinate of point P is 5/3. Therefore, a = 5/3. We need to compute 60a, which is 60*(5/3) = 100.\n",
            "\n",
            "Wait, let me check if this is the correct approach. The reflection method works when the path needs to go from A to P and then to B. By reflecting B to B', the shortest path from A to B' corresponds to the minimal AP + PB. Since P is on the x-axis, the projection of B' on the x-axis would not give the correct P. Instead, the intersection of the line AB' with the x-axis gives the optimal P. So that's why plugging into the line equation gives the right answer. Therefore, a = 5/3, so 60a = 100. That seems right.\n",
            "\n",
            "But wait, let me make sure there's no mistake. If I calculate AP + PB with a = 5/3:\n",
            "\n",
            "Distance AP: from (1,2) to (5/3,0) is sqrt((5/3 -1)^2 + (0-2)^2) = sqrt((2/3)^2 + 4) = sqrt(4/9 + 36/9) = sqrt(40/9) = (2√10)/3\n",
            "\n",
            "Distance PB: from (5/3,0) to (3,4) is sqrt((3 - 5/3)^2 + (4 - 0)^2) = sqrt((4/3)^2 + 16) = sqrt(16/9 + 144/9) = sqrt(160/9) = (4√10)/3\n",
            "\n",
            "So AP + PB = (2√10)/3 + (4√10)/3 = (6√10)/3 = 2√10. If I reflect, the direct distance from A to B' is the same. Let me verify that.\n",
            "\n",
            "Distance from A to B' is sqrt((3-1)^2 + (-4 -2)^2) = sqrt(4 + 36) = sqrt(40) = 2√10. Yep, matches. So the reflection method works here. Therefore, the answer should be 100.\n",
            "\n",
            "I think that's correct. Let me just ensure that reflecting B over the x-axis is the right step. Since we're minimizing the path that touches the x-axis (point P), reflecting the endpoint that's not on the x-axis (in this case, B) correctly solves the problem. So yes, the answer is 100.\n",
            "To minimize the sum of distances \\( AP + PB \\) where \\( A = (1, 2) \\), \\( B = (3, 4) \\), and \\( P = (a, 0) \\) is a point on the x-axis, we use the reflection method. Reflect point \\( B \\) over the x-axis to obtain \\( B' = (3, -4) \\). The shortest path from \\( A \\) to \\( P \\) and then to \\( B \\) corresponds to the straight line from \\( A \\) to \\( B' \\).\n",
            "\n",
            "First, we find the equation of the line passing through \\( A = (1, 2) \\) and \\( B' = (3, -4) \\). The slope \\( m \\) of the line is given by:\n",
            "\\[\n",
            "m = \\frac{-4 - 2}{3 - 1} = \\frac{-6}{2} = -3\n",
            "\\]\n",
            "Using the point-slope form of the line equation \\( y - y_1 = m(x - x_1) \\) with point \\( A = (1, 2) \\):\n",
            "\\[\n",
            "y - 2 = -3(x - 1)\n",
            "\\]\n",
            "\\[\n",
            "y - 2 = -3x + 3\n",
            "\\]\n",
            "\\[\n",
            "y = -3x + 5\n",
            "\\]\n",
            "\n",
            "Next, we find the x-intercept of this line by setting \\( y = 0 \\):\n",
            "\\[\n",
            "0 = -3x + 5\n",
            "\\]\n",
            "\\[\n",
            "3x = 5\n",
            "\\]\n",
            "\\[\n",
            "x = \\frac{5}{3}\n",
            "\\]\n",
            "\n",
            "Thus, the point \\( P \\) is \\( \\left( \\frac{5}{3}, 0 \\right) \\), so \\( a = \\frac{5}{3} \\). We need to compute \\( 60a \\):\n",
            "\\[\n",
            "60a = 60 \\times \\frac{5}{3} = 60 \\times \\frac{5}{3} = 20 \\times 5 = 100\n",
            "\\]\n",
            "\n",
            "Therefore, the value of \\( 60a \\) is \\(\\boxed{100}\\).<end_working_out><SOLUTION>100</SOLUTION> \n",
            "Extracted:\n",
            "100\n",
            "********************Question:\n",
            "A circle is inscribed in a regular octagon with area $2024$. A second regular octagon is inscribed in the circle, and its area can be expressed as $a + b\\sqrt{c}$, where $a$, $b$, $c$ are integers and $c$ is square-free. Compute $a + b + c$. \n",
            "Answer:\n",
            "1520 \n",
            "Response:\n",
            "Okay, let's tackle this problem step by step. I need to find the area of a second regular octagon inscribed in a circle that's itself inscribed in a regular octagon with an area of 2024. The area of the second octagon is supposed to be in the form a + b√c, and I need to find a + b + c.\n",
            "\n",
            "First, I should recall some properties of regular polygons and circles inscribed in them. Let me start by drawing a diagram. A regular octagon has eight equal sides and angles. When a circle is inscribed in it, the circle touches all the sides at their midpoints. Then, another regular octagon can be inscribed in that circle, with each vertex touching the circle.\n",
            "\n",
            "The area of the original octagon is given as 2024. I need to relate this to the area of the second octagon. Maybe I can use the formula for the area of a regular octagon in terms of its side length, and then find how the side length changes when the octagon is scaled down by the inscribed circle.\n",
            "\n",
            "Wait, the area of a regular octagon with side length s is given by the formula:\n",
            "\n",
            "Area = 2(1 + √2)s²\n",
            "\n",
            "So, for the original octagon, if the side length is s₁, then:\n",
            "\n",
            "2024 = 2(1 + √2)s₁²\n",
            "\n",
            "Let me solve for s₁²:\n",
            "\n",
            "(1 + √2)s₁² = 1012\n",
            "\n",
            "s₁² = 1012 / (1 + √2)\n",
            "\n",
            "To simplify this, I can rationalize the denominator:\n",
            "\n",
            "Multiply numerator and denominator by (1 - √2):\n",
            "\n",
            "s₁² = [1012(1 - √2)] / [(1 + √2)(1 - √2)] = [1012(1 - √2)] / (1 - 2) = [1012(1 - √2)] / (-1) = -1012(1 - √2) = 1012(√2 - 1)\n",
            "\n",
            "So s₁² = 1012(√2 - 1)\n",
            "\n",
            "Now, the second octagon is inscribed in the circle that touches the midpoints of the sides of the first octagon. The radius of this circle (which is also the distance from the center to a vertex of the second octagon) is equal to the apothem of the first octagon.\n",
            "\n",
            "The apothem a of a regular polygon is given by:\n",
            "\n",
            "a = (s / 2) cot(π/n)\n",
            "\n",
            "where n is the number of sides. For the first octagon, n = 8.\n",
            "\n",
            "So, a = (s₁ / 2) cot(π/8)\n",
            "\n",
            "But wait, maybe there's a simpler relationship. Since the circle's radius is the apothem of the first octagon, and this radius becomes the side length of the second octagon scaled by the cosine of the central angle.\n",
            "\n",
            "Wait, perhaps it's easier to think in terms of the circumradius and the side length. For a regular octagon, the side length s is related to the circumradius R by:\n",
            "\n",
            "s = 2R sin(π/8)\n",
            "\n",
            "In the first octagon, the circumradius R is the distance from the center to a vertex, which is equal to the apothem of the octagon. Wait no, that's not correct. The circumradius is the distance from the center to a vertex, while the apothem is the distance from the center to the midpoint of a side.\n",
            "\n",
            "So for the first octagon, the circumradius R₁ is related to the side length s₁ by:\n",
            "\n",
            "R₁ = s₁ / (2 sin(π/8))\n",
            "\n",
            "Then, the area of the first octagon is 2s₁² (1 + √2) = 2024, so s₁² = 1012/(1 + √2) = 1012(√2 -1)\n",
            "\n",
            "Then R₁ = s₁ / (2 sin(π/8)) = √[1012(√2 -1)] / (2 sin(π/8))\n",
            "\n",
            "Now, the second octagon is inscribed in a circle with radius R₁. So the side length of the second octagon, s₂, is given by:\n",
            "\n",
            "s₂ = 2R₁ sin(π/8)\n",
            "\n",
            "So substituting R₁:\n",
            "\n",
            "s₂ = 2 * (√[1012(√2 -1)] / (2 sin(π/8))) * sin(π/8) = √[1012(√2 -1)]\n",
            "\n",
            "Then the area of the second octagon is 2s₂² (1 + √2) = 2*(1012(√2 -1))*(1 + √2) = 2024*(√2 -1)(1 + √2)\n",
            "\n",
            "Now, multiply (√2 -1)(1 + √2):\n",
            "\n",
            "(√2 -1)(1 + √2) = (√2)(1) + (√2)(√2) -1(1) -1(√2) = √2 + 2 -1 -√2 = 1\n",
            "\n",
            "So the area of the second octagon is 2024 * 1 = 2024. Wait, that seems too straightforward. But looking back, perhaps I made a mistake.\n",
            "\n",
            "Wait, the formula for the area of a regular octagon is (2 + 2√2)s², not 2(1 + √2)s². Let me check that.\n",
            "\n",
            "Yes, the area of a regular octagon with side length s is 2(1 + √2)s². So when s₁ is the side length of the first octagon, its area is 2024 = 2(1 + √2)s₁², so s₁² = 1012 / (1 + √2) = 1012(√2 -1)\n",
            "\n",
            "Then R₁ = s₁ / (2 sin(π/8)) = (√[1012(√2 -1)]) / (2 sin(π/8))\n",
            "\n",
            "Then s₂ = 2R₁ sin(π/8) = √[1012(√2 -1)]\n",
            "\n",
            "Area of second octagon = 2s₂²(1 + √2) = 2*(1012(√2 -1))*(1 + √2) = 2024*(√2 -1)(1 + √2)\n",
            "\n",
            "But (√2 -1)(1 + √2) = 1, so area = 2024*1 = 2024. But that can't be right because the second octagon should have a smaller area. Did I make a mistake in the scaling?\n",
            "\n",
            "Wait, perhaps the radius of the circle inscribed in the first octagon is not the circumradius of the second octagon. Let me think again.\n",
            "\n",
            "In the first octagon, the inscribed circle has radius equal to the apothem, which is the distance from the center to the midpoint of a side. The second octagon is inscribed in that circle, so its circumradius is equal to the first octagon's apothem.\n",
            "\n",
            "For a regular octagon, the apothem a is related to the side length s by:\n",
            "\n",
            "a = s / (2 tan(π/8))\n",
            "\n",
            "So for the first octagon, a₁ = s₁ / (2 tan(π/8))\n",
            "\n",
            "Then, the second octagon has circumradius R₂ = a₁ = s₁ / (2 tan(π/8))\n",
            "\n",
            "Then the side length of the second octagon, s₂, is given by:\n",
            "\n",
            "s₂ = 2 R₂ sin(π/8) = 2 * (s₁ / (2 tan(π/8))) * sin(π/8) = s₁ / tan(π/8) = s1 * cot(π/8)\n",
            "\n",
            "Wait, so s₂ = s₁ cot(π/8). Then the area of the second octagon is 2s₂²(1 + √2) = 2 * s₁² cot²(π/8) (1 + √2)\n",
            "\n",
            "Now, s₁² = 2024 / (1 + √2) = 1012(√2 -1) as before.\n",
            "\n",
            "And cot²(θ) = csc²(θ) -1\n",
            "\n",
            "So cot²(π/8) = csc²(π/8) -1 = ( \n",
            "Extracted:\n",
            "None\n"
          ]
        }
      ],
      "source": [
        "# For optional training + evaluation\n",
        "# new_dataset = dataset.train_test_split(test_size = 0.01)\n",
        "\n",
        "trainer = GRPOTrainer(\n",
        "    model = model,\n",
        "    processing_class = tokenizer,\n",
        "    reward_funcs = [\n",
        "        match_format_exactly,\n",
        "        match_format_approximately,\n",
        "        check_answer,\n",
        "        check_numbers,\n",
        "    ],\n",
        "    args = training_args,\n",
        "    train_dataset = dataset,\n",
        "\n",
        "    # For optional training + evaluation\n",
        "    # train_dataset = new_dataset[\"train\"],\n",
        "    # eval_dataset = new_dataset[\"test\"],\n",
        ")\n",
        "trainer.train()"
      ]
    },
    {
      "cell_type": "markdown",
      "metadata": {
        "id": "tlaUdxC_VHpz"
      },
      "source": [
        "<a name=\"Inference\"></a>\n",
        "### Inference\n",
        "Now let's try the model we just trained! First, let's first try the model without any GRPO trained:"
      ]
    },
    {
      "cell_type": "code",
      "execution_count": null,
      "metadata": {
        "id": "qtcz_lpbVC92",
        "colab": {
          "base_uri": "https://localhost:8080/",
          "height": 207,
          "referenced_widgets": [
            "1cc24ae1ea2e498f8ce1b7afb016f946",
            "3f99af7066114110bc28d113ee32072d",
            "fa6ed0d48fd04726b9a6bc92b5ec3708",
            "2aee8e461c3144c382532649cc067f61",
            "41ff4ea73396420f952b396560249270",
            "74afa76a26f245519932d02b8042e5ab",
            "c9a4ebf0f16d499a917034f45ec7050f",
            "aee30c91cc634ee2b8dd9ed9238c8377",
            "6e482123e4aa4a3195a5b5a5d4289a20",
            "13824ab11776462199dc487e3dd9f33f",
            "e82075463a424e5e8dc62dee8ff2686e"
          ]
        },
        "outputId": "4690e0ea-74ec-448e-94ac-1ec0d8240e5c"
      },
      "outputs": [
        {
          "output_type": "display_data",
          "data": {
            "text/plain": [
              "Processed prompts:   0%|          | 0/1 [00:00<?, ?it/s, est. speed input: 0.00 toks/s, output: 0.00 toks/s]"
            ],
            "application/vnd.jupyter.widget-view+json": {
              "version_major": 2,
              "version_minor": 0,
              "model_id": "1cc24ae1ea2e498f8ce1b7afb016f946"
            }
          },
          "metadata": {}
        },
        {
          "output_type": "execute_result",
          "data": {
            "text/plain": [
              "\" - Answers\\nMath and Arithmetic\\nGeometry\\nNumbers\\nSquare Roots\\nWhat is the sqrt of 101?\\nWiki User\\n∙ 2011-05-12 02:55:35\\nStudy now\\nBest Answer\\nCopy\\n101 squared is equal to 10201, which is itself a perfectly good\\nnumber\\nWiki User\\n∙ 2011-05-12 02:55:35\\nThis answer is:\\n🙏\\n0\\n🤨\\n0\\n😮\\n0\\nStudy guides\\nAlgebra\\n20 cards\\nA polynomial of degree zero is a constant term\\nThe grouping method of factoring can still be used when only some of the terms share a common factor A True B False\\nA number a power of a variable or a product of the two is a monomial while a polynomial is the of monomials\\n3.71 (14)\\n☆★☆★☆★☆★☆★\\n208 Reviews\\nHow do you square a number on scientific calculator?\\nWhen you want to take the square of 126.45, for example, you\\nwould press the numbers, 1 2 6 . 4 5 = x2. If you are using the\\ntraditional form of calculator, which may have a square root sign\\non it, the square roots would be found by pressing the numbers 1 2\\n6 . 4 5 = &radic;\\nHow do I find the square root of 82?\\nThe square root of 82 is approximately 9.0554. This can be\\ncalculated using a calculator or sqrt function and plugging in 82.\\nThe sqrt function and calculator can be found in all calculators.\\nWhat is Sqrt 45 over 325?\\nsqrt (45)/325 = sqrt (4*9*5)/(325)\\n= sqrt(9)*sqrt(4)*sqrt(5)/(sqrt(13)*sqrt(25))\\n= 3*2*sqrt(5)/(sqrt(13)*5)\\n= 6*sqrt(5)/5*sqrt(13)\\n= 6/sqrt(65)\\n= 6/sqrt(5*13)\\nThis can't be simplified further\\nThe decimal value is 0.7483...\\nWhat is the Sqrt of 196?\\nThe sqrt of 196 is 14 because it is 14 x 14.\\nWhat is the Sqrt of 2048?\\n64 is.\\nWhat is the Sqrt of 652?\\n25.53428817036236\\nWhat is the Sqrt of 7056?\\nIt is 84.\\nWhat is the Sqrt of 533?\\n23.09097915260612\\nWhat is the Sqrt of 5184?\\n72.\\nWhat is the Sqrt of 0.45?\\nit id not possible to calculate sqrt 0.45 because the problem\\nsits at 19.68193943504027 but i am not able to calculate it\\nWhat the Sqrt of 8?\\n2.828427125\\nWhat is the Sqrt of 162?\\n12.72792206135785\\nWhat is the Sqrt of 64416?\\n253.80435080562047\\nWhat is the Sqrt of 50?\\n5*sqrt(2)= 7.07106781186\\nWhat is the Sqrt of 2209?\\nThe 2 square times 25 square\\nWhat is the Sqrt of 1764?\\nThe 42 square\\nWhat is sqrt of 150?\\nIt is approximately +12.25\\nWhat is the Sqrt of 82?\\nsqrt(82) = &radic;82. But you can only put it in simplest radical form if it is a perfect square so for 82 it is not because a perfect square is a number which is the product of 2 identical numbers eg 81=9 * 9\\nWhat is the Sqrt of 64?\\nThe sqrt of 64 is 2 * 2 * 2 * 2 = 16\\nWhat is the Sqrt of 7?\\nSqrt is 91\\nWhat is the Sqrt of 16?\\nThe sqrt of sixteen = 4\\nWhat is the Sqrt of 11\""
            ],
            "application/vnd.google.colaboratory.intrinsic+json": {
              "type": "string"
            }
          },
          "metadata": {},
          "execution_count": 6
        }
      ],
      "source": [
        "text = \"What is the sqrt of 101?\"\n",
        "\n",
        "from vllm import SamplingParams\n",
        "sampling_params = SamplingParams(\n",
        "    temperature = 1.0,\n",
        "    top_k = 50,\n",
        "    max_tokens = 1024,\n",
        ")\n",
        "output = model.fast_generate(\n",
        "    [text],\n",
        "    sampling_params = sampling_params,\n",
        "    lora_request = None,\n",
        ")[0].outputs[0].text\n",
        "\n",
        "output"
      ]
    },
    {
      "cell_type": "markdown",
      "metadata": {
        "id": "Colxz9TAVMsi"
      },
      "source": [
        "And now with the LoRA we just trained with GRPO - we first save the LoRA first!"
      ]
    },
    {
      "cell_type": "code",
      "execution_count": null,
      "metadata": {
        "id": "AL-BcuB1VLIv"
      },
      "outputs": [],
      "source": [
        "model.save_lora(\"grpo_saved_lora\")"
      ]
    },
    {
      "cell_type": "markdown",
      "metadata": {
        "id": "a4LMOBl8boGX"
      },
      "source": [
        "Verify LoRA is actually trained!"
      ]
    },
    {
      "cell_type": "code",
      "execution_count": null,
      "metadata": {
        "id": "4SfdI-ERbpiw"
      },
      "outputs": [],
      "source": [
        "from safetensors import safe_open\n",
        "\n",
        "tensors = {}\n",
        "with safe_open(\"grpo_saved_lora/adapter_model.safetensors\", framework = \"pt\") as f:\n",
        "    # Verify both A and B are non zero\n",
        "    for key in f.keys():\n",
        "        tensor = f.get_tensor(key)\n",
        "        n_zeros = (tensor == 0).sum() / tensor.numel()\n",
        "        assert(n_zeros.item() != tensor.numel())"
      ]
    },
    {
      "cell_type": "markdown",
      "metadata": {
        "id": "CwpbwnDBVRLg"
      },
      "source": [
        "Now we load the LoRA and test:"
      ]
    },
    {
      "cell_type": "code",
      "execution_count": null,
      "metadata": {
        "id": "zf_OY5WMVOxF",
        "colab": {
          "base_uri": "https://localhost:8080/",
          "height": 716,
          "referenced_widgets": [
            "4e5ebf7203b2467abdd0b871d6b72f7a",
            "f2fd49b789d3418292c1bcd1439e2e84",
            "11f935907b9e469e8167c7669764ae4c",
            "81d28dde142049519cd27f87c68c92fa",
            "c73269d5f6134c539249d28e7809a003",
            "b9f877c8eb5c4f78821d40f27a867f09",
            "493acc3b55f441219300802810be7004",
            "eccb880d39da499db25b740262916944",
            "9a51e7c117924754acddc2d2750d3ac0",
            "85cf8527998d49c18d89f8d82271c534",
            "fe778d62c7f34683810ad613114ae4c1"
          ]
        },
        "outputId": "0336f5d4-5446-4a2c-9c5c-30815980d7b7"
      },
      "outputs": [
        {
          "output_type": "display_data",
          "data": {
            "text/plain": [
              "Processed prompts:   0%|          | 0/1 [00:00<?, ?it/s, est. speed input: 0.00 toks/s, output: 0.00 toks/s]"
            ],
            "application/vnd.jupyter.widget-view+json": {
              "version_major": 2,
              "version_minor": 0,
              "model_id": "4e5ebf7203b2467abdd0b871d6b72f7a"
            }
          },
          "metadata": {}
        },
        {
          "output_type": "execute_result",
          "data": {
            "text/plain": [
              "\"Okay, so I need to find the square root of 101. Hmm, I remember that square roots are about finding a number that, when multiplied by itself, gives the original number. But 101 isn't a perfect square, right? Let me think. The squares around 101 would be 100 (which is 10 squared) and 121 (which is 11 squared). So the square root of 101 is somewhere between 10 and 11. \\n\\nBut the problem is asking for the square root, which might be an irrational number. So maybe it's a decimal? Let me try to estimate. I need to find the number that's closer to 10.5. Let me test 10.05. If I square that, it's (10 + 0.05)*(10 + 0.05) = 100 + 0.05*10 + 0.05*10 + 0.05*0.05 = 100 + 0.5 + 0.5 + 0.0025 = 101.0025. That's very close to 101. So maybe the square root is 10.05 plus or minus a little bit. \\n\\nBut wait, maybe there's a better way. Since 10.05 squared is 101.0025, which is slightly above 101, the actual square root should be slightly less than 10.05. Let me try 10.04. Squaring 10.04: (10 + 0.04)*(10 + 0.04) = 100 + 0.4 + 0.4 + 0.0016 = 100.8016. That's closer, but still above 101. So maybe 10.045? Let me compute that. \\n\\n10.045 squared would be (10 + 0.045)^2 = 100 + 0.045*10 + 0.045*10 + 0.045*0.045 = 100 + 0.45 + 0.45 + 0.002025 = 100.892025. Still above. Hmm, maybe 10.03? \\n\\n10.03 squared is (10 + 0.03)* (10 + 0.03) = 100 + 0.3 + 0.3 + 0.0009 = 100.6009. That's below 101. So between 10.03 and 10.045. Let me try 10.042. \\n\\n10.042 squared is about 100 + 0.42 + 0.42 + 0.001764 = 100.841764. Still above 101. Let's try 10.04. Wait, 10.04 squared is 100.8016, which is below 101. So the square root is between 10.04 and 10.042. \\n\\nAlternatively, maybe I can use the formula for the square root more precisely. Let's assume that the square root is 10.05 - x. Then (10.05 - x)^2 = 101. Expanding, that's 101.0025 - 20.1x + x^2 = 101. So 20.1x - x^2 = 0.0025. Since x is small, x^2 is negligible. So 20.1x ≈ 0.0025. Then x ≈ 0.0025 / 20.1 ≈ 0.000124. So 10.05 - 0.000124 ≈ 10.049876. Let me check this. \\n\\n10.049876 squared: approximately 100.9999... which is very close to 101. This makes sense. So the square root of 101 is approximately 10.0498756211. \\n\\nWait, but maybe there's a more efficient method. Like using the Newton-Raphson method for finding roots. Let me recall. The formula is x_{n+1} = x_n - f(x_n)/f'(x_n). For square root of a, the function is f(x) = x^2 - a, so f'(x) = 2x. So starting with an initial guess, say x0 = 10. Then x1 = 10 - (100 - 101)/(2*10) = 10 - (-1)/20 = 10 + 0.05 = 10.05. Then x2 = 10.05 - (10.05^2 - 101)/(2*10.05). \\n\\nCompute 10.05^2: 100.0025. So (10.05^2 - 101) = 10.05^2 - 101 = -0.9975. Then x2 = 10.05 - (-0.9975)/20.1 ≈ 10.05 + 0.049627 = 10.099627. Wait, that seems higher than the previous approximation. Maybe I made a mistake in the calculation. Let me recalculate.\\n\\nOriginal equation x_{n+1} = x_n - (x_n^2 - a)/(2x_n). So for x0 = 10, x1 = 10 - (100 - 101)/(20) = 10 + 0.05 = 10.05. Then for x1=10.05, x2 = 10.05 - (10.05^2 - 101)/(2*10.05). \\n\\n10.05^2 = 101.0025. So numerator is 101.0025 - 101 = 0.0025. Denominator is 2*10.05 = 20.1. So x2 = 10.05 - 0.0025/20.1 ≈ 10.05 - 0.000124 ≈ 10.049876. Ok, that matches the earlier approximation. So the square root of 101 is approximately 10.0498756211. \\n\\nBut to present it more neatly, maybe up to a certain decimal place. Since the problem didn't specify, perhaps the exact answer is left as √101, but if we need an approximation, it's 10.049987551. But after checking, it's approximately 10.0498756211. Therefore, the square root of 101 is √101, which is approximately 10.0498756211.\\nTo find the square root of 101, we can use the fact that it lies between the perfect squares of 10 and 11. Let's start by noting that:\\n\\n\\\\[ 10^2 = 100 \\\\]\\n\\\\[ 11^2 = 121 \\\\]\\n\\nThus, \\\\(\\\\sqrt{101}\\\\) is between 10 and 11. To get a more precise estimate, we can use the Newton-Raphson method, which is an iterative method for finding roots of equations. We start with an initial guess \\\\(x_0 = 10\\\\).\\n\\nThe Newton-Raphson formula for finding the square root of \\\\(a\\\\) is given by:\\n\\n\\\\[ x_{n+1} = x_n - \\\\frac{x_n^2 - a}{2x_n} \\\\]\\n\\nLet's perform the iterations:\\n\\n1. **First iteration**:\\n   \\\\[\\n   x_0 = 10\\n   \\\\]\\n   \\\\[\\n   x_1 = 10 - \\\\frac{10^2 - 101}{2 \\\\cdot 10} = 10 - \\\\frac{100 - 101}{20} = 10 + \\\\frac{1}{20} =\""
            ],
            "application/vnd.google.colaboratory.intrinsic+json": {
              "type": "string"
            }
          },
          "metadata": {},
          "execution_count": 8
        }
      ],
      "source": [
        "messages = [\n",
        "    {\"role\": \"system\", \"content\": system_prompt},\n",
        "    {\"role\": \"user\",   \"content\": \"What is the sqrt of 101?\"},\n",
        "]\n",
        "\n",
        "text = tokenizer.apply_chat_template(\n",
        "    messages,\n",
        "    add_generation_prompt = True, # Must add for generation\n",
        "    tokenize = False,\n",
        ")\n",
        "from vllm import SamplingParams\n",
        "sampling_params = SamplingParams(\n",
        "    temperature = 1.0,\n",
        "    top_k = 50,\n",
        "    max_tokens = 2048,\n",
        ")\n",
        "output = model.fast_generate(\n",
        "    text,\n",
        "    sampling_params = sampling_params,\n",
        "    lora_request = model.load_lora(\"grpo_saved_lora\"),\n",
        ")[0].outputs[0].text\n",
        "\n",
        "output"
      ]
    },
    {
      "cell_type": "markdown",
      "metadata": {
        "id": "6aDgFfhFYIAS"
      },
      "source": [
        "Our reasoning model is much better - it's not always correct, since we only trained it for an hour or so - it'll be better if we extend the sequence length and train for longer!"
      ]
    },
    {
      "cell_type": "markdown",
      "metadata": {
        "id": "-NUEmHFSYNTp"
      },
      "source": [
        "<a name=\"Save\"></a>\n",
        "### Saving to float16 for VLLM\n",
        "\n",
        "We also support saving to `float16` directly. Select `merged_16bit` for float16 or `merged_4bit` for int4. We also allow `lora` adapters as a fallback. Use `push_to_hub_merged` to upload to your Hugging Face account! You can go to https://huggingface.co/settings/tokens for your personal tokens."
      ]
    },
    {
      "cell_type": "code",
      "execution_count": null,
      "metadata": {
        "id": "NjXGTkp7YNtB"
      },
      "outputs": [],
      "source": [
        "# Merge to 16bit\n",
        "if False: model.save_pretrained_merged(\"model\", tokenizer, save_method = \"merged_16bit\",)\n",
        "if False: model.push_to_hub_merged(\"hf/model\", tokenizer, save_method = \"merged_16bit\", token = \"\")\n",
        "\n",
        "# Merge to 4bit\n",
        "if False: model.save_pretrained_merged(\"model\", tokenizer, save_method = \"merged_4bit\",)\n",
        "if False: model.push_to_hub_merged(\"hf/model\", tokenizer, save_method = \"merged_4bit\", token = \"\")\n",
        "\n",
        "# Just LoRA adapters\n",
        "if False: model.save_pretrained_merged(\"model\", tokenizer, save_method = \"lora\",)\n",
        "if False: model.push_to_hub_merged(\"hf/model\", tokenizer, save_method = \"lora\", token = \"\")"
      ]
    },
    {
      "cell_type": "markdown",
      "metadata": {
        "id": "52WMb3k_YPt8"
      },
      "source": [
        "### GGUF / llama.cpp Conversion\n",
        "To save to `GGUF` / `llama.cpp`, we support it natively now! We clone `llama.cpp` and we default save it to `q8_0`. We allow all methods like `q4_k_m`. Use `save_pretrained_gguf` for local saving and `push_to_hub_gguf` for uploading to HF.\n",
        "\n",
        "Some supported quant methods (full list on our [Wiki page](https://github.com/unslothai/unsloth/wiki#gguf-quantization-options)):\n",
        "* `q8_0` - Fast conversion. High resource use, but generally acceptable.\n",
        "* `q4_k_m` - Recommended. Uses Q6_K for half of the attention.wv and feed_forward.w2 tensors, else Q4_K.\n",
        "* `q5_k_m` - Recommended. Uses Q6_K for half of the attention.wv and feed_forward.w2 tensors, else Q5_K.\n",
        "\n",
        "[**NEW**] To finetune and auto export to Ollama, try our [Ollama notebook](https://colab.research.google.com/github/unslothai/notebooks/blob/main/nb/Llama3_(8B)-Ollama.ipynb)"
      ]
    },
    {
      "cell_type": "code",
      "execution_count": null,
      "metadata": {
        "id": "QyEjW-WuYQIm"
      },
      "outputs": [],
      "source": [
        "# Save to 8bit Q8_0\n",
        "if False: model.save_pretrained_gguf(\"model\", tokenizer,)\n",
        "# Remember to go to https://huggingface.co/settings/tokens for a token!\n",
        "# And change hf to your username!\n",
        "if False: model.push_to_hub_gguf(\"hf/model\", tokenizer, token = \"\")\n",
        "\n",
        "# Save to 16bit GGUF\n",
        "if False: model.save_pretrained_gguf(\"model\", tokenizer, quantization_method = \"f16\")\n",
        "if False: model.push_to_hub_gguf(\"hf/model\", tokenizer, quantization_method = \"f16\", token = \"\")\n",
        "\n",
        "# Save to q4_k_m GGUF\n",
        "if False: model.save_pretrained_gguf(\"model\", tokenizer, quantization_method = \"q4_k_m\")\n",
        "if False: model.push_to_hub_gguf(\"hf/model\", tokenizer, quantization_method = \"q4_k_m\", token = \"\")\n",
        "\n",
        "# Save to multiple GGUF options - much faster if you want multiple!\n",
        "if False:\n",
        "    model.push_to_hub_gguf(\n",
        "        \"hf/model\", # Change hf to your username!\n",
        "        tokenizer,\n",
        "        quantization_method = [\"q4_k_m\", \"q8_0\", \"q5_k_m\",],\n",
        "        token = \"\",\n",
        "    )"
      ]
    },
    {
      "cell_type": "markdown",
      "metadata": {
        "id": "V15Yhj1V9lwG"
      },
      "source": [
        "Now, use the `model-unsloth.gguf` file or `model-unsloth-Q4_K_M.gguf` file in llama.cpp or a UI based system like Jan or Open WebUI. You can install Jan [here](https://github.com/janhq/jan) and Open WebUI [here](https://github.com/open-webui/open-webui)\n",
        "\n",
        "And we're done! If you have any questions on Unsloth, we have a [Discord](https://discord.gg/unsloth) channel! If you find any bugs or want to keep updated with the latest LLM stuff, or need help, join projects etc, feel free to join our Discord!\n",
        "\n",
        "Some other links:\n",
        "1. Train your own reasoning model - Llama GRPO notebook [Free Colab](https://colab.research.google.com/github/unslothai/notebooks/blob/main/nb/Llama3.1_(8B)-GRPO.ipynb)\n",
        "2. Saving finetunes to Ollama. [Free notebook](https://colab.research.google.com/github/unslothai/notebooks/blob/main/nb/Llama3_(8B)-Ollama.ipynb)\n",
        "3. Llama 3.2 Vision finetuning - Radiography use case. [Free Colab](https://colab.research.google.com/github/unslothai/notebooks/blob/main/nb/Llama3.2_(11B)-Vision.ipynb)\n",
        "6. See notebooks for DPO, ORPO, Continued pretraining, conversational finetuning and more on our [documentation](https://docs.unsloth.ai/get-started/unsloth-notebooks)!\n",
        "\n",
        "<div class=\"align-center\">\n",
        "  <a href=\"https://unsloth.ai\"><img src=\"https://github.com/unslothai/unsloth/raw/main/images/unsloth%20new%20logo.png\" width=\"115\"></a>\n",
        "  <a href=\"https://discord.gg/unsloth\"><img src=\"https://github.com/unslothai/unsloth/raw/main/images/Discord.png\" width=\"145\"></a>\n",
        "  <a href=\"https://docs.unsloth.ai/\"><img src=\"https://github.com/unslothai/unsloth/blob/main/images/documentation%20green%20button.png?raw=true\" width=\"125\"></a>\n",
        "\n",
        "  Join Discord if you need help + ⭐️ <i>Star us on <a href=\"https://github.com/unslothai/unsloth\">Github</a> </i> ⭐️\n",
        "</div>\n"
      ]
    }
  ],
  "metadata": {
    "accelerator": "GPU",
    "colab": {
      "gpuType": "T4",
      "provenance": [],
      "include_colab_link": true
    },
    "kernelspec": {
      "display_name": "Python 3",
      "name": "python3"
    },
    "language_info": {
      "name": "python"
    },
    "widgets": {
      "application/vnd.jupyter.widget-state+json": {
        "5e32cde8bae04944acb9b81d72083d9e": {
          "model_module": "@jupyter-widgets/controls",
          "model_name": "HBoxModel",
          "model_module_version": "1.5.0",
          "state": {
            "_dom_classes": [],
            "_model_module": "@jupyter-widgets/controls",
            "_model_module_version": "1.5.0",
            "_model_name": "HBoxModel",
            "_view_count": null,
            "_view_module": "@jupyter-widgets/controls",
            "_view_module_version": "1.5.0",
            "_view_name": "HBoxView",
            "box_style": "",
            "children": [
              "IPY_MODEL_8c310891371442e7ace9bb2cb427f157",
              "IPY_MODEL_e79bc585dceb4cf78d07b006517de7da",
              "IPY_MODEL_acab127a93654604ae5c7b2b3241e262"
            ],
            "layout": "IPY_MODEL_12630f33d40541b6bcb63b86be4b340c"
          }
        },
        "8c310891371442e7ace9bb2cb427f157": {
          "model_module": "@jupyter-widgets/controls",
          "model_name": "HTMLModel",
          "model_module_version": "1.5.0",
          "state": {
            "_dom_classes": [],
            "_model_module": "@jupyter-widgets/controls",
            "_model_module_version": "1.5.0",
            "_model_name": "HTMLModel",
            "_view_count": null,
            "_view_module": "@jupyter-widgets/controls",
            "_view_module_version": "1.5.0",
            "_view_name": "HTMLView",
            "description": "",
            "description_tooltip": null,
            "layout": "IPY_MODEL_dcd27e26dd6c4f5a80d4ee674e3a1941",
            "placeholder": "​",
            "style": "IPY_MODEL_13ac50082b6744a2b70b2bf785b5299c",
            "value": "Unsloth: Tokenizing [&quot;text&quot;] (num_proc=2): 100%"
          }
        },
        "e79bc585dceb4cf78d07b006517de7da": {
          "model_module": "@jupyter-widgets/controls",
          "model_name": "FloatProgressModel",
          "model_module_version": "1.5.0",
          "state": {
            "_dom_classes": [],
            "_model_module": "@jupyter-widgets/controls",
            "_model_module_version": "1.5.0",
            "_model_name": "FloatProgressModel",
            "_view_count": null,
            "_view_module": "@jupyter-widgets/controls",
            "_view_module_version": "1.5.0",
            "_view_name": "ProgressView",
            "bar_style": "success",
            "description": "",
            "description_tooltip": null,
            "layout": "IPY_MODEL_e2bb8a2af8ba451fa113d77556080d3e",
            "max": 59,
            "min": 0,
            "orientation": "horizontal",
            "style": "IPY_MODEL_8a4ffe2fa4e04945b816752992077a79",
            "value": 59
          }
        },
        "acab127a93654604ae5c7b2b3241e262": {
          "model_module": "@jupyter-widgets/controls",
          "model_name": "HTMLModel",
          "model_module_version": "1.5.0",
          "state": {
            "_dom_classes": [],
            "_model_module": "@jupyter-widgets/controls",
            "_model_module_version": "1.5.0",
            "_model_name": "HTMLModel",
            "_view_count": null,
            "_view_module": "@jupyter-widgets/controls",
            "_view_module_version": "1.5.0",
            "_view_name": "HTMLView",
            "description": "",
            "description_tooltip": null,
            "layout": "IPY_MODEL_d796eb8672674433ba1d6378d7140623",
            "placeholder": "​",
            "style": "IPY_MODEL_44e07fc58e3e44fb9223e7cec91847d6",
            "value": " 59/59 [00:01&lt;00:00, 47.67 examples/s]"
          }
        },
        "12630f33d40541b6bcb63b86be4b340c": {
          "model_module": "@jupyter-widgets/base",
          "model_name": "LayoutModel",
          "model_module_version": "1.2.0",
          "state": {
            "_model_module": "@jupyter-widgets/base",
            "_model_module_version": "1.2.0",
            "_model_name": "LayoutModel",
            "_view_count": null,
            "_view_module": "@jupyter-widgets/base",
            "_view_module_version": "1.2.0",
            "_view_name": "LayoutView",
            "align_content": null,
            "align_items": null,
            "align_self": null,
            "border": null,
            "bottom": null,
            "display": null,
            "flex": null,
            "flex_flow": null,
            "grid_area": null,
            "grid_auto_columns": null,
            "grid_auto_flow": null,
            "grid_auto_rows": null,
            "grid_column": null,
            "grid_gap": null,
            "grid_row": null,
            "grid_template_areas": null,
            "grid_template_columns": null,
            "grid_template_rows": null,
            "height": null,
            "justify_content": null,
            "justify_items": null,
            "left": null,
            "margin": null,
            "max_height": null,
            "max_width": null,
            "min_height": null,
            "min_width": null,
            "object_fit": null,
            "object_position": null,
            "order": null,
            "overflow": null,
            "overflow_x": null,
            "overflow_y": null,
            "padding": null,
            "right": null,
            "top": null,
            "visibility": null,
            "width": null
          }
        },
        "dcd27e26dd6c4f5a80d4ee674e3a1941": {
          "model_module": "@jupyter-widgets/base",
          "model_name": "LayoutModel",
          "model_module_version": "1.2.0",
          "state": {
            "_model_module": "@jupyter-widgets/base",
            "_model_module_version": "1.2.0",
            "_model_name": "LayoutModel",
            "_view_count": null,
            "_view_module": "@jupyter-widgets/base",
            "_view_module_version": "1.2.0",
            "_view_name": "LayoutView",
            "align_content": null,
            "align_items": null,
            "align_self": null,
            "border": null,
            "bottom": null,
            "display": null,
            "flex": null,
            "flex_flow": null,
            "grid_area": null,
            "grid_auto_columns": null,
            "grid_auto_flow": null,
            "grid_auto_rows": null,
            "grid_column": null,
            "grid_gap": null,
            "grid_row": null,
            "grid_template_areas": null,
            "grid_template_columns": null,
            "grid_template_rows": null,
            "height": null,
            "justify_content": null,
            "justify_items": null,
            "left": null,
            "margin": null,
            "max_height": null,
            "max_width": null,
            "min_height": null,
            "min_width": null,
            "object_fit": null,
            "object_position": null,
            "order": null,
            "overflow": null,
            "overflow_x": null,
            "overflow_y": null,
            "padding": null,
            "right": null,
            "top": null,
            "visibility": null,
            "width": null
          }
        },
        "13ac50082b6744a2b70b2bf785b5299c": {
          "model_module": "@jupyter-widgets/controls",
          "model_name": "DescriptionStyleModel",
          "model_module_version": "1.5.0",
          "state": {
            "_model_module": "@jupyter-widgets/controls",
            "_model_module_version": "1.5.0",
            "_model_name": "DescriptionStyleModel",
            "_view_count": null,
            "_view_module": "@jupyter-widgets/base",
            "_view_module_version": "1.2.0",
            "_view_name": "StyleView",
            "description_width": ""
          }
        },
        "e2bb8a2af8ba451fa113d77556080d3e": {
          "model_module": "@jupyter-widgets/base",
          "model_name": "LayoutModel",
          "model_module_version": "1.2.0",
          "state": {
            "_model_module": "@jupyter-widgets/base",
            "_model_module_version": "1.2.0",
            "_model_name": "LayoutModel",
            "_view_count": null,
            "_view_module": "@jupyter-widgets/base",
            "_view_module_version": "1.2.0",
            "_view_name": "LayoutView",
            "align_content": null,
            "align_items": null,
            "align_self": null,
            "border": null,
            "bottom": null,
            "display": null,
            "flex": null,
            "flex_flow": null,
            "grid_area": null,
            "grid_auto_columns": null,
            "grid_auto_flow": null,
            "grid_auto_rows": null,
            "grid_column": null,
            "grid_gap": null,
            "grid_row": null,
            "grid_template_areas": null,
            "grid_template_columns": null,
            "grid_template_rows": null,
            "height": null,
            "justify_content": null,
            "justify_items": null,
            "left": null,
            "margin": null,
            "max_height": null,
            "max_width": null,
            "min_height": null,
            "min_width": null,
            "object_fit": null,
            "object_position": null,
            "order": null,
            "overflow": null,
            "overflow_x": null,
            "overflow_y": null,
            "padding": null,
            "right": null,
            "top": null,
            "visibility": null,
            "width": null
          }
        },
        "8a4ffe2fa4e04945b816752992077a79": {
          "model_module": "@jupyter-widgets/controls",
          "model_name": "ProgressStyleModel",
          "model_module_version": "1.5.0",
          "state": {
            "_model_module": "@jupyter-widgets/controls",
            "_model_module_version": "1.5.0",
            "_model_name": "ProgressStyleModel",
            "_view_count": null,
            "_view_module": "@jupyter-widgets/base",
            "_view_module_version": "1.2.0",
            "_view_name": "StyleView",
            "bar_color": null,
            "description_width": ""
          }
        },
        "d796eb8672674433ba1d6378d7140623": {
          "model_module": "@jupyter-widgets/base",
          "model_name": "LayoutModel",
          "model_module_version": "1.2.0",
          "state": {
            "_model_module": "@jupyter-widgets/base",
            "_model_module_version": "1.2.0",
            "_model_name": "LayoutModel",
            "_view_count": null,
            "_view_module": "@jupyter-widgets/base",
            "_view_module_version": "1.2.0",
            "_view_name": "LayoutView",
            "align_content": null,
            "align_items": null,
            "align_self": null,
            "border": null,
            "bottom": null,
            "display": null,
            "flex": null,
            "flex_flow": null,
            "grid_area": null,
            "grid_auto_columns": null,
            "grid_auto_flow": null,
            "grid_auto_rows": null,
            "grid_column": null,
            "grid_gap": null,
            "grid_row": null,
            "grid_template_areas": null,
            "grid_template_columns": null,
            "grid_template_rows": null,
            "height": null,
            "justify_content": null,
            "justify_items": null,
            "left": null,
            "margin": null,
            "max_height": null,
            "max_width": null,
            "min_height": null,
            "min_width": null,
            "object_fit": null,
            "object_position": null,
            "order": null,
            "overflow": null,
            "overflow_x": null,
            "overflow_y": null,
            "padding": null,
            "right": null,
            "top": null,
            "visibility": null,
            "width": null
          }
        },
        "44e07fc58e3e44fb9223e7cec91847d6": {
          "model_module": "@jupyter-widgets/controls",
          "model_name": "DescriptionStyleModel",
          "model_module_version": "1.5.0",
          "state": {
            "_model_module": "@jupyter-widgets/controls",
            "_model_module_version": "1.5.0",
            "_model_name": "DescriptionStyleModel",
            "_view_count": null,
            "_view_module": "@jupyter-widgets/base",
            "_view_module_version": "1.2.0",
            "_view_name": "StyleView",
            "description_width": ""
          }
        },
        "1cc24ae1ea2e498f8ce1b7afb016f946": {
          "model_module": "@jupyter-widgets/controls",
          "model_name": "HBoxModel",
          "model_module_version": "1.5.0",
          "state": {
            "_dom_classes": [],
            "_model_module": "@jupyter-widgets/controls",
            "_model_module_version": "1.5.0",
            "_model_name": "HBoxModel",
            "_view_count": null,
            "_view_module": "@jupyter-widgets/controls",
            "_view_module_version": "1.5.0",
            "_view_name": "HBoxView",
            "box_style": "",
            "children": [
              "IPY_MODEL_3f99af7066114110bc28d113ee32072d",
              "IPY_MODEL_fa6ed0d48fd04726b9a6bc92b5ec3708",
              "IPY_MODEL_2aee8e461c3144c382532649cc067f61"
            ],
            "layout": "IPY_MODEL_41ff4ea73396420f952b396560249270"
          }
        },
        "3f99af7066114110bc28d113ee32072d": {
          "model_module": "@jupyter-widgets/controls",
          "model_name": "HTMLModel",
          "model_module_version": "1.5.0",
          "state": {
            "_dom_classes": [],
            "_model_module": "@jupyter-widgets/controls",
            "_model_module_version": "1.5.0",
            "_model_name": "HTMLModel",
            "_view_count": null,
            "_view_module": "@jupyter-widgets/controls",
            "_view_module_version": "1.5.0",
            "_view_name": "HTMLView",
            "description": "",
            "description_tooltip": null,
            "layout": "IPY_MODEL_74afa76a26f245519932d02b8042e5ab",
            "placeholder": "​",
            "style": "IPY_MODEL_c9a4ebf0f16d499a917034f45ec7050f",
            "value": "Processed prompts: 100%"
          }
        },
        "fa6ed0d48fd04726b9a6bc92b5ec3708": {
          "model_module": "@jupyter-widgets/controls",
          "model_name": "FloatProgressModel",
          "model_module_version": "1.5.0",
          "state": {
            "_dom_classes": [],
            "_model_module": "@jupyter-widgets/controls",
            "_model_module_version": "1.5.0",
            "_model_name": "FloatProgressModel",
            "_view_count": null,
            "_view_module": "@jupyter-widgets/controls",
            "_view_module_version": "1.5.0",
            "_view_name": "ProgressView",
            "bar_style": "success",
            "description": "",
            "description_tooltip": null,
            "layout": "IPY_MODEL_aee30c91cc634ee2b8dd9ed9238c8377",
            "max": 1,
            "min": 0,
            "orientation": "horizontal",
            "style": "IPY_MODEL_6e482123e4aa4a3195a5b5a5d4289a20",
            "value": 1
          }
        },
        "2aee8e461c3144c382532649cc067f61": {
          "model_module": "@jupyter-widgets/controls",
          "model_name": "HTMLModel",
          "model_module_version": "1.5.0",
          "state": {
            "_dom_classes": [],
            "_model_module": "@jupyter-widgets/controls",
            "_model_module_version": "1.5.0",
            "_model_name": "HTMLModel",
            "_view_count": null,
            "_view_module": "@jupyter-widgets/controls",
            "_view_module_version": "1.5.0",
            "_view_name": "HTMLView",
            "description": "",
            "description_tooltip": null,
            "layout": "IPY_MODEL_13824ab11776462199dc487e3dd9f33f",
            "placeholder": "​",
            "style": "IPY_MODEL_e82075463a424e5e8dc62dee8ff2686e",
            "value": " 1/1 [00:41&lt;00:00, 41.39s/it, est. speed input: 0.24 toks/s, output: 24.74 toks/s]"
          }
        },
        "41ff4ea73396420f952b396560249270": {
          "model_module": "@jupyter-widgets/base",
          "model_name": "LayoutModel",
          "model_module_version": "1.2.0",
          "state": {
            "_model_module": "@jupyter-widgets/base",
            "_model_module_version": "1.2.0",
            "_model_name": "LayoutModel",
            "_view_count": null,
            "_view_module": "@jupyter-widgets/base",
            "_view_module_version": "1.2.0",
            "_view_name": "LayoutView",
            "align_content": null,
            "align_items": null,
            "align_self": null,
            "border": null,
            "bottom": null,
            "display": "inline-flex",
            "flex": null,
            "flex_flow": "row wrap",
            "grid_area": null,
            "grid_auto_columns": null,
            "grid_auto_flow": null,
            "grid_auto_rows": null,
            "grid_column": null,
            "grid_gap": null,
            "grid_row": null,
            "grid_template_areas": null,
            "grid_template_columns": null,
            "grid_template_rows": null,
            "height": null,
            "justify_content": null,
            "justify_items": null,
            "left": null,
            "margin": null,
            "max_height": null,
            "max_width": null,
            "min_height": null,
            "min_width": null,
            "object_fit": null,
            "object_position": null,
            "order": null,
            "overflow": null,
            "overflow_x": null,
            "overflow_y": null,
            "padding": null,
            "right": null,
            "top": null,
            "visibility": null,
            "width": "100%"
          }
        },
        "74afa76a26f245519932d02b8042e5ab": {
          "model_module": "@jupyter-widgets/base",
          "model_name": "LayoutModel",
          "model_module_version": "1.2.0",
          "state": {
            "_model_module": "@jupyter-widgets/base",
            "_model_module_version": "1.2.0",
            "_model_name": "LayoutModel",
            "_view_count": null,
            "_view_module": "@jupyter-widgets/base",
            "_view_module_version": "1.2.0",
            "_view_name": "LayoutView",
            "align_content": null,
            "align_items": null,
            "align_self": null,
            "border": null,
            "bottom": null,
            "display": null,
            "flex": null,
            "flex_flow": null,
            "grid_area": null,
            "grid_auto_columns": null,
            "grid_auto_flow": null,
            "grid_auto_rows": null,
            "grid_column": null,
            "grid_gap": null,
            "grid_row": null,
            "grid_template_areas": null,
            "grid_template_columns": null,
            "grid_template_rows": null,
            "height": null,
            "justify_content": null,
            "justify_items": null,
            "left": null,
            "margin": null,
            "max_height": null,
            "max_width": null,
            "min_height": null,
            "min_width": null,
            "object_fit": null,
            "object_position": null,
            "order": null,
            "overflow": null,
            "overflow_x": null,
            "overflow_y": null,
            "padding": null,
            "right": null,
            "top": null,
            "visibility": null,
            "width": null
          }
        },
        "c9a4ebf0f16d499a917034f45ec7050f": {
          "model_module": "@jupyter-widgets/controls",
          "model_name": "DescriptionStyleModel",
          "model_module_version": "1.5.0",
          "state": {
            "_model_module": "@jupyter-widgets/controls",
            "_model_module_version": "1.5.0",
            "_model_name": "DescriptionStyleModel",
            "_view_count": null,
            "_view_module": "@jupyter-widgets/base",
            "_view_module_version": "1.2.0",
            "_view_name": "StyleView",
            "description_width": ""
          }
        },
        "aee30c91cc634ee2b8dd9ed9238c8377": {
          "model_module": "@jupyter-widgets/base",
          "model_name": "LayoutModel",
          "model_module_version": "1.2.0",
          "state": {
            "_model_module": "@jupyter-widgets/base",
            "_model_module_version": "1.2.0",
            "_model_name": "LayoutModel",
            "_view_count": null,
            "_view_module": "@jupyter-widgets/base",
            "_view_module_version": "1.2.0",
            "_view_name": "LayoutView",
            "align_content": null,
            "align_items": null,
            "align_self": null,
            "border": null,
            "bottom": null,
            "display": null,
            "flex": "2",
            "flex_flow": null,
            "grid_area": null,
            "grid_auto_columns": null,
            "grid_auto_flow": null,
            "grid_auto_rows": null,
            "grid_column": null,
            "grid_gap": null,
            "grid_row": null,
            "grid_template_areas": null,
            "grid_template_columns": null,
            "grid_template_rows": null,
            "height": null,
            "justify_content": null,
            "justify_items": null,
            "left": null,
            "margin": null,
            "max_height": null,
            "max_width": null,
            "min_height": null,
            "min_width": null,
            "object_fit": null,
            "object_position": null,
            "order": null,
            "overflow": null,
            "overflow_x": null,
            "overflow_y": null,
            "padding": null,
            "right": null,
            "top": null,
            "visibility": null,
            "width": null
          }
        },
        "6e482123e4aa4a3195a5b5a5d4289a20": {
          "model_module": "@jupyter-widgets/controls",
          "model_name": "ProgressStyleModel",
          "model_module_version": "1.5.0",
          "state": {
            "_model_module": "@jupyter-widgets/controls",
            "_model_module_version": "1.5.0",
            "_model_name": "ProgressStyleModel",
            "_view_count": null,
            "_view_module": "@jupyter-widgets/base",
            "_view_module_version": "1.2.0",
            "_view_name": "StyleView",
            "bar_color": null,
            "description_width": ""
          }
        },
        "13824ab11776462199dc487e3dd9f33f": {
          "model_module": "@jupyter-widgets/base",
          "model_name": "LayoutModel",
          "model_module_version": "1.2.0",
          "state": {
            "_model_module": "@jupyter-widgets/base",
            "_model_module_version": "1.2.0",
            "_model_name": "LayoutModel",
            "_view_count": null,
            "_view_module": "@jupyter-widgets/base",
            "_view_module_version": "1.2.0",
            "_view_name": "LayoutView",
            "align_content": null,
            "align_items": null,
            "align_self": null,
            "border": null,
            "bottom": null,
            "display": null,
            "flex": null,
            "flex_flow": null,
            "grid_area": null,
            "grid_auto_columns": null,
            "grid_auto_flow": null,
            "grid_auto_rows": null,
            "grid_column": null,
            "grid_gap": null,
            "grid_row": null,
            "grid_template_areas": null,
            "grid_template_columns": null,
            "grid_template_rows": null,
            "height": null,
            "justify_content": null,
            "justify_items": null,
            "left": null,
            "margin": null,
            "max_height": null,
            "max_width": null,
            "min_height": null,
            "min_width": null,
            "object_fit": null,
            "object_position": null,
            "order": null,
            "overflow": null,
            "overflow_x": null,
            "overflow_y": null,
            "padding": null,
            "right": null,
            "top": null,
            "visibility": null,
            "width": null
          }
        },
        "e82075463a424e5e8dc62dee8ff2686e": {
          "model_module": "@jupyter-widgets/controls",
          "model_name": "DescriptionStyleModel",
          "model_module_version": "1.5.0",
          "state": {
            "_model_module": "@jupyter-widgets/controls",
            "_model_module_version": "1.5.0",
            "_model_name": "DescriptionStyleModel",
            "_view_count": null,
            "_view_module": "@jupyter-widgets/base",
            "_view_module_version": "1.2.0",
            "_view_name": "StyleView",
            "description_width": ""
          }
        },
        "4e5ebf7203b2467abdd0b871d6b72f7a": {
          "model_module": "@jupyter-widgets/controls",
          "model_name": "HBoxModel",
          "model_module_version": "1.5.0",
          "state": {
            "_dom_classes": [],
            "_model_module": "@jupyter-widgets/controls",
            "_model_module_version": "1.5.0",
            "_model_name": "HBoxModel",
            "_view_count": null,
            "_view_module": "@jupyter-widgets/controls",
            "_view_module_version": "1.5.0",
            "_view_name": "HBoxView",
            "box_style": "",
            "children": [
              "IPY_MODEL_f2fd49b789d3418292c1bcd1439e2e84",
              "IPY_MODEL_11f935907b9e469e8167c7669764ae4c",
              "IPY_MODEL_81d28dde142049519cd27f87c68c92fa"
            ],
            "layout": "IPY_MODEL_c73269d5f6134c539249d28e7809a003"
          }
        },
        "f2fd49b789d3418292c1bcd1439e2e84": {
          "model_module": "@jupyter-widgets/controls",
          "model_name": "HTMLModel",
          "model_module_version": "1.5.0",
          "state": {
            "_dom_classes": [],
            "_model_module": "@jupyter-widgets/controls",
            "_model_module_version": "1.5.0",
            "_model_name": "HTMLModel",
            "_view_count": null,
            "_view_module": "@jupyter-widgets/controls",
            "_view_module_version": "1.5.0",
            "_view_name": "HTMLView",
            "description": "",
            "description_tooltip": null,
            "layout": "IPY_MODEL_b9f877c8eb5c4f78821d40f27a867f09",
            "placeholder": "​",
            "style": "IPY_MODEL_493acc3b55f441219300802810be7004",
            "value": "Processed prompts: 100%"
          }
        },
        "11f935907b9e469e8167c7669764ae4c": {
          "model_module": "@jupyter-widgets/controls",
          "model_name": "FloatProgressModel",
          "model_module_version": "1.5.0",
          "state": {
            "_dom_classes": [],
            "_model_module": "@jupyter-widgets/controls",
            "_model_module_version": "1.5.0",
            "_model_name": "FloatProgressModel",
            "_view_count": null,
            "_view_module": "@jupyter-widgets/controls",
            "_view_module_version": "1.5.0",
            "_view_name": "ProgressView",
            "bar_style": "success",
            "description": "",
            "description_tooltip": null,
            "layout": "IPY_MODEL_eccb880d39da499db25b740262916944",
            "max": 1,
            "min": 0,
            "orientation": "horizontal",
            "style": "IPY_MODEL_9a51e7c117924754acddc2d2750d3ac0",
            "value": 1
          }
        },
        "81d28dde142049519cd27f87c68c92fa": {
          "model_module": "@jupyter-widgets/controls",
          "model_name": "HTMLModel",
          "model_module_version": "1.5.0",
          "state": {
            "_dom_classes": [],
            "_model_module": "@jupyter-widgets/controls",
            "_model_module_version": "1.5.0",
            "_model_name": "HTMLModel",
            "_view_count": null,
            "_view_module": "@jupyter-widgets/controls",
            "_view_module_version": "1.5.0",
            "_view_name": "HTMLView",
            "description": "",
            "description_tooltip": null,
            "layout": "IPY_MODEL_85cf8527998d49c18d89f8d82271c534",
            "placeholder": "​",
            "style": "IPY_MODEL_fe778d62c7f34683810ad613114ae4c1",
            "value": " 1/1 [01:33&lt;00:00, 93.24s/it, est. speed input: 0.62 toks/s, output: 21.35 toks/s]"
          }
        },
        "c73269d5f6134c539249d28e7809a003": {
          "model_module": "@jupyter-widgets/base",
          "model_name": "LayoutModel",
          "model_module_version": "1.2.0",
          "state": {
            "_model_module": "@jupyter-widgets/base",
            "_model_module_version": "1.2.0",
            "_model_name": "LayoutModel",
            "_view_count": null,
            "_view_module": "@jupyter-widgets/base",
            "_view_module_version": "1.2.0",
            "_view_name": "LayoutView",
            "align_content": null,
            "align_items": null,
            "align_self": null,
            "border": null,
            "bottom": null,
            "display": "inline-flex",
            "flex": null,
            "flex_flow": "row wrap",
            "grid_area": null,
            "grid_auto_columns": null,
            "grid_auto_flow": null,
            "grid_auto_rows": null,
            "grid_column": null,
            "grid_gap": null,
            "grid_row": null,
            "grid_template_areas": null,
            "grid_template_columns": null,
            "grid_template_rows": null,
            "height": null,
            "justify_content": null,
            "justify_items": null,
            "left": null,
            "margin": null,
            "max_height": null,
            "max_width": null,
            "min_height": null,
            "min_width": null,
            "object_fit": null,
            "object_position": null,
            "order": null,
            "overflow": null,
            "overflow_x": null,
            "overflow_y": null,
            "padding": null,
            "right": null,
            "top": null,
            "visibility": null,
            "width": "100%"
          }
        },
        "b9f877c8eb5c4f78821d40f27a867f09": {
          "model_module": "@jupyter-widgets/base",
          "model_name": "LayoutModel",
          "model_module_version": "1.2.0",
          "state": {
            "_model_module": "@jupyter-widgets/base",
            "_model_module_version": "1.2.0",
            "_model_name": "LayoutModel",
            "_view_count": null,
            "_view_module": "@jupyter-widgets/base",
            "_view_module_version": "1.2.0",
            "_view_name": "LayoutView",
            "align_content": null,
            "align_items": null,
            "align_self": null,
            "border": null,
            "bottom": null,
            "display": null,
            "flex": null,
            "flex_flow": null,
            "grid_area": null,
            "grid_auto_columns": null,
            "grid_auto_flow": null,
            "grid_auto_rows": null,
            "grid_column": null,
            "grid_gap": null,
            "grid_row": null,
            "grid_template_areas": null,
            "grid_template_columns": null,
            "grid_template_rows": null,
            "height": null,
            "justify_content": null,
            "justify_items": null,
            "left": null,
            "margin": null,
            "max_height": null,
            "max_width": null,
            "min_height": null,
            "min_width": null,
            "object_fit": null,
            "object_position": null,
            "order": null,
            "overflow": null,
            "overflow_x": null,
            "overflow_y": null,
            "padding": null,
            "right": null,
            "top": null,
            "visibility": null,
            "width": null
          }
        },
        "493acc3b55f441219300802810be7004": {
          "model_module": "@jupyter-widgets/controls",
          "model_name": "DescriptionStyleModel",
          "model_module_version": "1.5.0",
          "state": {
            "_model_module": "@jupyter-widgets/controls",
            "_model_module_version": "1.5.0",
            "_model_name": "DescriptionStyleModel",
            "_view_count": null,
            "_view_module": "@jupyter-widgets/base",
            "_view_module_version": "1.2.0",
            "_view_name": "StyleView",
            "description_width": ""
          }
        },
        "eccb880d39da499db25b740262916944": {
          "model_module": "@jupyter-widgets/base",
          "model_name": "LayoutModel",
          "model_module_version": "1.2.0",
          "state": {
            "_model_module": "@jupyter-widgets/base",
            "_model_module_version": "1.2.0",
            "_model_name": "LayoutModel",
            "_view_count": null,
            "_view_module": "@jupyter-widgets/base",
            "_view_module_version": "1.2.0",
            "_view_name": "LayoutView",
            "align_content": null,
            "align_items": null,
            "align_self": null,
            "border": null,
            "bottom": null,
            "display": null,
            "flex": "2",
            "flex_flow": null,
            "grid_area": null,
            "grid_auto_columns": null,
            "grid_auto_flow": null,
            "grid_auto_rows": null,
            "grid_column": null,
            "grid_gap": null,
            "grid_row": null,
            "grid_template_areas": null,
            "grid_template_columns": null,
            "grid_template_rows": null,
            "height": null,
            "justify_content": null,
            "justify_items": null,
            "left": null,
            "margin": null,
            "max_height": null,
            "max_width": null,
            "min_height": null,
            "min_width": null,
            "object_fit": null,
            "object_position": null,
            "order": null,
            "overflow": null,
            "overflow_x": null,
            "overflow_y": null,
            "padding": null,
            "right": null,
            "top": null,
            "visibility": null,
            "width": null
          }
        },
        "9a51e7c117924754acddc2d2750d3ac0": {
          "model_module": "@jupyter-widgets/controls",
          "model_name": "ProgressStyleModel",
          "model_module_version": "1.5.0",
          "state": {
            "_model_module": "@jupyter-widgets/controls",
            "_model_module_version": "1.5.0",
            "_model_name": "ProgressStyleModel",
            "_view_count": null,
            "_view_module": "@jupyter-widgets/base",
            "_view_module_version": "1.2.0",
            "_view_name": "StyleView",
            "bar_color": null,
            "description_width": ""
          }
        },
        "85cf8527998d49c18d89f8d82271c534": {
          "model_module": "@jupyter-widgets/base",
          "model_name": "LayoutModel",
          "model_module_version": "1.2.0",
          "state": {
            "_model_module": "@jupyter-widgets/base",
            "_model_module_version": "1.2.0",
            "_model_name": "LayoutModel",
            "_view_count": null,
            "_view_module": "@jupyter-widgets/base",
            "_view_module_version": "1.2.0",
            "_view_name": "LayoutView",
            "align_content": null,
            "align_items": null,
            "align_self": null,
            "border": null,
            "bottom": null,
            "display": null,
            "flex": null,
            "flex_flow": null,
            "grid_area": null,
            "grid_auto_columns": null,
            "grid_auto_flow": null,
            "grid_auto_rows": null,
            "grid_column": null,
            "grid_gap": null,
            "grid_row": null,
            "grid_template_areas": null,
            "grid_template_columns": null,
            "grid_template_rows": null,
            "height": null,
            "justify_content": null,
            "justify_items": null,
            "left": null,
            "margin": null,
            "max_height": null,
            "max_width": null,
            "min_height": null,
            "min_width": null,
            "object_fit": null,
            "object_position": null,
            "order": null,
            "overflow": null,
            "overflow_x": null,
            "overflow_y": null,
            "padding": null,
            "right": null,
            "top": null,
            "visibility": null,
            "width": null
          }
        },
        "fe778d62c7f34683810ad613114ae4c1": {
          "model_module": "@jupyter-widgets/controls",
          "model_name": "DescriptionStyleModel",
          "model_module_version": "1.5.0",
          "state": {
            "_model_module": "@jupyter-widgets/controls",
            "_model_module_version": "1.5.0",
            "_model_name": "DescriptionStyleModel",
            "_view_count": null,
            "_view_module": "@jupyter-widgets/base",
            "_view_module_version": "1.2.0",
            "_view_name": "StyleView",
            "description_width": ""
          }
        }
      }
    }
  },
  "nbformat": 4,
  "nbformat_minor": 0
}